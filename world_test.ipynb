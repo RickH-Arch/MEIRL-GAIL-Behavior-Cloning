
from grid_world.envGen_grid_world import GridWorld_envGen

world = GridWorld_envGen(10,10,
                         envs_img_folder_path="demo_dmeirl/demo_label/train",
                         experts_traj_filePath="demo_dmeirl/demo_expert_trajs_0205.csv",
                         target_svf_delta={50:1},
                         model_path=r"demo_dmeirl\demo_result\1_model.pth"
                         )
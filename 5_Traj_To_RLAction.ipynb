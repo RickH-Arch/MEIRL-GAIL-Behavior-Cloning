{
 "cells": [
  {
   "cell_type": "markdown",
   "metadata": {},
   "source": [
    "# Convert Trajectory to Reinforcement Learning Action\n",
    "\n",
    "将线性空间轨迹转换为网格空间轨迹，并导出State-Action-State Pair"
   ]
  },
  {
   "cell_type": "markdown",
   "metadata": {},
   "source": []
  }
 ],
 "metadata": {
  "language_info": {
   "name": "python"
  }
 },
 "nbformat": 4,
 "nbformat_minor": 2
}

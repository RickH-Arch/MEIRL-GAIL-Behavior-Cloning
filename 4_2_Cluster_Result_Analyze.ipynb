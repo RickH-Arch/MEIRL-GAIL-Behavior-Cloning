{
 "cells": [
  {
   "cell_type": "code",
   "execution_count": 1,
   "metadata": {},
   "outputs": [],
   "source": [
    "import pandas as pd\n",
    "import numpy as np\n",
    "import os\n",
    "import datetime\n",
    "import time\n",
    "from tqdm import tqdm\n",
    "\n",
    "import math\n",
    "\n",
    "from utils import utils,myplot\n",
    "\n",
    "import warnings\n",
    "warnings.filterwarnings('ignore')\n",
    "\n",
    "from importlib import reload"
   ]
  },
  {
   "cell_type": "code",
   "execution_count": 3,
   "metadata": {},
   "outputs": [
    {
     "data": {
      "text/html": [
       "<div>\n",
       "<style scoped>\n",
       "    .dataframe tbody tr th:only-of-type {\n",
       "        vertical-align: middle;\n",
       "    }\n",
       "\n",
       "    .dataframe tbody tr th {\n",
       "        vertical-align: top;\n",
       "    }\n",
       "\n",
       "    .dataframe thead th {\n",
       "        text-align: right;\n",
       "    }\n",
       "</style>\n",
       "<table border=\"1\" class=\"dataframe\">\n",
       "  <thead>\n",
       "    <tr style=\"text-align: right;\">\n",
       "      <th></th>\n",
       "      <th>a</th>\n",
       "      <th>r</th>\n",
       "      <th>t</th>\n",
       "      <th>m</th>\n",
       "      <th>ID</th>\n",
       "      <th>id_cluster</th>\n",
       "    </tr>\n",
       "  </thead>\n",
       "  <tbody>\n",
       "    <tr>\n",
       "      <th>0</th>\n",
       "      <td>95</td>\n",
       "      <td>-53</td>\n",
       "      <td>2022-07-06 00:00:02</td>\n",
       "      <td>7.6-48,74,38,155,214,98</td>\n",
       "      <td>0</td>\n",
       "      <td>0</td>\n",
       "    </tr>\n",
       "    <tr>\n",
       "      <th>1</th>\n",
       "      <td>95</td>\n",
       "      <td>-31</td>\n",
       "      <td>2022-07-06 07:07:49</td>\n",
       "      <td>7.6-48,74,38,155,214,98</td>\n",
       "      <td>0</td>\n",
       "      <td>0</td>\n",
       "    </tr>\n",
       "    <tr>\n",
       "      <th>2</th>\n",
       "      <td>19264</td>\n",
       "      <td>-44</td>\n",
       "      <td>2022-07-06 16:51:52</td>\n",
       "      <td>7.6-48,74,38,155,214,98</td>\n",
       "      <td>0</td>\n",
       "      <td>0</td>\n",
       "    </tr>\n",
       "    <tr>\n",
       "      <th>3</th>\n",
       "      <td>5</td>\n",
       "      <td>-52</td>\n",
       "      <td>2022-07-06 18:55:03</td>\n",
       "      <td>7.6-48,74,38,155,214,98</td>\n",
       "      <td>0</td>\n",
       "      <td>0</td>\n",
       "    </tr>\n",
       "    <tr>\n",
       "      <th>4</th>\n",
       "      <td>52142</td>\n",
       "      <td>-30</td>\n",
       "      <td>2022-07-06 19:15:05</td>\n",
       "      <td>7.6-48,74,38,155,214,98</td>\n",
       "      <td>0</td>\n",
       "      <td>0</td>\n",
       "    </tr>\n",
       "    <tr>\n",
       "      <th>...</th>\n",
       "      <td>...</td>\n",
       "      <td>...</td>\n",
       "      <td>...</td>\n",
       "      <td>...</td>\n",
       "      <td>...</td>\n",
       "      <td>...</td>\n",
       "    </tr>\n",
       "    <tr>\n",
       "      <th>17323</th>\n",
       "      <td>48311</td>\n",
       "      <td>-51</td>\n",
       "      <td>2022-08-07 19:54:48</td>\n",
       "      <td>8.7-144,173,247,200,14,93</td>\n",
       "      <td>1</td>\n",
       "      <td>2</td>\n",
       "    </tr>\n",
       "    <tr>\n",
       "      <th>17324</th>\n",
       "      <td>105</td>\n",
       "      <td>-32</td>\n",
       "      <td>2022-08-07 19:56:58</td>\n",
       "      <td>8.7-144,173,247,200,14,93</td>\n",
       "      <td>1</td>\n",
       "      <td>2</td>\n",
       "    </tr>\n",
       "    <tr>\n",
       "      <th>17325</th>\n",
       "      <td>105</td>\n",
       "      <td>-32</td>\n",
       "      <td>2022-08-07 19:57:24</td>\n",
       "      <td>8.7-144,173,247,200,14,93</td>\n",
       "      <td>1</td>\n",
       "      <td>2</td>\n",
       "    </tr>\n",
       "    <tr>\n",
       "      <th>17326</th>\n",
       "      <td>105</td>\n",
       "      <td>-34</td>\n",
       "      <td>2022-08-07 19:58:16</td>\n",
       "      <td>8.7-144,173,247,200,14,93</td>\n",
       "      <td>1</td>\n",
       "      <td>2</td>\n",
       "    </tr>\n",
       "    <tr>\n",
       "      <th>17327</th>\n",
       "      <td>105</td>\n",
       "      <td>-35</td>\n",
       "      <td>2022-08-07 19:58:55</td>\n",
       "      <td>8.7-144,173,247,200,14,93</td>\n",
       "      <td>1</td>\n",
       "      <td>2</td>\n",
       "    </tr>\n",
       "  </tbody>\n",
       "</table>\n",
       "<p>17328 rows × 6 columns</p>\n",
       "</div>"
      ],
      "text/plain": [
       "           a   r                   t                          m  ID  \\\n",
       "0         95 -53 2022-07-06 00:00:02    7.6-48,74,38,155,214,98   0   \n",
       "1         95 -31 2022-07-06 07:07:49    7.6-48,74,38,155,214,98   0   \n",
       "2      19264 -44 2022-07-06 16:51:52    7.6-48,74,38,155,214,98   0   \n",
       "3          5 -52 2022-07-06 18:55:03    7.6-48,74,38,155,214,98   0   \n",
       "4      52142 -30 2022-07-06 19:15:05    7.6-48,74,38,155,214,98   0   \n",
       "...      ...  ..                 ...                        ...  ..   \n",
       "17323  48311 -51 2022-08-07 19:54:48  8.7-144,173,247,200,14,93   1   \n",
       "17324    105 -32 2022-08-07 19:56:58  8.7-144,173,247,200,14,93   1   \n",
       "17325    105 -32 2022-08-07 19:57:24  8.7-144,173,247,200,14,93   1   \n",
       "17326    105 -34 2022-08-07 19:58:16  8.7-144,173,247,200,14,93   1   \n",
       "17327    105 -35 2022-08-07 19:58:55  8.7-144,173,247,200,14,93   1   \n",
       "\n",
       "       id_cluster  \n",
       "0               0  \n",
       "1               0  \n",
       "2               0  \n",
       "3               0  \n",
       "4               0  \n",
       "...           ...  \n",
       "17323           2  \n",
       "17324           2  \n",
       "17325           2  \n",
       "17326           2  \n",
       "17327           2  \n",
       "\n",
       "[17328 rows x 6 columns]"
      ]
     },
     "execution_count": 3,
     "metadata": {},
     "output_type": "execute_result"
    }
   ],
   "source": [
    "#get track data\n",
    "df = pd.read_csv(r'wifi_track_data\\dacang\\track_data\\dacang_track_data_3_final_1218.csv')\n",
    "df.t = pd.to_datetime(df.t)\n",
    "df.drop(['oriMac','calender','mark'],axis=1,inplace=True)\n",
    "\n",
    "\n",
    "#get cluster result\n",
    "df_resi = pd.read_csv(r'wifi_track_data\\dacang\\cluster_data\\dacang_track_data_resident.csv')\n",
    "df_tour = pd.read_csv(r'wifi_track_data\\dacang\\cluster_data\\dacang_track_data_tourist.csv')\n",
    "\n",
    "#filter track data and add ID & id_cluster\n",
    "df = df[df.m.isin(df_resi.mac.unique().tolist()+df_tour.mac.unique().tolist())]\n",
    "df = df.reset_index(drop=True)\n",
    "df['ID'] = [-1]*len(df)\n",
    "df['id_cluster'] = [-1]*len(df)\n",
    "for i,row in df.iterrows():\n",
    "    if row.m in df_resi.mac.values:\n",
    "        df.at[i,'ID'] = 0\n",
    "        df.at[i,'id_cluster'] = df_resi[df_resi.mac==row.m].cluster.values[0]\n",
    "    elif row.m in df_tour.mac.values:\n",
    "        df.at[i,'ID'] = 1\n",
    "        df.at[i,'id_cluster'] = df_tour[df_tour.mac==row.m].cluster.values[0]\n",
    "macl_list = df.m.unique()\n",
    "\n",
    "#get path & pos data\n",
    "df_wifipos = pd.read_csv('wifi_track_data/dacang/pos_data/wifi_pos_new_3_1218.csv')\n",
    "df_path = pd.read_csv('wifi_track_data/dacang/pos_data/path_pos.csv')\n",
    "\n",
    "df.to_csv(r'wifi_track_data\\dacang\\track_data\\dacang_track_data_4_clusterd_1220.csv',index=False)\n",
    "df"
   ]
  },
  {
   "cell_type": "code",
   "execution_count": 15,
   "metadata": {},
   "outputs": [],
   "source": [
    "df_resi = df[df.ID==0]\n",
    "df_tour = df[df.ID==1]"
   ]
  },
  {
   "cell_type": "code",
   "execution_count": 16,
   "metadata": {},
   "outputs": [
    {
     "name": "stderr",
     "output_type": "stream",
     "text": [
      " 13%|█▎        | 142/1098 [06:06<1:06:11,  4.15s/it]"
     ]
    }
   ],
   "source": [
    "myplot.Track2D_Restored(df,df_wifipos,df_path,show_freq=True,save='total')"
   ]
  },
  {
   "cell_type": "code",
   "execution_count": null,
   "metadata": {},
   "outputs": [],
   "source": [
    "myplot.Track2D_Restored(df_resi,df_wifipos,df_path,show_freq=True,save='resi')"
   ]
  },
  {
   "cell_type": "code",
   "execution_count": null,
   "metadata": {},
   "outputs": [],
   "source": [
    "myplot.Track2D_Restored(df_resi[df_resi.id_cluster == 0],df_wifipos,df_path,show_freq=True,save='resi_0')"
   ]
  },
  {
   "cell_type": "code",
   "execution_count": null,
   "metadata": {},
   "outputs": [],
   "source": [
    "myplot.Track2D_Restored(df_resi[df_resi.id_cluster == 1],df_wifipos,df_path,show_freq=True,save='resi_1')"
   ]
  },
  {
   "cell_type": "code",
   "execution_count": null,
   "metadata": {},
   "outputs": [],
   "source": [
    "myplot.Track2D_Restored(df_resi[df_resi.id_cluster == 2],df_wifipos,df_path,show_freq=True,save='resi_2')"
   ]
  },
  {
   "cell_type": "code",
   "execution_count": null,
   "metadata": {},
   "outputs": [],
   "source": [
    "myplot.Track2D_Restored(df_resi[df_resi.id_cluster == 3],df_wifipos,df_path,show_freq=True,save='resi_3')"
   ]
  },
  {
   "cell_type": "code",
   "execution_count": null,
   "metadata": {},
   "outputs": [],
   "source": [
    "myplot.Track2D_Restored(df_tour,df_wifipos,df_path,show_freq=True,save='tour')"
   ]
  },
  {
   "cell_type": "code",
   "execution_count": null,
   "metadata": {},
   "outputs": [
    {
     "data": {
      "text/plain": [
       "<module 'utils.myplot' from 'd:\\\\MEIRL-GAIL-Behavior-Cloning\\\\utils\\\\myplot.py'>"
      ]
     },
     "execution_count": 13,
     "metadata": {},
     "output_type": "execute_result"
    }
   ],
   "source": [
    "myplot.Track2D_Restored(df_tour[df_tour.id_cluster == 0],df_wifipos,df_path,show_freq=True,save='tour_0')"
   ]
  },
  {
   "cell_type": "code",
   "execution_count": null,
   "metadata": {},
   "outputs": [],
   "source": [
    "myplot.Track2D_Restored(df_tour[df_tour.id_cluster == 1],df_wifipos,df_path,show_freq=True,save='tour_1')"
   ]
  },
  {
   "cell_type": "code",
   "execution_count": null,
   "metadata": {},
   "outputs": [],
   "source": [
    "myplot.Track2D_Restored(df_tour[df_tour.id_cluster == 2],df_wifipos,df_path,show_freq=True,save='tour_2')"
   ]
  },
  {
   "cell_type": "code",
   "execution_count": null,
   "metadata": {},
   "outputs": [],
   "source": []
  }
 ],
 "metadata": {
  "kernelspec": {
   "display_name": "pytorch",
   "language": "python",
   "name": "python3"
  },
  "language_info": {
   "codemirror_mode": {
    "name": "ipython",
    "version": 3
   },
   "file_extension": ".py",
   "mimetype": "text/x-python",
   "name": "python",
   "nbconvert_exporter": "python",
   "pygments_lexer": "ipython3",
   "version": "3.9.18"
  }
 },
 "nbformat": 4,
 "nbformat_minor": 2
}

{
 "cells": [
  {
   "cell_type": "code",
   "execution_count": 2,
   "metadata": {},
   "outputs": [
    {
     "name": "stdout",
     "output_type": "stream",
     "text": [
      "no background image\n"
     ]
    }
   ],
   "source": [
    "import sys\n",
    "sys.path.append('../')\n",
    "import numpy as np\n",
    "import pandas as pd\n",
    "from grid_world.grid_world import GridWorld\n",
    "from DMEIRL.DeepMEIRL_FC import DMEIRL\n",
    "from trajGen_grid_world import GridWorld_trajGen\n",
    "from utils import utils\n",
    "\n",
    "import warnings\n",
    "warnings.filterwarnings('ignore')\n",
    "\n",
    "%load_ext autoreload\n",
    "%autoreload 2"
   ]
  },
  {
   "cell_type": "code",
   "execution_count": 4,
   "metadata": {},
   "outputs": [
    {
     "data": {
      "application/vnd.plotly.v1+json": {
       "config": {
        "plotlyServerURL": "https://plot.ly"
       },
       "data": [
        {
         "type": "heatmap",
         "z": [
          [
           0,
           0,
           0,
           0,
           0,
           0,
           0,
           0,
           0,
           0
          ],
          [
           0,
           0,
           0,
           0,
           0,
           0,
           0,
           0,
           0,
           0
          ],
          [
           0,
           0,
           0,
           0,
           0,
           0,
           0,
           0,
           0,
           0
          ],
          [
           0,
           0,
           -1,
           -1,
           -1,
           -1,
           0,
           0,
           0,
           0
          ],
          [
           0,
           0,
           -1,
           -1,
           -1,
           -1,
           0,
           0,
           0,
           0
          ],
          [
           0,
           0,
           -1,
           -1,
           -1,
           -1,
           1,
           1,
           1,
           1
          ],
          [
           0,
           0,
           -1,
           -1,
           -1,
           -1,
           1,
           1,
           1,
           1
          ],
          [
           0,
           0,
           -1,
           -1,
           -1,
           -1,
           1,
           1,
           1,
           1
          ],
          [
           0,
           0,
           -1,
           -1,
           -1,
           -1,
           1,
           1,
           1,
           1
          ],
          [
           0,
           0,
           -1,
           -1,
           -1,
           -1,
           1,
           1,
           1,
           1
          ]
         ]
        }
       ],
       "layout": {
        "autosize": false,
        "height": 400,
        "margin": {
         "b": 50,
         "l": 20,
         "r": 20,
         "t": 50
        },
        "template": {
         "data": {
          "bar": [
           {
            "error_x": {
             "color": "#2a3f5f"
            },
            "error_y": {
             "color": "#2a3f5f"
            },
            "marker": {
             "line": {
              "color": "white",
              "width": 0.5
             },
             "pattern": {
              "fillmode": "overlay",
              "size": 10,
              "solidity": 0.2
             }
            },
            "type": "bar"
           }
          ],
          "barpolar": [
           {
            "marker": {
             "line": {
              "color": "white",
              "width": 0.5
             },
             "pattern": {
              "fillmode": "overlay",
              "size": 10,
              "solidity": 0.2
             }
            },
            "type": "barpolar"
           }
          ],
          "carpet": [
           {
            "aaxis": {
             "endlinecolor": "#2a3f5f",
             "gridcolor": "#C8D4E3",
             "linecolor": "#C8D4E3",
             "minorgridcolor": "#C8D4E3",
             "startlinecolor": "#2a3f5f"
            },
            "baxis": {
             "endlinecolor": "#2a3f5f",
             "gridcolor": "#C8D4E3",
             "linecolor": "#C8D4E3",
             "minorgridcolor": "#C8D4E3",
             "startlinecolor": "#2a3f5f"
            },
            "type": "carpet"
           }
          ],
          "choropleth": [
           {
            "colorbar": {
             "outlinewidth": 0,
             "ticks": ""
            },
            "type": "choropleth"
           }
          ],
          "contour": [
           {
            "colorbar": {
             "outlinewidth": 0,
             "ticks": ""
            },
            "colorscale": [
             [
              0,
              "#0d0887"
             ],
             [
              0.1111111111111111,
              "#46039f"
             ],
             [
              0.2222222222222222,
              "#7201a8"
             ],
             [
              0.3333333333333333,
              "#9c179e"
             ],
             [
              0.4444444444444444,
              "#bd3786"
             ],
             [
              0.5555555555555556,
              "#d8576b"
             ],
             [
              0.6666666666666666,
              "#ed7953"
             ],
             [
              0.7777777777777778,
              "#fb9f3a"
             ],
             [
              0.8888888888888888,
              "#fdca26"
             ],
             [
              1,
              "#f0f921"
             ]
            ],
            "type": "contour"
           }
          ],
          "contourcarpet": [
           {
            "colorbar": {
             "outlinewidth": 0,
             "ticks": ""
            },
            "type": "contourcarpet"
           }
          ],
          "heatmap": [
           {
            "colorbar": {
             "outlinewidth": 0,
             "ticks": ""
            },
            "colorscale": [
             [
              0,
              "#0d0887"
             ],
             [
              0.1111111111111111,
              "#46039f"
             ],
             [
              0.2222222222222222,
              "#7201a8"
             ],
             [
              0.3333333333333333,
              "#9c179e"
             ],
             [
              0.4444444444444444,
              "#bd3786"
             ],
             [
              0.5555555555555556,
              "#d8576b"
             ],
             [
              0.6666666666666666,
              "#ed7953"
             ],
             [
              0.7777777777777778,
              "#fb9f3a"
             ],
             [
              0.8888888888888888,
              "#fdca26"
             ],
             [
              1,
              "#f0f921"
             ]
            ],
            "type": "heatmap"
           }
          ],
          "heatmapgl": [
           {
            "colorbar": {
             "outlinewidth": 0,
             "ticks": ""
            },
            "colorscale": [
             [
              0,
              "#0d0887"
             ],
             [
              0.1111111111111111,
              "#46039f"
             ],
             [
              0.2222222222222222,
              "#7201a8"
             ],
             [
              0.3333333333333333,
              "#9c179e"
             ],
             [
              0.4444444444444444,
              "#bd3786"
             ],
             [
              0.5555555555555556,
              "#d8576b"
             ],
             [
              0.6666666666666666,
              "#ed7953"
             ],
             [
              0.7777777777777778,
              "#fb9f3a"
             ],
             [
              0.8888888888888888,
              "#fdca26"
             ],
             [
              1,
              "#f0f921"
             ]
            ],
            "type": "heatmapgl"
           }
          ],
          "histogram": [
           {
            "marker": {
             "pattern": {
              "fillmode": "overlay",
              "size": 10,
              "solidity": 0.2
             }
            },
            "type": "histogram"
           }
          ],
          "histogram2d": [
           {
            "colorbar": {
             "outlinewidth": 0,
             "ticks": ""
            },
            "colorscale": [
             [
              0,
              "#0d0887"
             ],
             [
              0.1111111111111111,
              "#46039f"
             ],
             [
              0.2222222222222222,
              "#7201a8"
             ],
             [
              0.3333333333333333,
              "#9c179e"
             ],
             [
              0.4444444444444444,
              "#bd3786"
             ],
             [
              0.5555555555555556,
              "#d8576b"
             ],
             [
              0.6666666666666666,
              "#ed7953"
             ],
             [
              0.7777777777777778,
              "#fb9f3a"
             ],
             [
              0.8888888888888888,
              "#fdca26"
             ],
             [
              1,
              "#f0f921"
             ]
            ],
            "type": "histogram2d"
           }
          ],
          "histogram2dcontour": [
           {
            "colorbar": {
             "outlinewidth": 0,
             "ticks": ""
            },
            "colorscale": [
             [
              0,
              "#0d0887"
             ],
             [
              0.1111111111111111,
              "#46039f"
             ],
             [
              0.2222222222222222,
              "#7201a8"
             ],
             [
              0.3333333333333333,
              "#9c179e"
             ],
             [
              0.4444444444444444,
              "#bd3786"
             ],
             [
              0.5555555555555556,
              "#d8576b"
             ],
             [
              0.6666666666666666,
              "#ed7953"
             ],
             [
              0.7777777777777778,
              "#fb9f3a"
             ],
             [
              0.8888888888888888,
              "#fdca26"
             ],
             [
              1,
              "#f0f921"
             ]
            ],
            "type": "histogram2dcontour"
           }
          ],
          "mesh3d": [
           {
            "colorbar": {
             "outlinewidth": 0,
             "ticks": ""
            },
            "type": "mesh3d"
           }
          ],
          "parcoords": [
           {
            "line": {
             "colorbar": {
              "outlinewidth": 0,
              "ticks": ""
             }
            },
            "type": "parcoords"
           }
          ],
          "pie": [
           {
            "automargin": true,
            "type": "pie"
           }
          ],
          "scatter": [
           {
            "fillpattern": {
             "fillmode": "overlay",
             "size": 10,
             "solidity": 0.2
            },
            "type": "scatter"
           }
          ],
          "scatter3d": [
           {
            "line": {
             "colorbar": {
              "outlinewidth": 0,
              "ticks": ""
             }
            },
            "marker": {
             "colorbar": {
              "outlinewidth": 0,
              "ticks": ""
             }
            },
            "type": "scatter3d"
           }
          ],
          "scattercarpet": [
           {
            "marker": {
             "colorbar": {
              "outlinewidth": 0,
              "ticks": ""
             }
            },
            "type": "scattercarpet"
           }
          ],
          "scattergeo": [
           {
            "marker": {
             "colorbar": {
              "outlinewidth": 0,
              "ticks": ""
             }
            },
            "type": "scattergeo"
           }
          ],
          "scattergl": [
           {
            "marker": {
             "colorbar": {
              "outlinewidth": 0,
              "ticks": ""
             }
            },
            "type": "scattergl"
           }
          ],
          "scattermapbox": [
           {
            "marker": {
             "colorbar": {
              "outlinewidth": 0,
              "ticks": ""
             }
            },
            "type": "scattermapbox"
           }
          ],
          "scatterpolar": [
           {
            "marker": {
             "colorbar": {
              "outlinewidth": 0,
              "ticks": ""
             }
            },
            "type": "scatterpolar"
           }
          ],
          "scatterpolargl": [
           {
            "marker": {
             "colorbar": {
              "outlinewidth": 0,
              "ticks": ""
             }
            },
            "type": "scatterpolargl"
           }
          ],
          "scatterternary": [
           {
            "marker": {
             "colorbar": {
              "outlinewidth": 0,
              "ticks": ""
             }
            },
            "type": "scatterternary"
           }
          ],
          "surface": [
           {
            "colorbar": {
             "outlinewidth": 0,
             "ticks": ""
            },
            "colorscale": [
             [
              0,
              "#0d0887"
             ],
             [
              0.1111111111111111,
              "#46039f"
             ],
             [
              0.2222222222222222,
              "#7201a8"
             ],
             [
              0.3333333333333333,
              "#9c179e"
             ],
             [
              0.4444444444444444,
              "#bd3786"
             ],
             [
              0.5555555555555556,
              "#d8576b"
             ],
             [
              0.6666666666666666,
              "#ed7953"
             ],
             [
              0.7777777777777778,
              "#fb9f3a"
             ],
             [
              0.8888888888888888,
              "#fdca26"
             ],
             [
              1,
              "#f0f921"
             ]
            ],
            "type": "surface"
           }
          ],
          "table": [
           {
            "cells": {
             "fill": {
              "color": "#EBF0F8"
             },
             "line": {
              "color": "white"
             }
            },
            "header": {
             "fill": {
              "color": "#C8D4E3"
             },
             "line": {
              "color": "white"
             }
            },
            "type": "table"
           }
          ]
         },
         "layout": {
          "annotationdefaults": {
           "arrowcolor": "#2a3f5f",
           "arrowhead": 0,
           "arrowwidth": 1
          },
          "autotypenumbers": "strict",
          "coloraxis": {
           "colorbar": {
            "outlinewidth": 0,
            "ticks": ""
           }
          },
          "colorscale": {
           "diverging": [
            [
             0,
             "#8e0152"
            ],
            [
             0.1,
             "#c51b7d"
            ],
            [
             0.2,
             "#de77ae"
            ],
            [
             0.3,
             "#f1b6da"
            ],
            [
             0.4,
             "#fde0ef"
            ],
            [
             0.5,
             "#f7f7f7"
            ],
            [
             0.6,
             "#e6f5d0"
            ],
            [
             0.7,
             "#b8e186"
            ],
            [
             0.8,
             "#7fbc41"
            ],
            [
             0.9,
             "#4d9221"
            ],
            [
             1,
             "#276419"
            ]
           ],
           "sequential": [
            [
             0,
             "#0d0887"
            ],
            [
             0.1111111111111111,
             "#46039f"
            ],
            [
             0.2222222222222222,
             "#7201a8"
            ],
            [
             0.3333333333333333,
             "#9c179e"
            ],
            [
             0.4444444444444444,
             "#bd3786"
            ],
            [
             0.5555555555555556,
             "#d8576b"
            ],
            [
             0.6666666666666666,
             "#ed7953"
            ],
            [
             0.7777777777777778,
             "#fb9f3a"
            ],
            [
             0.8888888888888888,
             "#fdca26"
            ],
            [
             1,
             "#f0f921"
            ]
           ],
           "sequentialminus": [
            [
             0,
             "#0d0887"
            ],
            [
             0.1111111111111111,
             "#46039f"
            ],
            [
             0.2222222222222222,
             "#7201a8"
            ],
            [
             0.3333333333333333,
             "#9c179e"
            ],
            [
             0.4444444444444444,
             "#bd3786"
            ],
            [
             0.5555555555555556,
             "#d8576b"
            ],
            [
             0.6666666666666666,
             "#ed7953"
            ],
            [
             0.7777777777777778,
             "#fb9f3a"
            ],
            [
             0.8888888888888888,
             "#fdca26"
            ],
            [
             1,
             "#f0f921"
            ]
           ]
          },
          "colorway": [
           "#636efa",
           "#EF553B",
           "#00cc96",
           "#ab63fa",
           "#FFA15A",
           "#19d3f3",
           "#FF6692",
           "#B6E880",
           "#FF97FF",
           "#FECB52"
          ],
          "font": {
           "color": "#2a3f5f"
          },
          "geo": {
           "bgcolor": "white",
           "lakecolor": "white",
           "landcolor": "white",
           "showlakes": true,
           "showland": true,
           "subunitcolor": "#C8D4E3"
          },
          "hoverlabel": {
           "align": "left"
          },
          "hovermode": "closest",
          "mapbox": {
           "style": "light"
          },
          "paper_bgcolor": "white",
          "plot_bgcolor": "white",
          "polar": {
           "angularaxis": {
            "gridcolor": "#EBF0F8",
            "linecolor": "#EBF0F8",
            "ticks": ""
           },
           "bgcolor": "white",
           "radialaxis": {
            "gridcolor": "#EBF0F8",
            "linecolor": "#EBF0F8",
            "ticks": ""
           }
          },
          "scene": {
           "xaxis": {
            "backgroundcolor": "white",
            "gridcolor": "#DFE8F3",
            "gridwidth": 2,
            "linecolor": "#EBF0F8",
            "showbackground": true,
            "ticks": "",
            "zerolinecolor": "#EBF0F8"
           },
           "yaxis": {
            "backgroundcolor": "white",
            "gridcolor": "#DFE8F3",
            "gridwidth": 2,
            "linecolor": "#EBF0F8",
            "showbackground": true,
            "ticks": "",
            "zerolinecolor": "#EBF0F8"
           },
           "zaxis": {
            "backgroundcolor": "white",
            "gridcolor": "#DFE8F3",
            "gridwidth": 2,
            "linecolor": "#EBF0F8",
            "showbackground": true,
            "ticks": "",
            "zerolinecolor": "#EBF0F8"
           }
          },
          "shapedefaults": {
           "line": {
            "color": "#2a3f5f"
           }
          },
          "ternary": {
           "aaxis": {
            "gridcolor": "#DFE8F3",
            "linecolor": "#A2B1C6",
            "ticks": ""
           },
           "baxis": {
            "gridcolor": "#DFE8F3",
            "linecolor": "#A2B1C6",
            "ticks": ""
           },
           "bgcolor": "white",
           "caxis": {
            "gridcolor": "#DFE8F3",
            "linecolor": "#A2B1C6",
            "ticks": ""
           }
          },
          "title": {
           "x": 0.05
          },
          "xaxis": {
           "automargin": true,
           "gridcolor": "#EBF0F8",
           "linecolor": "#EBF0F8",
           "ticks": "",
           "title": {
            "standoff": 15
           },
           "zerolinecolor": "#EBF0F8",
           "zerolinewidth": 2
          },
          "yaxis": {
           "automargin": true,
           "gridcolor": "#EBF0F8",
           "linecolor": "#EBF0F8",
           "ticks": "",
           "title": {
            "standoff": 15
           },
           "zerolinecolor": "#EBF0F8",
           "zerolinewidth": 2
          }
         }
        },
        "title": {
         "text": "真实奖励"
        },
        "width": 400
       }
      }
     },
     "metadata": {},
     "output_type": "display_data"
    }
   ],
   "source": [
    "reward_mat = np.array([[ 0, 0, 0, 0, 0, 0, 0, 0, 0, 0],\n",
    "                       [ 0, 0, 0, 0, 0, 0, 0, 0, 0, 0],\n",
    "                       [ 0, 0, 0, 0, 0, 0, 0, 0, 0, 0],\n",
    "                       [ 0, 0,-1,-1,-1,-1, 0, 0, 0, 0],\n",
    "                       [ 0, 0,-1,-1,-1,-1, 0, 0, 0, 0],\n",
    "                       [ 0, 0,-1,-1,-1,-1, 1, 1, 1, 1],\n",
    "                       [ 0, 0,-1,-1,-1,-1, 1, 1, 1, 1],\n",
    "                       [ 0, 0,-1,-1,-1,-1, 1, 1, 1, 1],\n",
    "                       [ 0, 0,-1,-1,-1,-1, 1, 1, 1, 1],\n",
    "                       [ 0, 0,-1,-1,-1,-1, 1, 1, 1, 1],])\n",
    "#reward_mat = utils.Normalize_2DArr(reward_mat)\n",
    "world_trajGen = GridWorld_trajGen(10,10,reward_mat,\n",
    "                                  deactive_states=[80,81,82,83,84,\n",
    "                                                   70,71,72,73,74,75,\n",
    "                                                   60,61,62,63,64,\n",
    "                                                   56,57,58,59,\n",
    "                                                   47,48,49,\n",
    "                                                   38,39,\n",
    "                                                   ],\n",
    "                                  trans_prob=0.8,discount=0.9)\n",
    "world_trajGen.ShowRewards(title='真实奖励')"
   ]
  },
  {
   "cell_type": "code",
   "execution_count": 3,
   "metadata": {},
   "outputs": [
    {
     "name": "stderr",
     "output_type": "stream",
     "text": [
      "100%|██████████| 500/500 [00:00<00:00, 2622.11it/s]\n"
     ]
    },
    {
     "data": {
      "text/html": [
       "<div>\n",
       "<style scoped>\n",
       "    .dataframe tbody tr th:only-of-type {\n",
       "        vertical-align: middle;\n",
       "    }\n",
       "\n",
       "    .dataframe tbody tr th {\n",
       "        vertical-align: top;\n",
       "    }\n",
       "\n",
       "    .dataframe thead th {\n",
       "        text-align: right;\n",
       "    }\n",
       "</style>\n",
       "<table border=\"1\" class=\"dataframe\">\n",
       "  <thead>\n",
       "    <tr style=\"text-align: right;\">\n",
       "      <th></th>\n",
       "      <th>m</th>\n",
       "      <th>trajs</th>\n",
       "    </tr>\n",
       "  </thead>\n",
       "  <tbody>\n",
       "    <tr>\n",
       "      <th>0</th>\n",
       "      <td>1</td>\n",
       "      <td>[(29, 3, 28), (28, 3, 27), (27, 1, 37), (37, 3...</td>\n",
       "    </tr>\n",
       "    <tr>\n",
       "      <th>1</th>\n",
       "      <td>2</td>\n",
       "      <td>[(93, 4, 94), (94, 4, 95), (95, 4, 96), (96, 4...</td>\n",
       "    </tr>\n",
       "    <tr>\n",
       "      <th>2</th>\n",
       "      <td>3</td>\n",
       "      <td>[(51, 2, 41), (41, 2, 31), (31, 2, 21), (21, 4...</td>\n",
       "    </tr>\n",
       "    <tr>\n",
       "      <th>3</th>\n",
       "      <td>4</td>\n",
       "      <td>[(76, 4, 77), (77, 4, 78), (78, 4, 88), (88, 4...</td>\n",
       "    </tr>\n",
       "    <tr>\n",
       "      <th>4</th>\n",
       "      <td>5</td>\n",
       "      <td>[(11, 4, 12), (12, 4, 13), (13, 4, 23), (23, 4...</td>\n",
       "    </tr>\n",
       "    <tr>\n",
       "      <th>...</th>\n",
       "      <td>...</td>\n",
       "      <td>...</td>\n",
       "    </tr>\n",
       "    <tr>\n",
       "      <th>495</th>\n",
       "      <td>496</td>\n",
       "      <td>[(27, 1, 37), (37, 3, 36), (36, 1, 46), (46, 3...</td>\n",
       "    </tr>\n",
       "    <tr>\n",
       "      <th>496</th>\n",
       "      <td>497</td>\n",
       "      <td>[(67, 4, 68), (68, 4, 69), (69, 1, 69), (69, 1...</td>\n",
       "    </tr>\n",
       "    <tr>\n",
       "      <th>497</th>\n",
       "      <td>498</td>\n",
       "      <td>[(76, 4, 77), (77, 4, 78), (78, 4, 79), (79, 1...</td>\n",
       "    </tr>\n",
       "    <tr>\n",
       "      <th>498</th>\n",
       "      <td>499</td>\n",
       "      <td>[(50, 2, 50), (50, 2, 40), (40, 2, 30), (30, 2...</td>\n",
       "    </tr>\n",
       "    <tr>\n",
       "      <th>499</th>\n",
       "      <td>500</td>\n",
       "      <td>[(7, 1, 17), (17, 1, 27), (27, 1, 37), (37, 3,...</td>\n",
       "    </tr>\n",
       "  </tbody>\n",
       "</table>\n",
       "<p>500 rows × 2 columns</p>\n",
       "</div>"
      ],
      "text/plain": [
       "       m                                              trajs\n",
       "0      1  [(29, 3, 28), (28, 3, 27), (27, 1, 37), (37, 3...\n",
       "1      2  [(93, 4, 94), (94, 4, 95), (95, 4, 96), (96, 4...\n",
       "2      3  [(51, 2, 41), (41, 2, 31), (31, 2, 21), (21, 4...\n",
       "3      4  [(76, 4, 77), (77, 4, 78), (78, 4, 88), (88, 4...\n",
       "4      5  [(11, 4, 12), (12, 4, 13), (13, 4, 23), (23, 4...\n",
       "..   ...                                                ...\n",
       "495  496  [(27, 1, 37), (37, 3, 36), (36, 1, 46), (46, 3...\n",
       "496  497  [(67, 4, 68), (68, 4, 69), (69, 1, 69), (69, 1...\n",
       "497  498  [(76, 4, 77), (77, 4, 78), (78, 4, 79), (79, 1...\n",
       "498  499  [(50, 2, 50), (50, 2, 40), (40, 2, 30), (30, 2...\n",
       "499  500  [(7, 1, 17), (17, 1, 27), (27, 1, 37), (37, 3,...\n",
       "\n",
       "[500 rows x 2 columns]"
      ]
     },
     "execution_count": 3,
     "metadata": {},
     "output_type": "execute_result"
    }
   ],
   "source": [
    "world_trajGen.GenerateTrajectories(traj_count=500,traj_length=30)"
   ]
  },
  {
   "cell_type": "code",
   "execution_count": 5,
   "metadata": {},
   "outputs": [
    {
     "data": {
      "application/vnd.plotly.v1+json": {
       "config": {
        "plotlyServerURL": "https://plot.ly"
       },
       "data": [
        {
         "type": "heatmap",
         "z": [
          [
           2.1972245773362196,
           2.8903717578961645,
           3.367295829986474,
           3.6635616461296463,
           3.828641396489095,
           4.189654742026425,
           3.4011973816621555,
           3.4339872044851463,
           2.6390573296152584,
           1.6094379124341003
          ],
          [
           2.6390573296152584,
           3.332204510175204,
           3.7376696182833684,
           4.060443010546419,
           4.110873864173311,
           4.875197323201151,
           5.056245805348308,
           4.276666119016055,
           3.258096538021482,
           2.4849066497880004
          ],
          [
           3.5263605246161616,
           4.248495242049359,
           4.454347296253507,
           4.553876891600541,
           4.564348191467836,
           4.709530201312334,
           5.5093883366279774,
           4.68213122712422,
           3.1780538303479458,
           2.3978952727983707
          ],
          [
           3.258096538021482,
           3.58351893845611,
           2.833213344056216,
           2.70805020110221,
           2.6390573296152584,
           4.127134385045092,
           5.8289456176102075,
           4.8283137373023015,
           0,
           0
          ],
          [
           3.044522437723423,
           3.258096538021482,
           2.302585092994046,
           1.9459101490553132,
           3.6635616461296463,
           5.8888779583328805,
           5.8289456176102075,
           0,
           0,
           0
          ],
          [
           2.302585092994046,
           2.3978952727983707,
           1.3862943611198906,
           2.1972245773362196,
           4.418840607796598,
           6.0867747269123065,
           0,
           0,
           0,
           0
          ],
          [
           0,
           0,
           0,
           0,
           0,
           6.102558594613569,
           6.115892125483034,
           6.066108090103747,
           6.0330862217988015,
           6.156978985585555
          ],
          [
           0,
           0,
           0,
           0,
           0,
           0,
           3.6635616461296463,
           4.330733340286331,
           4.962844630259907,
           6.826545223556594
          ],
          [
           0,
           0,
           0,
           0,
           0,
           1.3862943611198906,
           3.2188758248682006,
           3.9318256327243257,
           5.8888779583328805,
           8.793156870913819
          ],
          [
           2.302585092994046,
           2.9444389791664403,
           3.4657359027997265,
           3.6375861597263857,
           3.8066624897703196,
           3.8066624897703196,
           4.04305126783455,
           4.204692619390966,
           4.709530201312334,
           6.12029741895095
          ]
         ]
        }
       ],
       "layout": {
        "autosize": false,
        "height": 400,
        "margin": {
         "b": 50,
         "l": 20,
         "r": 20,
         "t": 50
        },
        "template": {
         "data": {
          "bar": [
           {
            "error_x": {
             "color": "#2a3f5f"
            },
            "error_y": {
             "color": "#2a3f5f"
            },
            "marker": {
             "line": {
              "color": "white",
              "width": 0.5
             },
             "pattern": {
              "fillmode": "overlay",
              "size": 10,
              "solidity": 0.2
             }
            },
            "type": "bar"
           }
          ],
          "barpolar": [
           {
            "marker": {
             "line": {
              "color": "white",
              "width": 0.5
             },
             "pattern": {
              "fillmode": "overlay",
              "size": 10,
              "solidity": 0.2
             }
            },
            "type": "barpolar"
           }
          ],
          "carpet": [
           {
            "aaxis": {
             "endlinecolor": "#2a3f5f",
             "gridcolor": "#C8D4E3",
             "linecolor": "#C8D4E3",
             "minorgridcolor": "#C8D4E3",
             "startlinecolor": "#2a3f5f"
            },
            "baxis": {
             "endlinecolor": "#2a3f5f",
             "gridcolor": "#C8D4E3",
             "linecolor": "#C8D4E3",
             "minorgridcolor": "#C8D4E3",
             "startlinecolor": "#2a3f5f"
            },
            "type": "carpet"
           }
          ],
          "choropleth": [
           {
            "colorbar": {
             "outlinewidth": 0,
             "ticks": ""
            },
            "type": "choropleth"
           }
          ],
          "contour": [
           {
            "colorbar": {
             "outlinewidth": 0,
             "ticks": ""
            },
            "colorscale": [
             [
              0,
              "#0d0887"
             ],
             [
              0.1111111111111111,
              "#46039f"
             ],
             [
              0.2222222222222222,
              "#7201a8"
             ],
             [
              0.3333333333333333,
              "#9c179e"
             ],
             [
              0.4444444444444444,
              "#bd3786"
             ],
             [
              0.5555555555555556,
              "#d8576b"
             ],
             [
              0.6666666666666666,
              "#ed7953"
             ],
             [
              0.7777777777777778,
              "#fb9f3a"
             ],
             [
              0.8888888888888888,
              "#fdca26"
             ],
             [
              1,
              "#f0f921"
             ]
            ],
            "type": "contour"
           }
          ],
          "contourcarpet": [
           {
            "colorbar": {
             "outlinewidth": 0,
             "ticks": ""
            },
            "type": "contourcarpet"
           }
          ],
          "heatmap": [
           {
            "colorbar": {
             "outlinewidth": 0,
             "ticks": ""
            },
            "colorscale": [
             [
              0,
              "#0d0887"
             ],
             [
              0.1111111111111111,
              "#46039f"
             ],
             [
              0.2222222222222222,
              "#7201a8"
             ],
             [
              0.3333333333333333,
              "#9c179e"
             ],
             [
              0.4444444444444444,
              "#bd3786"
             ],
             [
              0.5555555555555556,
              "#d8576b"
             ],
             [
              0.6666666666666666,
              "#ed7953"
             ],
             [
              0.7777777777777778,
              "#fb9f3a"
             ],
             [
              0.8888888888888888,
              "#fdca26"
             ],
             [
              1,
              "#f0f921"
             ]
            ],
            "type": "heatmap"
           }
          ],
          "heatmapgl": [
           {
            "colorbar": {
             "outlinewidth": 0,
             "ticks": ""
            },
            "colorscale": [
             [
              0,
              "#0d0887"
             ],
             [
              0.1111111111111111,
              "#46039f"
             ],
             [
              0.2222222222222222,
              "#7201a8"
             ],
             [
              0.3333333333333333,
              "#9c179e"
             ],
             [
              0.4444444444444444,
              "#bd3786"
             ],
             [
              0.5555555555555556,
              "#d8576b"
             ],
             [
              0.6666666666666666,
              "#ed7953"
             ],
             [
              0.7777777777777778,
              "#fb9f3a"
             ],
             [
              0.8888888888888888,
              "#fdca26"
             ],
             [
              1,
              "#f0f921"
             ]
            ],
            "type": "heatmapgl"
           }
          ],
          "histogram": [
           {
            "marker": {
             "pattern": {
              "fillmode": "overlay",
              "size": 10,
              "solidity": 0.2
             }
            },
            "type": "histogram"
           }
          ],
          "histogram2d": [
           {
            "colorbar": {
             "outlinewidth": 0,
             "ticks": ""
            },
            "colorscale": [
             [
              0,
              "#0d0887"
             ],
             [
              0.1111111111111111,
              "#46039f"
             ],
             [
              0.2222222222222222,
              "#7201a8"
             ],
             [
              0.3333333333333333,
              "#9c179e"
             ],
             [
              0.4444444444444444,
              "#bd3786"
             ],
             [
              0.5555555555555556,
              "#d8576b"
             ],
             [
              0.6666666666666666,
              "#ed7953"
             ],
             [
              0.7777777777777778,
              "#fb9f3a"
             ],
             [
              0.8888888888888888,
              "#fdca26"
             ],
             [
              1,
              "#f0f921"
             ]
            ],
            "type": "histogram2d"
           }
          ],
          "histogram2dcontour": [
           {
            "colorbar": {
             "outlinewidth": 0,
             "ticks": ""
            },
            "colorscale": [
             [
              0,
              "#0d0887"
             ],
             [
              0.1111111111111111,
              "#46039f"
             ],
             [
              0.2222222222222222,
              "#7201a8"
             ],
             [
              0.3333333333333333,
              "#9c179e"
             ],
             [
              0.4444444444444444,
              "#bd3786"
             ],
             [
              0.5555555555555556,
              "#d8576b"
             ],
             [
              0.6666666666666666,
              "#ed7953"
             ],
             [
              0.7777777777777778,
              "#fb9f3a"
             ],
             [
              0.8888888888888888,
              "#fdca26"
             ],
             [
              1,
              "#f0f921"
             ]
            ],
            "type": "histogram2dcontour"
           }
          ],
          "mesh3d": [
           {
            "colorbar": {
             "outlinewidth": 0,
             "ticks": ""
            },
            "type": "mesh3d"
           }
          ],
          "parcoords": [
           {
            "line": {
             "colorbar": {
              "outlinewidth": 0,
              "ticks": ""
             }
            },
            "type": "parcoords"
           }
          ],
          "pie": [
           {
            "automargin": true,
            "type": "pie"
           }
          ],
          "scatter": [
           {
            "fillpattern": {
             "fillmode": "overlay",
             "size": 10,
             "solidity": 0.2
            },
            "type": "scatter"
           }
          ],
          "scatter3d": [
           {
            "line": {
             "colorbar": {
              "outlinewidth": 0,
              "ticks": ""
             }
            },
            "marker": {
             "colorbar": {
              "outlinewidth": 0,
              "ticks": ""
             }
            },
            "type": "scatter3d"
           }
          ],
          "scattercarpet": [
           {
            "marker": {
             "colorbar": {
              "outlinewidth": 0,
              "ticks": ""
             }
            },
            "type": "scattercarpet"
           }
          ],
          "scattergeo": [
           {
            "marker": {
             "colorbar": {
              "outlinewidth": 0,
              "ticks": ""
             }
            },
            "type": "scattergeo"
           }
          ],
          "scattergl": [
           {
            "marker": {
             "colorbar": {
              "outlinewidth": 0,
              "ticks": ""
             }
            },
            "type": "scattergl"
           }
          ],
          "scattermapbox": [
           {
            "marker": {
             "colorbar": {
              "outlinewidth": 0,
              "ticks": ""
             }
            },
            "type": "scattermapbox"
           }
          ],
          "scatterpolar": [
           {
            "marker": {
             "colorbar": {
              "outlinewidth": 0,
              "ticks": ""
             }
            },
            "type": "scatterpolar"
           }
          ],
          "scatterpolargl": [
           {
            "marker": {
             "colorbar": {
              "outlinewidth": 0,
              "ticks": ""
             }
            },
            "type": "scatterpolargl"
           }
          ],
          "scatterternary": [
           {
            "marker": {
             "colorbar": {
              "outlinewidth": 0,
              "ticks": ""
             }
            },
            "type": "scatterternary"
           }
          ],
          "surface": [
           {
            "colorbar": {
             "outlinewidth": 0,
             "ticks": ""
            },
            "colorscale": [
             [
              0,
              "#0d0887"
             ],
             [
              0.1111111111111111,
              "#46039f"
             ],
             [
              0.2222222222222222,
              "#7201a8"
             ],
             [
              0.3333333333333333,
              "#9c179e"
             ],
             [
              0.4444444444444444,
              "#bd3786"
             ],
             [
              0.5555555555555556,
              "#d8576b"
             ],
             [
              0.6666666666666666,
              "#ed7953"
             ],
             [
              0.7777777777777778,
              "#fb9f3a"
             ],
             [
              0.8888888888888888,
              "#fdca26"
             ],
             [
              1,
              "#f0f921"
             ]
            ],
            "type": "surface"
           }
          ],
          "table": [
           {
            "cells": {
             "fill": {
              "color": "#EBF0F8"
             },
             "line": {
              "color": "white"
             }
            },
            "header": {
             "fill": {
              "color": "#C8D4E3"
             },
             "line": {
              "color": "white"
             }
            },
            "type": "table"
           }
          ]
         },
         "layout": {
          "annotationdefaults": {
           "arrowcolor": "#2a3f5f",
           "arrowhead": 0,
           "arrowwidth": 1
          },
          "autotypenumbers": "strict",
          "coloraxis": {
           "colorbar": {
            "outlinewidth": 0,
            "ticks": ""
           }
          },
          "colorscale": {
           "diverging": [
            [
             0,
             "#8e0152"
            ],
            [
             0.1,
             "#c51b7d"
            ],
            [
             0.2,
             "#de77ae"
            ],
            [
             0.3,
             "#f1b6da"
            ],
            [
             0.4,
             "#fde0ef"
            ],
            [
             0.5,
             "#f7f7f7"
            ],
            [
             0.6,
             "#e6f5d0"
            ],
            [
             0.7,
             "#b8e186"
            ],
            [
             0.8,
             "#7fbc41"
            ],
            [
             0.9,
             "#4d9221"
            ],
            [
             1,
             "#276419"
            ]
           ],
           "sequential": [
            [
             0,
             "#0d0887"
            ],
            [
             0.1111111111111111,
             "#46039f"
            ],
            [
             0.2222222222222222,
             "#7201a8"
            ],
            [
             0.3333333333333333,
             "#9c179e"
            ],
            [
             0.4444444444444444,
             "#bd3786"
            ],
            [
             0.5555555555555556,
             "#d8576b"
            ],
            [
             0.6666666666666666,
             "#ed7953"
            ],
            [
             0.7777777777777778,
             "#fb9f3a"
            ],
            [
             0.8888888888888888,
             "#fdca26"
            ],
            [
             1,
             "#f0f921"
            ]
           ],
           "sequentialminus": [
            [
             0,
             "#0d0887"
            ],
            [
             0.1111111111111111,
             "#46039f"
            ],
            [
             0.2222222222222222,
             "#7201a8"
            ],
            [
             0.3333333333333333,
             "#9c179e"
            ],
            [
             0.4444444444444444,
             "#bd3786"
            ],
            [
             0.5555555555555556,
             "#d8576b"
            ],
            [
             0.6666666666666666,
             "#ed7953"
            ],
            [
             0.7777777777777778,
             "#fb9f3a"
            ],
            [
             0.8888888888888888,
             "#fdca26"
            ],
            [
             1,
             "#f0f921"
            ]
           ]
          },
          "colorway": [
           "#636efa",
           "#EF553B",
           "#00cc96",
           "#ab63fa",
           "#FFA15A",
           "#19d3f3",
           "#FF6692",
           "#B6E880",
           "#FF97FF",
           "#FECB52"
          ],
          "font": {
           "color": "#2a3f5f"
          },
          "geo": {
           "bgcolor": "white",
           "lakecolor": "white",
           "landcolor": "white",
           "showlakes": true,
           "showland": true,
           "subunitcolor": "#C8D4E3"
          },
          "hoverlabel": {
           "align": "left"
          },
          "hovermode": "closest",
          "mapbox": {
           "style": "light"
          },
          "paper_bgcolor": "white",
          "plot_bgcolor": "white",
          "polar": {
           "angularaxis": {
            "gridcolor": "#EBF0F8",
            "linecolor": "#EBF0F8",
            "ticks": ""
           },
           "bgcolor": "white",
           "radialaxis": {
            "gridcolor": "#EBF0F8",
            "linecolor": "#EBF0F8",
            "ticks": ""
           }
          },
          "scene": {
           "xaxis": {
            "backgroundcolor": "white",
            "gridcolor": "#DFE8F3",
            "gridwidth": 2,
            "linecolor": "#EBF0F8",
            "showbackground": true,
            "ticks": "",
            "zerolinecolor": "#EBF0F8"
           },
           "yaxis": {
            "backgroundcolor": "white",
            "gridcolor": "#DFE8F3",
            "gridwidth": 2,
            "linecolor": "#EBF0F8",
            "showbackground": true,
            "ticks": "",
            "zerolinecolor": "#EBF0F8"
           },
           "zaxis": {
            "backgroundcolor": "white",
            "gridcolor": "#DFE8F3",
            "gridwidth": 2,
            "linecolor": "#EBF0F8",
            "showbackground": true,
            "ticks": "",
            "zerolinecolor": "#EBF0F8"
           }
          },
          "shapedefaults": {
           "line": {
            "color": "#2a3f5f"
           }
          },
          "ternary": {
           "aaxis": {
            "gridcolor": "#DFE8F3",
            "linecolor": "#A2B1C6",
            "ticks": ""
           },
           "baxis": {
            "gridcolor": "#DFE8F3",
            "linecolor": "#A2B1C6",
            "ticks": ""
           },
           "bgcolor": "white",
           "caxis": {
            "gridcolor": "#DFE8F3",
            "linecolor": "#A2B1C6",
            "ticks": ""
           }
          },
          "title": {
           "x": 0.05
          },
          "xaxis": {
           "automargin": true,
           "gridcolor": "#EBF0F8",
           "linecolor": "#EBF0F8",
           "ticks": "",
           "title": {
            "standoff": 15
           },
           "zerolinecolor": "#EBF0F8",
           "zerolinewidth": 2
          },
          "yaxis": {
           "automargin": true,
           "gridcolor": "#EBF0F8",
           "linecolor": "#EBF0F8",
           "ticks": "",
           "title": {
            "standoff": 15
           },
           "zerolinecolor": "#EBF0F8",
           "zerolinewidth": 2
          }
         }
        },
        "title": {
         "text": "轨迹计数分布(对数)"
        },
        "width": 400
       }
      }
     },
     "metadata": {},
     "output_type": "display_data"
    }
   ],
   "source": [
    "traj_path = r'demo_expert_trajs_0110.csv'\n",
    "world = GridWorld(\n",
    "    states_features=world_trajGen.states_features,\n",
    "    expert_traj_filePath=traj_path,\n",
    "    width=10,\n",
    "    height=10,\n",
    "    active_all=False\n",
    ")\n",
    "world.ShowGridWorld_Count_log(title='轨迹计数分布(对数)')"
   ]
  },
  {
   "cell_type": "code",
   "execution_count": 6,
   "metadata": {},
   "outputs": [
    {
     "data": {
      "application/vnd.plotly.v1+json": {
       "config": {
        "plotlyServerURL": "https://plot.ly"
       },
       "data": [
        {
         "type": "heatmap",
         "z": [
          [
           1,
           1,
           1,
           1,
           1,
           1,
           1,
           1,
           1,
           1
          ],
          [
           1,
           1,
           1,
           1,
           1,
           1,
           1,
           1,
           1,
           1
          ],
          [
           1,
           1,
           1,
           1,
           1,
           1,
           1,
           1,
           1,
           1
          ],
          [
           1,
           1,
           1,
           1,
           1,
           1,
           1,
           1,
           0,
           0
          ],
          [
           1,
           1,
           1,
           1,
           1,
           1,
           1,
           0,
           0,
           0
          ],
          [
           1,
           1,
           1,
           1,
           1,
           1,
           0,
           0,
           0,
           0
          ],
          [
           0,
           0,
           0,
           0,
           0,
           1,
           1,
           1,
           1,
           1
          ],
          [
           0,
           0,
           0,
           0,
           0,
           0,
           1,
           1,
           1,
           1
          ],
          [
           0,
           0,
           0,
           0,
           0,
           1,
           1,
           1,
           1,
           1
          ],
          [
           1,
           1,
           1,
           1,
           1,
           1,
           1,
           1,
           1,
           1
          ]
         ]
        }
       ],
       "layout": {
        "autosize": false,
        "height": 450,
        "margin": {
         "b": 50,
         "l": 20,
         "r": 20,
         "t": 50
        },
        "template": {
         "data": {
          "bar": [
           {
            "error_x": {
             "color": "#2a3f5f"
            },
            "error_y": {
             "color": "#2a3f5f"
            },
            "marker": {
             "line": {
              "color": "white",
              "width": 0.5
             },
             "pattern": {
              "fillmode": "overlay",
              "size": 10,
              "solidity": 0.2
             }
            },
            "type": "bar"
           }
          ],
          "barpolar": [
           {
            "marker": {
             "line": {
              "color": "white",
              "width": 0.5
             },
             "pattern": {
              "fillmode": "overlay",
              "size": 10,
              "solidity": 0.2
             }
            },
            "type": "barpolar"
           }
          ],
          "carpet": [
           {
            "aaxis": {
             "endlinecolor": "#2a3f5f",
             "gridcolor": "#C8D4E3",
             "linecolor": "#C8D4E3",
             "minorgridcolor": "#C8D4E3",
             "startlinecolor": "#2a3f5f"
            },
            "baxis": {
             "endlinecolor": "#2a3f5f",
             "gridcolor": "#C8D4E3",
             "linecolor": "#C8D4E3",
             "minorgridcolor": "#C8D4E3",
             "startlinecolor": "#2a3f5f"
            },
            "type": "carpet"
           }
          ],
          "choropleth": [
           {
            "colorbar": {
             "outlinewidth": 0,
             "ticks": ""
            },
            "type": "choropleth"
           }
          ],
          "contour": [
           {
            "colorbar": {
             "outlinewidth": 0,
             "ticks": ""
            },
            "colorscale": [
             [
              0,
              "#0d0887"
             ],
             [
              0.1111111111111111,
              "#46039f"
             ],
             [
              0.2222222222222222,
              "#7201a8"
             ],
             [
              0.3333333333333333,
              "#9c179e"
             ],
             [
              0.4444444444444444,
              "#bd3786"
             ],
             [
              0.5555555555555556,
              "#d8576b"
             ],
             [
              0.6666666666666666,
              "#ed7953"
             ],
             [
              0.7777777777777778,
              "#fb9f3a"
             ],
             [
              0.8888888888888888,
              "#fdca26"
             ],
             [
              1,
              "#f0f921"
             ]
            ],
            "type": "contour"
           }
          ],
          "contourcarpet": [
           {
            "colorbar": {
             "outlinewidth": 0,
             "ticks": ""
            },
            "type": "contourcarpet"
           }
          ],
          "heatmap": [
           {
            "colorbar": {
             "outlinewidth": 0,
             "ticks": ""
            },
            "colorscale": [
             [
              0,
              "#0d0887"
             ],
             [
              0.1111111111111111,
              "#46039f"
             ],
             [
              0.2222222222222222,
              "#7201a8"
             ],
             [
              0.3333333333333333,
              "#9c179e"
             ],
             [
              0.4444444444444444,
              "#bd3786"
             ],
             [
              0.5555555555555556,
              "#d8576b"
             ],
             [
              0.6666666666666666,
              "#ed7953"
             ],
             [
              0.7777777777777778,
              "#fb9f3a"
             ],
             [
              0.8888888888888888,
              "#fdca26"
             ],
             [
              1,
              "#f0f921"
             ]
            ],
            "type": "heatmap"
           }
          ],
          "heatmapgl": [
           {
            "colorbar": {
             "outlinewidth": 0,
             "ticks": ""
            },
            "colorscale": [
             [
              0,
              "#0d0887"
             ],
             [
              0.1111111111111111,
              "#46039f"
             ],
             [
              0.2222222222222222,
              "#7201a8"
             ],
             [
              0.3333333333333333,
              "#9c179e"
             ],
             [
              0.4444444444444444,
              "#bd3786"
             ],
             [
              0.5555555555555556,
              "#d8576b"
             ],
             [
              0.6666666666666666,
              "#ed7953"
             ],
             [
              0.7777777777777778,
              "#fb9f3a"
             ],
             [
              0.8888888888888888,
              "#fdca26"
             ],
             [
              1,
              "#f0f921"
             ]
            ],
            "type": "heatmapgl"
           }
          ],
          "histogram": [
           {
            "marker": {
             "pattern": {
              "fillmode": "overlay",
              "size": 10,
              "solidity": 0.2
             }
            },
            "type": "histogram"
           }
          ],
          "histogram2d": [
           {
            "colorbar": {
             "outlinewidth": 0,
             "ticks": ""
            },
            "colorscale": [
             [
              0,
              "#0d0887"
             ],
             [
              0.1111111111111111,
              "#46039f"
             ],
             [
              0.2222222222222222,
              "#7201a8"
             ],
             [
              0.3333333333333333,
              "#9c179e"
             ],
             [
              0.4444444444444444,
              "#bd3786"
             ],
             [
              0.5555555555555556,
              "#d8576b"
             ],
             [
              0.6666666666666666,
              "#ed7953"
             ],
             [
              0.7777777777777778,
              "#fb9f3a"
             ],
             [
              0.8888888888888888,
              "#fdca26"
             ],
             [
              1,
              "#f0f921"
             ]
            ],
            "type": "histogram2d"
           }
          ],
          "histogram2dcontour": [
           {
            "colorbar": {
             "outlinewidth": 0,
             "ticks": ""
            },
            "colorscale": [
             [
              0,
              "#0d0887"
             ],
             [
              0.1111111111111111,
              "#46039f"
             ],
             [
              0.2222222222222222,
              "#7201a8"
             ],
             [
              0.3333333333333333,
              "#9c179e"
             ],
             [
              0.4444444444444444,
              "#bd3786"
             ],
             [
              0.5555555555555556,
              "#d8576b"
             ],
             [
              0.6666666666666666,
              "#ed7953"
             ],
             [
              0.7777777777777778,
              "#fb9f3a"
             ],
             [
              0.8888888888888888,
              "#fdca26"
             ],
             [
              1,
              "#f0f921"
             ]
            ],
            "type": "histogram2dcontour"
           }
          ],
          "mesh3d": [
           {
            "colorbar": {
             "outlinewidth": 0,
             "ticks": ""
            },
            "type": "mesh3d"
           }
          ],
          "parcoords": [
           {
            "line": {
             "colorbar": {
              "outlinewidth": 0,
              "ticks": ""
             }
            },
            "type": "parcoords"
           }
          ],
          "pie": [
           {
            "automargin": true,
            "type": "pie"
           }
          ],
          "scatter": [
           {
            "fillpattern": {
             "fillmode": "overlay",
             "size": 10,
             "solidity": 0.2
            },
            "type": "scatter"
           }
          ],
          "scatter3d": [
           {
            "line": {
             "colorbar": {
              "outlinewidth": 0,
              "ticks": ""
             }
            },
            "marker": {
             "colorbar": {
              "outlinewidth": 0,
              "ticks": ""
             }
            },
            "type": "scatter3d"
           }
          ],
          "scattercarpet": [
           {
            "marker": {
             "colorbar": {
              "outlinewidth": 0,
              "ticks": ""
             }
            },
            "type": "scattercarpet"
           }
          ],
          "scattergeo": [
           {
            "marker": {
             "colorbar": {
              "outlinewidth": 0,
              "ticks": ""
             }
            },
            "type": "scattergeo"
           }
          ],
          "scattergl": [
           {
            "marker": {
             "colorbar": {
              "outlinewidth": 0,
              "ticks": ""
             }
            },
            "type": "scattergl"
           }
          ],
          "scattermapbox": [
           {
            "marker": {
             "colorbar": {
              "outlinewidth": 0,
              "ticks": ""
             }
            },
            "type": "scattermapbox"
           }
          ],
          "scatterpolar": [
           {
            "marker": {
             "colorbar": {
              "outlinewidth": 0,
              "ticks": ""
             }
            },
            "type": "scatterpolar"
           }
          ],
          "scatterpolargl": [
           {
            "marker": {
             "colorbar": {
              "outlinewidth": 0,
              "ticks": ""
             }
            },
            "type": "scatterpolargl"
           }
          ],
          "scatterternary": [
           {
            "marker": {
             "colorbar": {
              "outlinewidth": 0,
              "ticks": ""
             }
            },
            "type": "scatterternary"
           }
          ],
          "surface": [
           {
            "colorbar": {
             "outlinewidth": 0,
             "ticks": ""
            },
            "colorscale": [
             [
              0,
              "#0d0887"
             ],
             [
              0.1111111111111111,
              "#46039f"
             ],
             [
              0.2222222222222222,
              "#7201a8"
             ],
             [
              0.3333333333333333,
              "#9c179e"
             ],
             [
              0.4444444444444444,
              "#bd3786"
             ],
             [
              0.5555555555555556,
              "#d8576b"
             ],
             [
              0.6666666666666666,
              "#ed7953"
             ],
             [
              0.7777777777777778,
              "#fb9f3a"
             ],
             [
              0.8888888888888888,
              "#fdca26"
             ],
             [
              1,
              "#f0f921"
             ]
            ],
            "type": "surface"
           }
          ],
          "table": [
           {
            "cells": {
             "fill": {
              "color": "#EBF0F8"
             },
             "line": {
              "color": "white"
             }
            },
            "header": {
             "fill": {
              "color": "#C8D4E3"
             },
             "line": {
              "color": "white"
             }
            },
            "type": "table"
           }
          ]
         },
         "layout": {
          "annotationdefaults": {
           "arrowcolor": "#2a3f5f",
           "arrowhead": 0,
           "arrowwidth": 1
          },
          "autotypenumbers": "strict",
          "coloraxis": {
           "colorbar": {
            "outlinewidth": 0,
            "ticks": ""
           }
          },
          "colorscale": {
           "diverging": [
            [
             0,
             "#8e0152"
            ],
            [
             0.1,
             "#c51b7d"
            ],
            [
             0.2,
             "#de77ae"
            ],
            [
             0.3,
             "#f1b6da"
            ],
            [
             0.4,
             "#fde0ef"
            ],
            [
             0.5,
             "#f7f7f7"
            ],
            [
             0.6,
             "#e6f5d0"
            ],
            [
             0.7,
             "#b8e186"
            ],
            [
             0.8,
             "#7fbc41"
            ],
            [
             0.9,
             "#4d9221"
            ],
            [
             1,
             "#276419"
            ]
           ],
           "sequential": [
            [
             0,
             "#0d0887"
            ],
            [
             0.1111111111111111,
             "#46039f"
            ],
            [
             0.2222222222222222,
             "#7201a8"
            ],
            [
             0.3333333333333333,
             "#9c179e"
            ],
            [
             0.4444444444444444,
             "#bd3786"
            ],
            [
             0.5555555555555556,
             "#d8576b"
            ],
            [
             0.6666666666666666,
             "#ed7953"
            ],
            [
             0.7777777777777778,
             "#fb9f3a"
            ],
            [
             0.8888888888888888,
             "#fdca26"
            ],
            [
             1,
             "#f0f921"
            ]
           ],
           "sequentialminus": [
            [
             0,
             "#0d0887"
            ],
            [
             0.1111111111111111,
             "#46039f"
            ],
            [
             0.2222222222222222,
             "#7201a8"
            ],
            [
             0.3333333333333333,
             "#9c179e"
            ],
            [
             0.4444444444444444,
             "#bd3786"
            ],
            [
             0.5555555555555556,
             "#d8576b"
            ],
            [
             0.6666666666666666,
             "#ed7953"
            ],
            [
             0.7777777777777778,
             "#fb9f3a"
            ],
            [
             0.8888888888888888,
             "#fdca26"
            ],
            [
             1,
             "#f0f921"
            ]
           ]
          },
          "colorway": [
           "#636efa",
           "#EF553B",
           "#00cc96",
           "#ab63fa",
           "#FFA15A",
           "#19d3f3",
           "#FF6692",
           "#B6E880",
           "#FF97FF",
           "#FECB52"
          ],
          "font": {
           "color": "#2a3f5f"
          },
          "geo": {
           "bgcolor": "white",
           "lakecolor": "white",
           "landcolor": "white",
           "showlakes": true,
           "showland": true,
           "subunitcolor": "#C8D4E3"
          },
          "hoverlabel": {
           "align": "left"
          },
          "hovermode": "closest",
          "mapbox": {
           "style": "light"
          },
          "paper_bgcolor": "white",
          "plot_bgcolor": "white",
          "polar": {
           "angularaxis": {
            "gridcolor": "#EBF0F8",
            "linecolor": "#EBF0F8",
            "ticks": ""
           },
           "bgcolor": "white",
           "radialaxis": {
            "gridcolor": "#EBF0F8",
            "linecolor": "#EBF0F8",
            "ticks": ""
           }
          },
          "scene": {
           "xaxis": {
            "backgroundcolor": "white",
            "gridcolor": "#DFE8F3",
            "gridwidth": 2,
            "linecolor": "#EBF0F8",
            "showbackground": true,
            "ticks": "",
            "zerolinecolor": "#EBF0F8"
           },
           "yaxis": {
            "backgroundcolor": "white",
            "gridcolor": "#DFE8F3",
            "gridwidth": 2,
            "linecolor": "#EBF0F8",
            "showbackground": true,
            "ticks": "",
            "zerolinecolor": "#EBF0F8"
           },
           "zaxis": {
            "backgroundcolor": "white",
            "gridcolor": "#DFE8F3",
            "gridwidth": 2,
            "linecolor": "#EBF0F8",
            "showbackground": true,
            "ticks": "",
            "zerolinecolor": "#EBF0F8"
           }
          },
          "shapedefaults": {
           "line": {
            "color": "#2a3f5f"
           }
          },
          "ternary": {
           "aaxis": {
            "gridcolor": "#DFE8F3",
            "linecolor": "#A2B1C6",
            "ticks": ""
           },
           "baxis": {
            "gridcolor": "#DFE8F3",
            "linecolor": "#A2B1C6",
            "ticks": ""
           },
           "bgcolor": "white",
           "caxis": {
            "gridcolor": "#DFE8F3",
            "linecolor": "#A2B1C6",
            "ticks": ""
           }
          },
          "title": {
           "x": 0.05
          },
          "xaxis": {
           "automargin": true,
           "gridcolor": "#EBF0F8",
           "linecolor": "#EBF0F8",
           "ticks": "",
           "title": {
            "standoff": 15
           },
           "zerolinecolor": "#EBF0F8",
           "zerolinewidth": 2
          },
          "yaxis": {
           "automargin": true,
           "gridcolor": "#EBF0F8",
           "linecolor": "#EBF0F8",
           "ticks": "",
           "title": {
            "standoff": 15
           },
           "zerolinecolor": "#EBF0F8",
           "zerolinewidth": 2
          }
         }
        },
        "title": {
         "text": "Grid World"
        },
        "width": 600
       }
      }
     },
     "metadata": {},
     "output_type": "display_data"
    }
   ],
   "source": [
    "world.ShowGridWorld_Activated()"
   ]
  },
  {
   "cell_type": "code",
   "execution_count": 7,
   "metadata": {},
   "outputs": [],
   "source": [
    "dme = DMEIRL(world,layers = (16,16),lr = 0.001)"
   ]
  },
  {
   "cell_type": "code",
   "execution_count": null,
   "metadata": {},
   "outputs": [],
   "source": [
    "rewards_result = dme.train(n_epochs=100,save = False)"
   ]
  },
  {
   "cell_type": "code",
   "execution_count": 123,
   "metadata": {},
   "outputs": [
    {
     "data": {
      "text/plain": [
       "75"
      ]
     },
     "execution_count": 123,
     "metadata": {},
     "output_type": "execute_result"
    }
   ],
   "source": [
    "len(rewards_result)"
   ]
  },
  {
   "cell_type": "code",
   "execution_count": 9,
   "metadata": {},
   "outputs": [
    {
     "data": {
      "application/vnd.plotly.v1+json": {
       "config": {
        "plotlyServerURL": "https://plot.ly"
       },
       "data": [
        {
         "type": "heatmap",
         "z": [
          [
           -0.6593519449234009,
           -0.6626670360565186,
           -0.577267050743103,
           0.18712198734283447,
           0.8190035820007324,
           0.908136248588562,
           0.9095702171325684,
           0.9296125173568726,
           0.9429532289505005,
           0.944510281085968
          ],
          [
           -0.5941363573074341,
           -0.5945227146148682,
           -0.6136295199394226,
           -0.21837115287780762,
           0.7336759567260742,
           0.8911489248275757,
           0.9039198160171509,
           0.9330809116363525,
           0.9489942789077759,
           0.9463765025138855
          ],
          [
           -0.5135759711265564,
           -0.4654402732849121,
           -0.5945227146148682,
           -0.40752989053726196,
           0.6890422105789185,
           0.9191036224365234,
           0.9104690551757812,
           0.9199568033218384,
           0.9399190545082092,
           0.9420043230056763
          ],
          [
           0.14315862953662872,
           -0.5135759711265564,
           -0.5941363573074341,
           -0.5394848585128784,
           0.3172372579574585,
           0.8162795305252075,
           0.8690626621246338,
           0.8636629581451416,
           0,
           0
          ],
          [
           -0.21978627145290375,
           -0.4654402732849121,
           -0.5945227146148682,
           -0.6136295199394226,
           -0.17360654473304749,
           0.43745750188827515,
           0.7015979290008545,
           0,
           0,
           0
          ],
          [
           -0.6402381658554077,
           -0.7137316465377808,
           -0.6710789203643799,
           -0.37615081667900085,
           -0.13418936729431152,
           0.02797636389732361,
           0,
           0,
           0,
           0
          ],
          [
           0,
           0,
           0,
           0,
           0,
           0.47434064745903015,
           0.71906578540802,
           0.8430241346359253,
           0.8849244713783264,
           0.9066200256347656
          ],
          [
           0,
           0,
           0,
           0,
           0,
           0,
           0.8624112606048584,
           0.9086405634880066,
           0.922672688961029,
           0.9313335418701172
          ],
          [
           0,
           0,
           0,
           0,
           0,
           0.843203067779541,
           0.9127023220062256,
           0.9271352887153625,
           0.9395076036453247,
           0.9419834017753601
          ],
          [
           -0.6719536781311035,
           -0.4952695071697235,
           -0.13418936729431152,
           0.2804855704307556,
           0.5812833905220032,
           0.8278021812438965,
           0.9132925868034363,
           0.9345640540122986,
           0.9486344456672668,
           0.9463056325912476
          ]
         ]
        }
       ],
       "layout": {
        "autosize": false,
        "height": 400,
        "margin": {
         "b": 50,
         "l": 20,
         "r": 20,
         "t": 50
        },
        "template": {
         "data": {
          "bar": [
           {
            "error_x": {
             "color": "#2a3f5f"
            },
            "error_y": {
             "color": "#2a3f5f"
            },
            "marker": {
             "line": {
              "color": "white",
              "width": 0.5
             },
             "pattern": {
              "fillmode": "overlay",
              "size": 10,
              "solidity": 0.2
             }
            },
            "type": "bar"
           }
          ],
          "barpolar": [
           {
            "marker": {
             "line": {
              "color": "white",
              "width": 0.5
             },
             "pattern": {
              "fillmode": "overlay",
              "size": 10,
              "solidity": 0.2
             }
            },
            "type": "barpolar"
           }
          ],
          "carpet": [
           {
            "aaxis": {
             "endlinecolor": "#2a3f5f",
             "gridcolor": "#C8D4E3",
             "linecolor": "#C8D4E3",
             "minorgridcolor": "#C8D4E3",
             "startlinecolor": "#2a3f5f"
            },
            "baxis": {
             "endlinecolor": "#2a3f5f",
             "gridcolor": "#C8D4E3",
             "linecolor": "#C8D4E3",
             "minorgridcolor": "#C8D4E3",
             "startlinecolor": "#2a3f5f"
            },
            "type": "carpet"
           }
          ],
          "choropleth": [
           {
            "colorbar": {
             "outlinewidth": 0,
             "ticks": ""
            },
            "type": "choropleth"
           }
          ],
          "contour": [
           {
            "colorbar": {
             "outlinewidth": 0,
             "ticks": ""
            },
            "colorscale": [
             [
              0,
              "#0d0887"
             ],
             [
              0.1111111111111111,
              "#46039f"
             ],
             [
              0.2222222222222222,
              "#7201a8"
             ],
             [
              0.3333333333333333,
              "#9c179e"
             ],
             [
              0.4444444444444444,
              "#bd3786"
             ],
             [
              0.5555555555555556,
              "#d8576b"
             ],
             [
              0.6666666666666666,
              "#ed7953"
             ],
             [
              0.7777777777777778,
              "#fb9f3a"
             ],
             [
              0.8888888888888888,
              "#fdca26"
             ],
             [
              1,
              "#f0f921"
             ]
            ],
            "type": "contour"
           }
          ],
          "contourcarpet": [
           {
            "colorbar": {
             "outlinewidth": 0,
             "ticks": ""
            },
            "type": "contourcarpet"
           }
          ],
          "heatmap": [
           {
            "colorbar": {
             "outlinewidth": 0,
             "ticks": ""
            },
            "colorscale": [
             [
              0,
              "#0d0887"
             ],
             [
              0.1111111111111111,
              "#46039f"
             ],
             [
              0.2222222222222222,
              "#7201a8"
             ],
             [
              0.3333333333333333,
              "#9c179e"
             ],
             [
              0.4444444444444444,
              "#bd3786"
             ],
             [
              0.5555555555555556,
              "#d8576b"
             ],
             [
              0.6666666666666666,
              "#ed7953"
             ],
             [
              0.7777777777777778,
              "#fb9f3a"
             ],
             [
              0.8888888888888888,
              "#fdca26"
             ],
             [
              1,
              "#f0f921"
             ]
            ],
            "type": "heatmap"
           }
          ],
          "heatmapgl": [
           {
            "colorbar": {
             "outlinewidth": 0,
             "ticks": ""
            },
            "colorscale": [
             [
              0,
              "#0d0887"
             ],
             [
              0.1111111111111111,
              "#46039f"
             ],
             [
              0.2222222222222222,
              "#7201a8"
             ],
             [
              0.3333333333333333,
              "#9c179e"
             ],
             [
              0.4444444444444444,
              "#bd3786"
             ],
             [
              0.5555555555555556,
              "#d8576b"
             ],
             [
              0.6666666666666666,
              "#ed7953"
             ],
             [
              0.7777777777777778,
              "#fb9f3a"
             ],
             [
              0.8888888888888888,
              "#fdca26"
             ],
             [
              1,
              "#f0f921"
             ]
            ],
            "type": "heatmapgl"
           }
          ],
          "histogram": [
           {
            "marker": {
             "pattern": {
              "fillmode": "overlay",
              "size": 10,
              "solidity": 0.2
             }
            },
            "type": "histogram"
           }
          ],
          "histogram2d": [
           {
            "colorbar": {
             "outlinewidth": 0,
             "ticks": ""
            },
            "colorscale": [
             [
              0,
              "#0d0887"
             ],
             [
              0.1111111111111111,
              "#46039f"
             ],
             [
              0.2222222222222222,
              "#7201a8"
             ],
             [
              0.3333333333333333,
              "#9c179e"
             ],
             [
              0.4444444444444444,
              "#bd3786"
             ],
             [
              0.5555555555555556,
              "#d8576b"
             ],
             [
              0.6666666666666666,
              "#ed7953"
             ],
             [
              0.7777777777777778,
              "#fb9f3a"
             ],
             [
              0.8888888888888888,
              "#fdca26"
             ],
             [
              1,
              "#f0f921"
             ]
            ],
            "type": "histogram2d"
           }
          ],
          "histogram2dcontour": [
           {
            "colorbar": {
             "outlinewidth": 0,
             "ticks": ""
            },
            "colorscale": [
             [
              0,
              "#0d0887"
             ],
             [
              0.1111111111111111,
              "#46039f"
             ],
             [
              0.2222222222222222,
              "#7201a8"
             ],
             [
              0.3333333333333333,
              "#9c179e"
             ],
             [
              0.4444444444444444,
              "#bd3786"
             ],
             [
              0.5555555555555556,
              "#d8576b"
             ],
             [
              0.6666666666666666,
              "#ed7953"
             ],
             [
              0.7777777777777778,
              "#fb9f3a"
             ],
             [
              0.8888888888888888,
              "#fdca26"
             ],
             [
              1,
              "#f0f921"
             ]
            ],
            "type": "histogram2dcontour"
           }
          ],
          "mesh3d": [
           {
            "colorbar": {
             "outlinewidth": 0,
             "ticks": ""
            },
            "type": "mesh3d"
           }
          ],
          "parcoords": [
           {
            "line": {
             "colorbar": {
              "outlinewidth": 0,
              "ticks": ""
             }
            },
            "type": "parcoords"
           }
          ],
          "pie": [
           {
            "automargin": true,
            "type": "pie"
           }
          ],
          "scatter": [
           {
            "fillpattern": {
             "fillmode": "overlay",
             "size": 10,
             "solidity": 0.2
            },
            "type": "scatter"
           }
          ],
          "scatter3d": [
           {
            "line": {
             "colorbar": {
              "outlinewidth": 0,
              "ticks": ""
             }
            },
            "marker": {
             "colorbar": {
              "outlinewidth": 0,
              "ticks": ""
             }
            },
            "type": "scatter3d"
           }
          ],
          "scattercarpet": [
           {
            "marker": {
             "colorbar": {
              "outlinewidth": 0,
              "ticks": ""
             }
            },
            "type": "scattercarpet"
           }
          ],
          "scattergeo": [
           {
            "marker": {
             "colorbar": {
              "outlinewidth": 0,
              "ticks": ""
             }
            },
            "type": "scattergeo"
           }
          ],
          "scattergl": [
           {
            "marker": {
             "colorbar": {
              "outlinewidth": 0,
              "ticks": ""
             }
            },
            "type": "scattergl"
           }
          ],
          "scattermapbox": [
           {
            "marker": {
             "colorbar": {
              "outlinewidth": 0,
              "ticks": ""
             }
            },
            "type": "scattermapbox"
           }
          ],
          "scatterpolar": [
           {
            "marker": {
             "colorbar": {
              "outlinewidth": 0,
              "ticks": ""
             }
            },
            "type": "scatterpolar"
           }
          ],
          "scatterpolargl": [
           {
            "marker": {
             "colorbar": {
              "outlinewidth": 0,
              "ticks": ""
             }
            },
            "type": "scatterpolargl"
           }
          ],
          "scatterternary": [
           {
            "marker": {
             "colorbar": {
              "outlinewidth": 0,
              "ticks": ""
             }
            },
            "type": "scatterternary"
           }
          ],
          "surface": [
           {
            "colorbar": {
             "outlinewidth": 0,
             "ticks": ""
            },
            "colorscale": [
             [
              0,
              "#0d0887"
             ],
             [
              0.1111111111111111,
              "#46039f"
             ],
             [
              0.2222222222222222,
              "#7201a8"
             ],
             [
              0.3333333333333333,
              "#9c179e"
             ],
             [
              0.4444444444444444,
              "#bd3786"
             ],
             [
              0.5555555555555556,
              "#d8576b"
             ],
             [
              0.6666666666666666,
              "#ed7953"
             ],
             [
              0.7777777777777778,
              "#fb9f3a"
             ],
             [
              0.8888888888888888,
              "#fdca26"
             ],
             [
              1,
              "#f0f921"
             ]
            ],
            "type": "surface"
           }
          ],
          "table": [
           {
            "cells": {
             "fill": {
              "color": "#EBF0F8"
             },
             "line": {
              "color": "white"
             }
            },
            "header": {
             "fill": {
              "color": "#C8D4E3"
             },
             "line": {
              "color": "white"
             }
            },
            "type": "table"
           }
          ]
         },
         "layout": {
          "annotationdefaults": {
           "arrowcolor": "#2a3f5f",
           "arrowhead": 0,
           "arrowwidth": 1
          },
          "autotypenumbers": "strict",
          "coloraxis": {
           "colorbar": {
            "outlinewidth": 0,
            "ticks": ""
           }
          },
          "colorscale": {
           "diverging": [
            [
             0,
             "#8e0152"
            ],
            [
             0.1,
             "#c51b7d"
            ],
            [
             0.2,
             "#de77ae"
            ],
            [
             0.3,
             "#f1b6da"
            ],
            [
             0.4,
             "#fde0ef"
            ],
            [
             0.5,
             "#f7f7f7"
            ],
            [
             0.6,
             "#e6f5d0"
            ],
            [
             0.7,
             "#b8e186"
            ],
            [
             0.8,
             "#7fbc41"
            ],
            [
             0.9,
             "#4d9221"
            ],
            [
             1,
             "#276419"
            ]
           ],
           "sequential": [
            [
             0,
             "#0d0887"
            ],
            [
             0.1111111111111111,
             "#46039f"
            ],
            [
             0.2222222222222222,
             "#7201a8"
            ],
            [
             0.3333333333333333,
             "#9c179e"
            ],
            [
             0.4444444444444444,
             "#bd3786"
            ],
            [
             0.5555555555555556,
             "#d8576b"
            ],
            [
             0.6666666666666666,
             "#ed7953"
            ],
            [
             0.7777777777777778,
             "#fb9f3a"
            ],
            [
             0.8888888888888888,
             "#fdca26"
            ],
            [
             1,
             "#f0f921"
            ]
           ],
           "sequentialminus": [
            [
             0,
             "#0d0887"
            ],
            [
             0.1111111111111111,
             "#46039f"
            ],
            [
             0.2222222222222222,
             "#7201a8"
            ],
            [
             0.3333333333333333,
             "#9c179e"
            ],
            [
             0.4444444444444444,
             "#bd3786"
            ],
            [
             0.5555555555555556,
             "#d8576b"
            ],
            [
             0.6666666666666666,
             "#ed7953"
            ],
            [
             0.7777777777777778,
             "#fb9f3a"
            ],
            [
             0.8888888888888888,
             "#fdca26"
            ],
            [
             1,
             "#f0f921"
            ]
           ]
          },
          "colorway": [
           "#636efa",
           "#EF553B",
           "#00cc96",
           "#ab63fa",
           "#FFA15A",
           "#19d3f3",
           "#FF6692",
           "#B6E880",
           "#FF97FF",
           "#FECB52"
          ],
          "font": {
           "color": "#2a3f5f"
          },
          "geo": {
           "bgcolor": "white",
           "lakecolor": "white",
           "landcolor": "white",
           "showlakes": true,
           "showland": true,
           "subunitcolor": "#C8D4E3"
          },
          "hoverlabel": {
           "align": "left"
          },
          "hovermode": "closest",
          "mapbox": {
           "style": "light"
          },
          "paper_bgcolor": "white",
          "plot_bgcolor": "white",
          "polar": {
           "angularaxis": {
            "gridcolor": "#EBF0F8",
            "linecolor": "#EBF0F8",
            "ticks": ""
           },
           "bgcolor": "white",
           "radialaxis": {
            "gridcolor": "#EBF0F8",
            "linecolor": "#EBF0F8",
            "ticks": ""
           }
          },
          "scene": {
           "xaxis": {
            "backgroundcolor": "white",
            "gridcolor": "#DFE8F3",
            "gridwidth": 2,
            "linecolor": "#EBF0F8",
            "showbackground": true,
            "ticks": "",
            "zerolinecolor": "#EBF0F8"
           },
           "yaxis": {
            "backgroundcolor": "white",
            "gridcolor": "#DFE8F3",
            "gridwidth": 2,
            "linecolor": "#EBF0F8",
            "showbackground": true,
            "ticks": "",
            "zerolinecolor": "#EBF0F8"
           },
           "zaxis": {
            "backgroundcolor": "white",
            "gridcolor": "#DFE8F3",
            "gridwidth": 2,
            "linecolor": "#EBF0F8",
            "showbackground": true,
            "ticks": "",
            "zerolinecolor": "#EBF0F8"
           }
          },
          "shapedefaults": {
           "line": {
            "color": "#2a3f5f"
           }
          },
          "ternary": {
           "aaxis": {
            "gridcolor": "#DFE8F3",
            "linecolor": "#A2B1C6",
            "ticks": ""
           },
           "baxis": {
            "gridcolor": "#DFE8F3",
            "linecolor": "#A2B1C6",
            "ticks": ""
           },
           "bgcolor": "white",
           "caxis": {
            "gridcolor": "#DFE8F3",
            "linecolor": "#A2B1C6",
            "ticks": ""
           }
          },
          "title": {
           "x": 0.05
          },
          "xaxis": {
           "automargin": true,
           "gridcolor": "#EBF0F8",
           "linecolor": "#EBF0F8",
           "ticks": "",
           "title": {
            "standoff": 15
           },
           "zerolinecolor": "#EBF0F8",
           "zerolinewidth": 2
          },
          "yaxis": {
           "automargin": true,
           "gridcolor": "#EBF0F8",
           "linecolor": "#EBF0F8",
           "ticks": "",
           "title": {
            "standoff": 15
           },
           "zerolinecolor": "#EBF0F8",
           "zerolinewidth": 2
          }
         }
        },
        "title": {
         "text": "DMEIRL奖励复原结果"
        },
        "width": 400
       }
      }
     },
     "metadata": {},
     "output_type": "display_data"
    }
   ],
   "source": [
    "world.ShowRewardsResult(rewards_result,title='DMEIRL奖励复原结果')"
   ]
  },
  {
   "cell_type": "code",
   "execution_count": 10,
   "metadata": {},
   "outputs": [
    {
     "data": {
      "application/vnd.plotly.v1+json": {
       "config": {
        "plotlyServerURL": "https://plot.ly"
       },
       "data": [
        {
         "type": "heatmap",
         "z": [
          [
           0.30752941966056824,
           0.3037935197353363,
           0.27257201075553894,
           0.13746513426303864,
           0.01974092237651348,
           -0.04680700600147247,
           -0.037296704947948456,
           -0.04574596509337425,
           -0.028649773448705673,
           -0.018860308453440666
          ],
          [
           0.3235153257846832,
           0.3082312047481537,
           0.29159823060035706,
           0.20369485020637512,
           0.053016796708106995,
           -0.024792417883872986,
           -0.03285706043243408,
           -0.027436669915914536,
           0.014920349232852459,
           -0.0002937018871307373
          ],
          [
           0.3404853045940399,
           0.2903631925582886,
           0.3082312047481537,
           0.2960854768753052,
           0.15111596882343292,
           0.0622355155646801,
           0.016698135063052177,
           0.008084568195044994,
           0.011140243150293827,
           0.014212127774953842
          ],
          [
           0.12057477235794067,
           0.3404853045940399,
           0.3235153257846832,
           0.32389435172080994,
           0.25429025292396545,
           0.15024064481258392,
           0.08900800347328186,
           0.07098182290792465,
           0,
           0
          ],
          [
           0.21777641773223877,
           0.2903631925582886,
           0.3082312047481537,
           0.29159823060035706,
           0.2762226164340973,
           0.22953461110591888,
           0.15617944300174713,
           0,
           0,
           0
          ],
          [
           0.287898987531662,
           0.29850393533706665,
           0.2885870337486267,
           0.25243422389030457,
           0.24372351169586182,
           0.18004897236824036,
           0,
           0,
           0,
           0
          ],
          [
           0,
           0,
           0,
           0,
           0,
           0.1076570451259613,
           0.0676610916852951,
           0.032382234930992126,
           0.008563264273107052,
           0.008051489479839802
          ],
          [
           0,
           0,
           0,
           0,
           0,
           0,
           0.008541018702089787,
           -0.033680643886327744,
           -0.04175632819533348,
           -0.032674480229616165
          ],
          [
           0,
           0,
           0,
           0,
           0,
           0.009265336208045483,
           -0.047584183514118195,
           -0.06312103569507599,
           -0.05366368591785431,
           -0.04445318505167961
          ],
          [
           0.2807718515396118,
           0.25884661078453064,
           0.24372351169586182,
           0.2038259655237198,
           0.09078454971313477,
           0.028316093608736992,
           -0.043493323028087616,
           -0.06142271310091019,
           -0.027793847024440765,
           -0.03915775939822197
          ]
         ]
        }
       ],
       "frames": [
        {
         "data": [
          {
           "type": "heatmap",
           "z": [
            [
             0.30752941966056824,
             0.3037935197353363,
             0.27257201075553894,
             0.13746513426303864,
             0.01974092237651348,
             -0.04680700600147247,
             -0.037296704947948456,
             -0.04574596509337425,
             -0.028649773448705673,
             -0.018860308453440666
            ],
            [
             0.3235153257846832,
             0.3082312047481537,
             0.29159823060035706,
             0.20369485020637512,
             0.053016796708106995,
             -0.024792417883872986,
             -0.03285706043243408,
             -0.027436669915914536,
             0.014920349232852459,
             -0.0002937018871307373
            ],
            [
             0.3404853045940399,
             0.2903631925582886,
             0.3082312047481537,
             0.2960854768753052,
             0.15111596882343292,
             0.0622355155646801,
             0.016698135063052177,
             0.008084568195044994,
             0.011140243150293827,
             0.014212127774953842
            ],
            [
             0.12057477235794067,
             0.3404853045940399,
             0.3235153257846832,
             0.32389435172080994,
             0.25429025292396545,
             0.15024064481258392,
             0.08900800347328186,
             0.07098182290792465,
             0,
             0
            ],
            [
             0.21777641773223877,
             0.2903631925582886,
             0.3082312047481537,
             0.29159823060035706,
             0.2762226164340973,
             0.22953461110591888,
             0.15617944300174713,
             0,
             0,
             0
            ],
            [
             0.287898987531662,
             0.29850393533706665,
             0.2885870337486267,
             0.25243422389030457,
             0.24372351169586182,
             0.18004897236824036,
             0,
             0,
             0,
             0
            ],
            [
             0,
             0,
             0,
             0,
             0,
             0.1076570451259613,
             0.0676610916852951,
             0.032382234930992126,
             0.008563264273107052,
             0.008051489479839802
            ],
            [
             0,
             0,
             0,
             0,
             0,
             0,
             0.008541018702089787,
             -0.033680643886327744,
             -0.04175632819533348,
             -0.032674480229616165
            ],
            [
             0,
             0,
             0,
             0,
             0,
             0.009265336208045483,
             -0.047584183514118195,
             -0.06312103569507599,
             -0.05366368591785431,
             -0.04445318505167961
            ],
            [
             0.2807718515396118,
             0.25884661078453064,
             0.24372351169586182,
             0.2038259655237198,
             0.09078454971313477,
             0.028316093608736992,
             -0.043493323028087616,
             -0.06142271310091019,
             -0.027793847024440765,
             -0.03915775939822197
            ]
           ]
          }
         ]
        },
        {
         "data": [
          {
           "type": "heatmap",
           "z": [
            [
             0.30572134256362915,
             0.3020938038825989,
             0.2719784080982208,
             0.14392495155334473,
             0.035188667476177216,
             -0.026005661115050316,
             -0.017109230160713196,
             -0.024945134297013283,
             -0.007490360643714666,
             0.0013877293094992638
            ],
            [
             0.32130131125450134,
             0.30658993124961853,
             0.2904249429702759,
             0.2067451775074005,
             0.06572753190994263,
             -0.00628394540399313,
             -0.013810322619974613,
             -0.0071264938451349735,
             0.03553604334592819,
             0.019524432718753815
            ],
            [
             0.3368907868862152,
             0.28949257731437683,
             0.30658993124961853,
             0.2956826090812683,
             0.15994901955127716,
             0.07873310893774033,
             0.033812787383794785,
             0.02549844980239868,
             0.029739949852228165,
             0.0321783609688282
            ],
            [
             0.12597426772117615,
             0.3368907868862152,
             0.32130131125450134,
             0.3222106397151947,
             0.25773248076438904,
             0.1600693166255951,
             0.10155338793992996,
             0.08372587710618973,
             0,
             0
            ],
            [
             0.21990956366062164,
             0.28949257731437683,
             0.30658993124961853,
             0.2904249429702759,
             0.2772856056690216,
             0.23398451507091522,
             0.16417279839515686,
             0,
             0,
             0
            ],
            [
             0.28594058752059937,
             0.29535579681396484,
             0.28636595606803894,
             0.25335007905960083,
             0.24588564038276672,
             0.18470560014247894,
             0,
             0,
             0,
             0
            ],
            [
             0,
             0,
             0,
             0,
             0,
             0.11653058975934982,
             0.0795687809586525,
             0.04709647595882416,
             0.024666832759976387,
             0.024521425366401672
            ],
            [
             0,
             0,
             0,
             0,
             0,
             0,
             0.025648852810263634,
             -0.014053566381335258,
             -0.02183021977543831,
             -0.013019347563385963
            ],
            [
             0,
             0,
             0,
             0,
             0,
             0.025592921301722527,
             -0.026452388614416122,
             -0.04132941737771034,
             -0.031503040343523026,
             -0.022789286449551582
            ],
            [
             0.2791530191898346,
             0.2590183615684509,
             0.24588564038276672,
             0.2086336463689804,
             0.10077613592147827,
             0.04345383495092392,
             -0.02300269342958927,
             -0.03932458907365799,
             -0.005261432379484177,
             -0.016981400549411774
            ]
           ]
          }
         ]
        },
        {
         "data": [
          {
           "type": "heatmap",
           "z": [
            [
             0.30396026372909546,
             0.3004396855831146,
             0.2714124321937561,
             0.15029609203338623,
             0.05045080557465553,
             -0.0053658862598240376,
             0.0028882096521556377,
             -0.004351394716650248,
             0.013421445153653622,
             0.02136280946433544
            ],
            [
             0.31913310289382935,
             0.30498990416526794,
             0.2892884612083435,
             0.2097613364458084,
             0.07825878262519836,
             0.012027681805193424,
             0.0050352090038359165,
             0.01295151375234127,
             0.05586981773376465,
             0.03905421867966652
            ],
            [
             0.33335167169570923,
             0.28865283727645874,
             0.30498990416526794,
             0.2953052222728729,
             0.16863557696342468,
             0.09498261660337448,
             0.050685834139585495,
             0.04265975207090378,
             0.04806042090058327,
             0.0498533733189106
            ],
            [
             0.1313435137271881,
             0.33335167169570923,
             0.31913310289382935,
             0.32057079672813416,
             0.2611282467842102,
             0.16971968114376068,
             0.11387256532907486,
             0.0962294414639473,
             0,
             0
            ],
            [
             0.2220381200313568,
             0.28865283727645874,
             0.30498990416526794,
             0.2892884612083435,
             0.27834755182266235,
             0.23836076259613037,
             0.1720087230205536,
             0,
             0,
             0
            ],
            [
             0.2840316891670227,
             0.2922664284706116,
             0.2841970920562744,
             0.2542710304260254,
             0.24802568554878235,
             0.1892850548028946,
             0,
             0,
             0,
             0
            ],
            [
             0,
             0,
             0,
             0,
             0,
             0.12525813281536102,
             0.09130050241947174,
             0.06159724295139313,
             0.04053167998790741,
             0.04072584956884384
            ],
            [
             0,
             0,
             0,
             0,
             0,
             0,
             0.04256119579076767,
             0.005374320317059755,
             -0.0021141734905540943,
             0.006399186328053474
            ],
            [
             0,
             0,
             0,
             0,
             0,
             0.041729312390089035,
             -0.005482052452862263,
             -0.019704682752490044,
             -0.00953871849924326,
             -0.0013523093657568097
            ],
            [
             0.27757641673088074,
             0.2592054605484009,
             0.24802568554878235,
             0.21336372196674347,
             0.11060335487127304,
             0.0583985261619091,
             -0.0026983702555298805,
             -0.01740253157913685,
             0.0170433409512043,
             0.004959304351359606
            ]
           ]
          }
         ]
        },
        {
         "data": [
          {
           "type": "heatmap",
           "z": [
            [
             0.30223217606544495,
             0.2988150417804718,
             0.2708529233932495,
             0.15655799210071564,
             0.06550245732069016,
             0.015066035091876984,
             0.02265557274222374,
             0.0159983541816473,
             0.034055959433317184,
             0.04104458913207054
            ],
            [
             0.3170081079006195,
             0.30342361330986023,
             0.2881729006767273,
             0.2127227634191513,
             0.09059003740549088,
             0.030111238360404968,
             0.023646609857678413,
             0.03276742249727249,
             0.07590261101722717,
             0.0582825131714344
            ],
            [
             0.3298726975917816,
             0.2878408432006836,
             0.30342361330986023,
             0.2949419319629669,
             0.1771649718284607,
             0.11097278445959091,
             0.0672990083694458,
             0.05955056846141815,
             0.06609009951353073,
             0.06723058223724365
            ],
            [
             0.1366671621799469,
             0.3298726975917816,
             0.3170081079006195,
             0.3189653754234314,
             0.2644675076007843,
             0.17918412387371063,
             0.12595485150814056,
             0.10847808420658112,
             0,
             0
            ],
            [
             0.22415389120578766,
             0.2878408432006836,
             0.30342361330986023,
             0.2881729006767273,
             0.27939262986183167,
             0.2426479309797287,
             0.17967091500759125,
             0,
             0,
             0
            ],
            [
             0.28216448426246643,
             0.2892310321331024,
             0.2820717692375183,
             0.25518274307250977,
             0.2501252293586731,
             0.1937612146139145,
             0,
             0,
             0,
             0
            ],
            [
             0,
             0,
             0,
             0,
             0,
             0.13381686806678772,
             0.10283498466014862,
             0.07586031407117844,
             0.056131500750780106,
             0.05664071813225746
            ],
            [
             0,
             0,
             0,
             0,
             0,
             0,
             0.05924784019589424,
             0.024566132575273514,
             0.01735655963420868,
             0.025550972670316696
            ],
            [
             0,
             0,
             0,
             0,
             0,
             0.057647816836833954,
             0.015278714708983898,
             0.0017060472164303064,
             0.012185908854007721,
             0.01982158049941063
            ],
            [
             0.27601727843284607,
             0.2593860924243927,
             0.2501252293586731,
             0.21799832582473755,
             0.12024334818124771,
             0.07312531769275665,
             0.01737854816019535,
             0.004297483246773481,
             0.03908161073923111,
             0.026627667248249054
            ]
           ]
          }
         ]
        },
        {
         "data": [
          {
           "type": "heatmap",
           "z": [
            [
             0.30050408840179443,
             0.29718369245529175,
             0.2702578604221344,
             0.16267716884613037,
             0.0803169533610344,
             0.03524014726281166,
             0.042151495814323425,
             0.03607136383652687,
             0.054393310099840164,
             0.06042921543121338
            ],
            [
             0.31491151452064514,
             0.3018687963485718,
             0.2870427668094635,
             0.21559248864650726,
             0.1026965007185936,
             0.047936223447322845,
             0.041992317885160446,
             0.052298277616500854,
             0.09562710672616959,
             0.07721418887376785
            ],
            [
             0.3264634609222412,
             0.28704479336738586,
             0.3018687963485718,
             0.29456666111946106,
             0.18552392721176147,
             0.1267021745443344,
             0.0836404412984848,
             0.07616103440523148,
             0.08383288979530334,
             0.08432169258594513
            ],
            [
             0.14194053411483765,
             0.3264634609222412,
             0.31491151452064514,
             0.31736937165260315,
             0.26773273944854736,
             0.18845553696155548,
             0.13779142498970032,
             0.12045718729496002,
             0,
             0
            ],
            [
             0.226241335272789,
             0.28704479336738586,
             0.3018687963485718,
             0.2870427668094635,
             0.2803911864757538,
             0.2468218356370926,
             0.1871361881494522,
             0,
             0,
             0
            ],
            [
             0.28031355142593384,
             0.2862277030944824,
             0.27996256947517395,
             0.25605469942092896,
             0.2521514594554901,
             0.1980912685394287,
             0,
             0,
             0,
             0
            ],
            [
             0,
             0,
             0,
             0,
             0,
             0.14217261970043182,
             0.11414550244808197,
             0.08985945582389832,
             0.07143956422805786,
             0.07224433869123459
            ],
            [
             0,
             0,
             0,
             0,
             0,
             0,
             0.0756770670413971,
             0.04348617047071457,
             0.036551233381032944,
             0.044414471834897995
            ],
            [
             0,
             0,
             0,
             0,
             0,
             0.07332006841897964,
             0.03577719256281853,
             0.0228536706417799,
             0.03363000601530075,
             0.04070470854640007
            ],
            [
             0.2744258642196655,
             0.25951847434043884,
             0.2521514594554901,
             0.2225085198879242,
             0.1296636313199997,
             0.08760745823383331,
             0.037186022847890854,
             0.025728849694132805,
             0.060818396508693695,
             0.04799438267946243
            ]
           ]
          }
         ]
        },
        {
         "data": [
          {
           "type": "heatmap",
           "z": [
            [
             0.2987203896045685,
             0.2954869568347931,
             0.2695615887641907,
             0.16860786080360413,
             0.0948660746216774,
             0.055103953927755356,
             0.06133606284856796,
             0.05584060028195381,
             0.07442323863506317,
             0.07952716946601868
            ],
            [
             0.3128068447113037,
             0.30028077960014343,
             0.2858400046825409,
             0.21831576526165009,
             0.11454911530017853,
             0.06547253578901291,
             0.06004360690712929,
             0.07152783125638962,
             0.1150461882352829,
             0.09586828947067261
            ],
            [
             0.32311293482780457,
             0.28623101115226746,
             0.30028077960014343,
             0.29413360357284546,
             0.19369427859783173,
             0.1421729326248169,
             0.09970331192016602,
             0.09249002486467361,
             0.10130500793457031,
             0.10115459561347961
            ],
            [
             0.14713604748249054,
             0.32311293482780457,
             0.3128068447113037,
             0.31573620438575745,
             0.2708981931209564,
             0.19752652943134308,
             0.1493772566318512,
             0.13215771317481995,
             0,
             0
            ],
            [
             0.22826257348060608,
             0.28623101115226746,
             0.30028077960014343,
             0.2858400046825409,
             0.2812996208667755,
             0.250851571559906,
             0.19437918066978455,
             0,
             0,
             0
            ],
            [
             0.2784237861633301,
             0.28320369124412537,
             0.27781227231025696,
             0.25683650374412537,
             0.2540567219257355,
             0.20221994817256927,
             0,
             0,
             0,
             0
            ],
            [
             0,
             0,
             0,
             0,
             0,
             0.15028372406959534,
             0.12520430982112885,
             0.10357300192117691,
             0.08643694967031479,
             0.08752628415822983
            ],
            [
             0,
             0,
             0,
             0,
             0,
             0,
             0.09181751310825348,
             0.06210219860076904,
             0.055446963757276535,
             0.06298135221004486
            ],
            [
             0,
             0,
             0,
             0,
             0,
             0.08871731162071228,
             0.055958278477191925,
             0.043690282851457596,
             0.05475752428174019,
             0.061278391629457474
            ],
            [
             0.2727249562740326,
             0.2595391571521759,
             0.2540567219257355,
             0.2268558144569397,
             0.13882607221603394,
             0.10181932151317596,
             0.05668320134282112,
             0.04684805870056152,
             0.08222633600234985,
             0.06903907656669617
            ]
           ]
          }
         ]
        },
        {
         "data": [
          {
           "type": "heatmap",
           "z": [
            [
             0.29684850573539734,
             0.29368993639945984,
             0.2687230408191681,
             0.17432507872581482,
             0.10913421213626862,
             0.07461833953857422,
             0.08018312603235245,
             0.07529118657112122,
             0.09414281696081161,
             0.09835436195135117
            ],
            [
             0.3106728196144104,
             0.29863306879997253,
             0.2845292091369629,
             0.22085988521575928,
             0.1261337250471115,
             0.08270073682069778,
             0.07778478413820267,
             0.09044839441776276,
             0.13416698575019836,
             0.11426467448472977
            ],
            [
             0.3198133707046509,
             0.2853774428367615,
             0.29863306879997253,
             0.29361361265182495,
             0.2016696333885193,
             0.1573874056339264,
             0.1154889240860939,
             0.10854680091142654,
             0.1185254156589508,
             0.11776161938905716
            ],
            [
             0.15222851932048798,
             0.3198133707046509,
             0.3106728196144104,
             0.3140360713005066,
             0.27395179867744446,
             0.2064005732536316,
             0.16072100400924683,
             0.14359179139137268,
             0,
             0
            ],
            [
             0.23019038140773773,
             0.2853774428367615,
             0.29863306879997253,
             0.2845292091369629,
             0.28209197521209717,
             0.2547241449356079,
             0.20139607787132263,
             0,
             0,
             0
            ],
            [
             0.2764568626880646,
             0.28012335300445557,
             0.2755820155143738,
             0.25749608874320984,
             0.2558133900165558,
             0.2061181366443634,
             0,
             0,
             0,
             0
            ],
            [
             0,
             0,
             0,
             0,
             0,
             0.15813180804252625,
             0.1360042542219162,
             0.11700084805488586,
             0.10113026201725006,
             0.1025036945939064
            ],
            [
             0,
             0,
             0,
             0,
             0,
             0,
             0.10765168815851212,
             0.08039635419845581,
             0.07403641194105148,
             0.08125916123390198
            ],
            [
             0,
             0,
             0,
             0,
             0,
             0.10382351279258728,
             0.07578116655349731,
             0.0641833245754242,
             0.0755455419421196,
             0.08153412491083145
            ],
            [
             0.2708648443222046,
             0.25940823554992676,
             0.2558133900165558,
             0.2310211956501007,
             0.14771579205989838,
             0.11575134098529816,
             0.07584305852651596,
             0.06762588024139404,
             0.10329027473926544,
             0.08975145220756531
            ]
           ]
          }
         ]
        },
        {
         "data": [
          {
           "type": "heatmap",
           "z": [
            [
             0.29489848017692566,
             0.2918027639389038,
             0.2677510678768158,
             0.17984506487846375,
             0.12313194572925568,
             0.0937744677066803,
             0.09869472682476044,
             0.09443046897649765,
             0.11356246471405029,
             0.11693260073661804
            ],
            [
             0.3085169792175293,
             0.29693371057510376,
             0.28311944007873535,
             0.22323742508888245,
             0.13746678829193115,
             0.09962613135576248,
             0.09522505849599838,
             0.10906974226236343,
             0.15300253033638,
             0.13242563605308533
            ],
            [
             0.3165666162967682,
             0.28448814153671265,
             0.29693371057510376,
             0.2930147051811218,
             0.20946979522705078,
             0.17235900461673737,
             0.13101625442504883,
             0.12435761094093323,
             0.1355188637971878,
             0.13417737185955048
            ],
            [
             0.15721136331558228,
             0.3165666162967682,
             0.3085169792175293,
             0.31227588653564453,
             0.27691134810447693,
             0.21510405838489532,
             0.17185534536838531,
             0.15480174124240875,
             0,
             0
            ],
            [
             0.23202568292617798,
             0.28448814153671265,
             0.29693371057510376,
             0.28311944007873535,
             0.28278180956840515,
             0.2584635019302368,
             0.20822234451770782,
             0,
             0,
             0
            ],
            [
             0.27441295981407166,
             0.2769872844219208,
             0.2732730209827423,
             0.2580419182777405,
             0.2574363052845001,
             0.20980863273143768,
             0,
             0,
             0,
             0
            ],
            [
             0,
             0,
             0,
             0,
             0,
             0.16574116051197052,
             0.14657001197338104,
             0.1301722675561905,
             0.11555615067481995,
             0.11722148954868317
            ],
            [
             0,
             0,
             0,
             0,
             0,
             0,
             0.12318912148475647,
             0.09837711602449417,
             0.09233545511960983,
             0.09927363693714142
            ],
            [
             0,
             0,
             0,
             0,
             0,
             0.11864842474460602,
             0.09523654729127884,
             0.08432818949222565,
             0.09599360823631287,
             0.10148029029369354
            ],
            [
             0.26885315775871277,
             0.2591356635093689,
             0.2574363052845001,
             0.23502583801746368,
             0.15635868906974792,
             0.1294206827878952,
             0.09466639161109924,
             0.0880589485168457,
             0.12401015311479568,
             0.11013680696487427
            ]
           ]
          }
         ]
        },
        {
         "data": [
          {
           "type": "heatmap",
           "z": [
            [
             0.29288774728775024,
             0.28984466195106506,
             0.2666715383529663,
             0.18519653379917145,
             0.1368773728609085,
             0.11257891356945038,
             0.1168840155005455,
             0.11327113956212997,
             0.13269290328025818,
             0.13527736067771912
            ],
            [
             0.30634668469429016,
             0.2951945960521698,
             0.28163057565689087,
             0.22547663748264313,
             0.14857420325279236,
             0.11626309901475906,
             0.11238102614879608,
             0.12740491330623627,
             0.1715608686208725,
             0.15036478638648987
            ],
            [
             0.313365638256073,
             0.2835686206817627,
             0.2951945960521698,
             0.29235559701919556,
             0.21712186932563782,
             0.1871035099029541,
             0.14630720019340515,
             0.13994768261909485,
             0.15230371057987213,
             0.15042458474636078
            ],
            [
             0.1620858609676361,
             0.313365638256073,
             0.30634668469429016,
             0.3104710578918457,
             0.279802143573761,
             0.22366860508918762,
             0.18281634151935577,
             0.1658325046300888,
             0,
             0
            ],
            [
             0.23377685248851776,
             0.2835686206817627,
             0.2951945960521698,
             0.28163057565689087,
             0.28339579701423645,
             0.26210635900497437,
             0.21490545570850372,
             0,
             0,
             0
            ],
            [
             0.27230164408683777,
             0.2738005220890045,
             0.27089571952819824,
             0.2584943473339081,
             0.258954793214798,
             0.21333405375480652,
             0,
             0,
             0,
             0
            ],
            [
             0,
             0,
             0,
             0,
             0,
             0.17314951121807098,
             0.15693072974681854,
             0.143118754029274,
             0.1297517716884613,
             0.13172157108783722
            ],
            [
             0,
             0,
             0,
             0,
             0,
             0,
             0.13844795525074005,
             0.11606094986200333,
             0.11036324501037598,
             0.11704815924167633
            ],
            [
             0,
             0,
             0,
             0,
             0,
             0.1332097351551056,
             0.11433158069849014,
             0.10413199663162231,
             0.11610804498195648,
             0.12112720310688019
            ],
            [
             0.26671841740608215,
             0.25874918699264526,
             0.258954793214798,
             0.2389049232006073,
             0.16479304432868958,
             0.14284974336624146,
             0.11316515505313873,
             0.10815300792455673,
             0.14438767731189728,
             0.13020244240760803
            ]
           ]
          }
         ]
        },
        {
         "data": [
          {
           "type": "heatmap",
           "z": [
            [
             0.2908262610435486,
             0.28782787919044495,
             0.26550689339637756,
             0.19040657579898834,
             0.15038837492465973,
             0.13104301691055298,
             0.1347663402557373,
             0.13182522356510162,
             0.1515422761440277,
             0.1533973217010498
            ],
            [
             0.3041616380214691,
             0.293420672416687,
             0.28007692098617554,
             0.22760383784770966,
             0.1594812124967575,
             0.1326269954442978,
             0.12926898896694183,
             0.1454654484987259,
             0.18984684348106384,
             0.16808894276618958
            ],
            [
             0.3101976215839386,
             0.2826196849346161,
             0.293420672416687,
             0.2916509211063385,
             0.22465094923973083,
             0.20163659751415253,
             0.1613808125257492,
             0.15533655881881714,
             0.16889140009880066,
             0.1665150374174118
            ],
            [
             0.16685600578784943,
             0.3101976215839386,
             0.3041616380214691,
             0.30863240361213684,
             0.2826458513736725,
             0.23212194442749023,
             0.19363413751125336,
             0.1767197698354721,
             0,
             0
            ],
            [
             0.23545128107070923,
             0.2826196849346161,
             0.293420672416687,
             0.28007692098617554,
             0.28395727276802063,
             0.26568546891212463,
             0.22148743271827698,
             0,
             0,
             0
            ],
            [
             0.27012914419174194,
             0.27056238055229187,
             0.26845583319664,
             0.258870929479599,
             0.2603958547115326,
             0.21673472225666046,
             0,
             0,
             0,
             0
            ],
            [
             0,
             0,
             0,
             0,
             0,
             0.18039199709892273,
             0.16711121797561646,
             0.15586639940738678,
             0.14374658465385437,
             0.14603492617607117
            ],
            [
             0,
             0,
             0,
             0,
             0,
             0,
             0.15344636142253876,
             0.13346436619758606,
             0.12813600897789001,
             0.1345997005701065
            ],
            [
             0,
             0,
             0,
             0,
             0,
             0.14752517640590668,
             0.13307839632034302,
             0.12360396981239319,
             0.13589595258235931,
             0.140483096241951
            ],
            [
             0.264486700296402,
             0.2582741975784302,
             0.2603958547115326,
             0.2426902949810028,
             0.17305374145507812,
             0.15605869889259338,
             0.1313532292842865,
             0.12791520357131958,
             0.16442452371120453,
             0.1499541848897934
            ]
           ]
          }
         ]
        },
        {
         "data": [
          {
           "type": "heatmap",
           "z": [
            [
             0.2887400686740875,
             0.285780668258667,
             0.2642958164215088,
             0.19552230834960938,
             0.16370578110218048,
             0.14919959008693695,
             0.1523781716823578,
             0.1501256376504898,
             0.1701401323080063,
             0.1713220179080963
            ],
            [
             0.3019789755344391,
             0.29163411259651184,
             0.2784890830516815,
             0.22966314852237701,
             0.1702342927455902,
             0.14875510334968567,
             0.14592647552490234,
             0.16328434646129608,
             0.20788754522800446,
             0.18562638759613037
            ],
            [
             0.3070668876171112,
             0.2816602289676666,
             0.29163411259651184,
             0.29093360900878906,
             0.23210203647613525,
             0.21599525213241577,
             0.1762775033712387,
             0.17056451737880707,
             0.18531453609466553,
             0.18248072266578674
            ],
            [
             0.1715429276227951,
             0.3070668876171112,
             0.3019789755344391,
             0.3067881464958191,
             0.2854827344417572,
             0.24051116406917572,
             0.2043580561876297,
             0.1875167042016983,
             0,
             0
            ],
            [
             0.23707595467567444,
             0.2816602289676666,
             0.29163411259651184,
             0.2784890830516815,
             0.2845071852207184,
             0.26925069093704224,
             0.22802616655826569,
             0,
             0,
             0
            ],
            [
             0.2679189145565033,
             0.26728910207748413,
             0.26597633957862854,
             0.2592073976993561,
             0.26180365681648254,
             0.22006748616695404,
             0,
             0,
             0,
             0
            ],
            [
             0,
             0,
             0,
             0,
             0,
             0.18752257525920868,
             0.17715825140476227,
             0.16846278309822083,
             0.15758971869945526,
             0.1602107137441635
            ],
            [
             0,
             0,
             0,
             0,
             0,
             0,
             0.16822543740272522,
             0.1506253331899643,
             0.14569056034088135,
             0.1519651561975479
            ],
            [
             0,
             0,
             0,
             0,
             0,
             0.1616351306438446,
             0.15151025354862213,
             0.14277414977550507,
             0.15538521111011505,
             0.1595771461725235
            ],
            [
             0.2621989846229553,
             0.25775283575057983,
             0.26180365681648254,
             0.24643182754516602,
             0.18119516968727112,
             0.16909076273441315,
             0.14926591515541077,
             0.14737370610237122,
             0.18414466083049774,
             0.16941943764686584
            ]
           ]
          }
         ]
        },
        {
         "data": [
          {
           "type": "heatmap",
           "z": [
            [
             0.28661584854125977,
             0.28369054198265076,
             0.2630327343940735,
             0.20054477453231812,
             0.17683148384094238,
             0.16704906523227692,
             0.16972078382968903,
             0.1681709736585617,
             0.18848355114459991,
             0.18904653191566467
            ],
            [
             0.2997824251651764,
             0.2898206412792206,
             0.2768568694591522,
             0.23165357112884521,
             0.18083809316158295,
             0.1646491438150406,
             0.1623547375202179,
             0.18086040019989014,
             0.22568053007125854,
             0.20297181606292725
            ],
            [
             0.3039563000202179,
             0.28067687153816223,
             0.2898206412792206,
             0.2901962995529175,
             0.2394777536392212,
             0.2301819920539856,
             0.19099898636341095,
             0.18563179671764374,
             0.20156928896903992,
             0.19831568002700806
            ],
            [
             0.17614293098449707,
             0.3039563000202179,
             0.2997824251651764,
             0.3049283027648926,
             0.28831011056900024,
             0.24883949756622314,
             0.21499168872833252,
             0.1982276737689972,
             0,
             0
            ],
            [
             0.23864321410655975,
             0.28067687153816223,
             0.2898206412792206,
             0.2768568694591522,
             0.28504204750061035,
             0.2728033661842346,
             0.23452767729759216,
             0,
             0,
             0
            ],
            [
             0.2656586468219757,
             0.2639637589454651,
             0.2634437680244446,
             0.2594977915287018,
             0.26317650079727173,
             0.22333721816539764,
             0,
             0,
             0,
             0
            ],
            [
             0,
             0,
             0,
             0,
             0,
             0.19454725086688995,
             0.1870741993188858,
             0.1809118539094925,
             0.17128592729568481,
             0.17425289750099182
            ],
            [
             0,
             0,
             0,
             0,
             0,
             0,
             0.1827874779701233,
             0.1675449162721634,
             0.1630263477563858,
             0.1691427379846573
            ],
            [
             0,
             0,
             0,
             0,
             0,
             0.17554165422916412,
             0.16962796449661255,
             0.16164064407348633,
             0.17457300424575806,
             0.17840582132339478
            ],
            [
             0.25985103845596313,
             0.2571815252304077,
             0.26317650079727173,
             0.2501313090324402,
             0.1892234832048416,
             0.18194815516471863,
             0.1669038087129593,
             0.1665256768465042,
             0.20354487001895905,
             0.18859507143497467
            ]
           ]
          }
         ]
        },
        {
         "data": [
          {
           "type": "heatmap",
           "z": [
            [
             0.2843663692474365,
             0.28147032856941223,
             0.261633038520813,
             0.2053917497396469,
             0.18969151377677917,
             0.18452653288841248,
             0.18672463297843933,
             0.18589076399803162,
             0.2065034657716751,
             0.20649728178977966
            ],
            [
             0.2974892258644104,
             0.28789591789245605,
             0.2750943601131439,
             0.23349270224571228,
             0.19121888279914856,
             0.1802407056093216,
             0.17848290503025055,
             0.1981237828731537,
             0.2431616485118866,
             0.22005271911621094
            ],
            [
             0.3008003234863281,
             0.27959108352661133,
             0.28789591789245605,
             0.28935661911964417,
             0.24670369923114777,
             0.2441326528787613,
             0.2054731845855713,
             0.20046325027942657,
             0.21758194267749786,
             0.21394222974777222
            ],
            [
             0.18060126900672913,
             0.3008003234863281,
             0.2974892258644104,
             0.30297014117240906,
             0.2910486161708832,
             0.2570325434207916,
             0.225458562374115,
             0.20877256989479065,
             0,
             0
            ],
            [
             0.24007771909236908,
             0.27959108352661133,
             0.28789591789245605,
             0.2750943601131439,
             0.28547826409339905,
             0.27626219391822815,
             0.2409110814332962,
             0,
             0,
             0
            ],
            [
             0.2632670998573303,
             0.26050421595573425,
             0.2607758045196533,
             0.2596598267555237,
             0.26443126797676086,
             0.22646085917949677,
             0,
             0,
             0,
             0
            ],
            [
             0,
             0,
             0,
             0,
             0,
             0.20138633251190186,
             0.19677786529064178,
             0.19313448667526245,
             0.18475711345672607,
             0.18808238208293915
            ],
            [
             0,
             0,
             0,
             0,
             0,
             0,
             0.19705936312675476,
             0.18415139615535736,
             0.18006999790668488,
             0.1860569566488266
            ],
            [
             0,
             0,
             0,
             0,
             0,
             0.18917138874530792,
             0.1873665452003479,
             0.1801365464925766,
             0.19339239597320557,
             0.19689930975437164
            ],
            [
             0.2573590874671936,
             0.25647616386413574,
             0.26443126797676086,
             0.25370708107948303,
             0.1970597207546234,
             0.1945541352033615,
             0.18419793248176575,
             0.18530453741550446,
             0.2225627601146698,
             0.20741447806358337
            ]
           ]
          }
         ]
        },
        {
         "data": [
          {
           "type": "heatmap",
           "z": [
            [
             0.28190991282463074,
             0.27903780341148376,
             0.2600167989730835,
             0.20998810231685638,
             0.20222145318984985,
             0.20157666504383087,
             0.20332995057106018,
             0.2032252848148346,
             0.22414273023605347,
             0.22361348569393158
            ],
            [
             0.2950234115123749,
             0.2857820689678192,
             0.2731211483478546,
             0.235104501247406,
             0.20131149888038635,
             0.1954711228609085,
             0.19425013661384583,
             0.21501600742340088,
             0.2602795362472534,
             0.23681005835533142
            ],
            [
             0.29753997921943665,
             0.27833154797554016,
             0.2857820689678192,
             0.28833839297294617,
             0.2537144422531128,
             0.25779399275779724,
             0.219638854265213,
             0.21499519050121307,
             0.23329128324985504,
             0.22929632663726807
            ],
            [
             0.1848689317703247,
             0.29753997921943665,
             0.2950234115123749,
             0.30083659291267395,
             0.29362648725509644,
             0.2650259733200073,
             0.23569270968437195,
             0.21908168494701385,
             0,
             0
            ],
            [
             0.24131134152412415,
             0.27833154797554016,
             0.2857820689678192,
             0.2731211483478546,
             0.2857387065887451,
             0.27955320477485657,
             0.24710410833358765,
             0,
             0,
             0
            ],
            [
             0.2606692612171173,
             0.256835401058197,
             0.2578962445259094,
             0.2596173584461212,
             0.26549068093299866,
             0.22936081886291504,
             0,
             0,
             0,
             0
            ],
            [
             0,
             0,
             0,
             0,
             0,
             0.20796768367290497,
             0.20619764924049377,
             0.20506198704242706,
             0.19793550670146942,
             0.20163115859031677
            ],
            [
             0,
             0,
             0,
             0,
             0,
             0,
             0.21097777783870697,
             0.2003830373287201,
             0.1967584490776062,
             0.20264311134815216
            ],
            [
             0,
             0,
             0,
             0,
             0,
             0.20246070623397827,
             0.20467068254947662,
             0.19820483028888702,
             0.2117874175310135,
             0.2149992287158966
            ],
            [
             0.25464314222335815,
             0.2555575966835022,
             0.26549068093299866,
             0.25708451867103577,
             0.20463253557682037,
             0.2068420797586441,
             0.201089009642601,
             0.20365415513515472,
             0.2411479353904724,
             0.22582288086414337
            ]
           ]
          }
         ]
        },
        {
         "data": [
          {
           "type": "heatmap",
           "z": [
            [
             0.27916431427001953,
             0.27631014585494995,
             0.25810280442237854,
             0.21425861120224,
             0.2143595665693283,
             0.21814776957035065,
             0.21948039531707764,
             0.22011852264404297,
             0.24134859442710876,
             0.24033889174461365
            ],
            [
             0.29230964183807373,
             0.28340137004852295,
             0.2708563506603241,
             0.23641180992126465,
             0.21105220913887024,
             0.21028435230255127,
             0.20959842205047607,
             0.2314823418855667,
             0.2769872546195984,
             0.25318920612335205
            ],
            [
             0.29411745071411133,
             0.27682799100875854,
             0.28340137004852295,
             0.2870648503303528,
             0.26044556498527527,
             0.27111589908599854,
             0.23343786597251892,
             0.22916719317436218,
             0.24864079058170319,
             0.2443186491727829
            ],
            [
             0.18889740109443665,
             0.29411745071411133,
             0.29230964183807373,
             0.2984501123428345,
             0.29597213864326477,
             0.272756963968277,
             0.24563029408454895,
             0.2290869653224945,
             0,
             0
            ],
            [
             0.24227699637413025,
             0.27682799100875854,
             0.28340137004852295,
             0.2708563506603241,
             0.2857450544834137,
             0.2826020419597626,
             0.25303444266319275,
             0,
             0,
             0
            ],
            [
             0.2577908933162689,
             0.25288334488868713,
             0.2547297477722168,
             0.259293794631958,
             0.2662767171859741,
             0.23195771872997284,
             0,
             0,
             0,
             0
            ],
            [
             0,
             0,
             0,
             0,
             0,
             0.21421867609024048,
             0.21526330709457397,
             0.2166273295879364,
             0.2107551097869873,
             0.2148333042860031
            ],
            [
             0,
             0,
             0,
             0,
             0,
             0,
             0.22448232769966125,
             0.2161811739206314,
             0.21303211152553558,
             0.21884018182754517
            ],
            [
             0,
             0,
             0,
             0,
             0,
             0.21534870564937592,
             0.22148866951465607,
             0.2157924622297287,
             0.22970645129680634,
             0.23265160620212555
            ],
            [
             0.25162142515182495,
             0.25434523820877075,
             0.2662767171859741,
             0.2601886987686157,
             0.2118704915046692,
             0.2187475860118866,
             0.21752123534679413,
             0.22152265906333923,
             0.25925472378730774,
             0.24377009272575378
            ]
           ]
          }
         ]
        },
        {
         "data": [
          {
           "type": "heatmap",
           "z": [
            [
             0.2760193645954132,
             0.27317601442337036,
             0.2557799816131592,
             0.21809673309326172,
             0.22601564228534698,
             0.23416483402252197,
             0.2350941151380539,
             0.23648935556411743,
             0.25804397463798523,
             0.2565919756889343
            ],
            [
             0.2892472445964813,
             0.2806495726108551,
             0.2681901454925537,
             0.23730695247650146,
             0.22034719586372375,
             0.22459840774536133,
             0.22444306313991547,
             0.2474430650472641,
             0.2932151257991791,
             0.26911115646362305
            ],
            [
             0.29045599699020386,
             0.2749854326248169,
             0.2806495726108551,
             0.2854308784008026,
             0.2668037414550781,
             0.28402385115623474,
             0.24678470194339752,
             0.24289079010486603,
             0.26354777812957764,
             0.2589232623577118
            ],
            [
             0.1926187425851822,
             0.29045599699020386,
             0.2892472445964813,
             0.2957054674625397,
             0.29798489809036255,
             0.2801338732242584,
             0.25517719984054565,
             0.2386883944272995,
             0,
             0
            ],
            [
             0.24288228154182434,
             0.2749854326248169,
             0.2806495726108551,
             0.2681901454925537,
             0.28538891673088074,
             0.2853032946586609,
             0.25859710574150085,
             0,
             0,
             0
            ],
            [
             0.25453248620033264,
             0.24855048954486847,
             0.2511754631996155,
             0.25858408212661743,
             0.26668044924736023,
             0.23413890600204468,
             0,
             0,
             0,
             0
            ],
            [
             0,
             0,
             0,
             0,
             0,
             0.22003400325775146,
             0.2238728404045105,
             0.22773237526416779,
             0.22311843931674957,
             0.22759120166301727
            ],
            [
             0,
             0,
             0,
             0,
             0,
             0,
             0.2374851554632187,
             0.23146069049835205,
             0.22880423069000244,
             0.23455992341041565
            ],
            [
             0,
             0,
             0,
             0,
             0,
             0.2277466505765915,
             0.23774568736553192,
             0.23282290995121002,
             0.24707499146461487,
             0.2497783899307251
            ],
            [
             0.24818214774131775,
             0.2527281641960144,
             0.26668044924736023,
             0.2629128098487854,
             0.21866939961910248,
             0.23017695546150208,
             0.23341386020183563,
             0.23883497714996338,
             0.27681607007980347,
             0.26118284463882446
            ]
           ]
          }
         ]
        },
        {
         "data": [
          {
           "type": "heatmap",
           "z": [
            [
             0.2724528908729553,
             0.26961269974708557,
             0.2530272603034973,
             0.22149331867694855,
             0.23720043897628784,
             0.24964825809001923,
             0.2501894235610962,
             0.25235846638679504,
             0.27425438165664673,
             0.27239590883255005
            ],
            [
             0.28581908345222473,
             0.27750837802886963,
             0.26510167121887207,
             0.237776517868042,
             0.22920401394367218,
             0.23843127489089966,
             0.23880143463611603,
             0.262921005487442,
             0.30899345874786377,
             0.2846010625362396
            ],
            [
             0.2865440547466278,
             0.2727908790111542,
             0.27750837802886963,
             0.28342029452323914,
             0.27279481291770935,
             0.2965421974658966,
             0.2596980333328247,
             0.2561837136745453,
             0.2780352234840393,
             0.27313143014907837
            ],
            [
             0.19603177905082703,
             0.2865440547466278,
             0.28581908345222473,
             0.2925841212272644,
             0.29965895414352417,
             0.28716638684272766,
             0.26434525847435,
             0.247893288731575,
             0,
             0
            ],
            [
             0.24311865866184235,
             0.2727908790111542,
             0.27750837802886963,
             0.26510167121887207,
             0.28465506434440613,
             0.28764989972114563,
             0.2637905478477478,
             0,
             0,
             0
            ],
            [
             0.25087565183639526,
             0.24381688237190247,
             0.24721388518810272,
             0.2574731111526489,
             0.26668787002563477,
             0.2358904778957367,
             0,
             0,
             0,
             0
            ],
            [
             0,
             0,
             0,
             0,
             0,
             0.22541014850139618,
             0.23202741146087646,
             0.23838412761688232,
             0.23503480851650238,
             0.23991531133651733
            ],
            [
             0,
             0,
             0,
             0,
             0,
             0,
             0.2499990463256836,
             0.2462383657693863,
             0.24409182369709015,
             0.24981893599033356
            ],
            [
             0,
             0,
             0,
             0,
             0,
             0.23966647684574127,
             0.25346237421035767,
             0.2493179738521576,
             0.26391783356666565,
             0.26640334725379944
            ],
            [
             0.24430133402347565,
             0.2506864666938782,
             0.26668787002563477,
             0.2652488946914673,
             0.22502805292606354,
             0.24113903939723969,
             0.24878588318824768,
             0.25561508536338806,
             0.293862521648407,
             0.2780885398387909
            ]
           ]
          }
         ]
        },
        {
         "data": [
          {
           "type": "heatmap",
           "z": [
            [
             0.2685771584510803,
             0.26573339104652405,
             0.24996446073055267,
             0.2245902419090271,
             0.24806803464889526,
             0.2647457420825958,
             0.26491937041282654,
             0.2678779661655426,
             0.29013118147850037,
             0.2879038155078888
            ],
            [
             0.2821313738822937,
             0.27408847212791443,
             0.26170632243156433,
             0.23795224726200104,
             0.2377745658159256,
             0.25193431973457336,
             0.2528270184993744,
             0.2780687212944031,
             0.324468731880188,
             0.2998107969760895
            ],
            [
             0.28246307373046875,
             0.27035224437713623,
             0.27408847212791443,
             0.28115174174308777,
             0.27856364846229553,
             0.30881744623184204,
             0.2723335325717926,
             0.2692036032676697,
             0.2922574281692505,
             0.2870990037918091
            ],
            [
             0.19923344254493713,
             0.28246307373046875,
             0.2821313738822937,
             0.2891991436481476,
             0.30112600326538086,
             0.2940029501914978,
             0.2732904851436615,
             0.25686126947402954,
             0,
             0
            ],
            [
             0.24310342967510223,
             0.27035224437713623,
             0.27408847212791443,
             0.26170632243156433,
             0.28366968035697937,
             0.2897796332836151,
             0.26876428723335266,
             0,
             0,
             0
            ],
            [
             0.24692870676517487,
             0.23878422379493713,
             0.24295270442962646,
             0.2560839354991913,
             0.2664290964603424,
             0.23735222220420837,
             0,
             0,
             0,
             0
            ],
            [
             0,
             0,
             0,
             0,
             0,
             0.2304965853691101,
             0.23988263309001923,
             0.2487432360649109,
             0.24666638672351837,
             0.2519688904285431
            ],
            [
             0,
             0,
             0,
             0,
             0,
             0,
             0.26217928528785706,
             0.2606688141822815,
             0.25904926657676697,
             0.2647732198238373
            ],
            [
             0,
             0,
             0,
             0,
             0,
             0.2512630820274353,
             0.2687871754169464,
             0.26542624831199646,
             0.2803838849067688,
             0.2826772928237915
            ],
            [
             0.24009618163108826,
             0.24834361672401428,
             0.2664290964603424,
             0.2673359513282776,
             0.23109856247901917,
             0.25179097056388855,
             0.2637895345687866,
             0.2720107138156891,
             0.31053978204727173,
             0.29463645815849304
            ]
           ]
          }
         ]
        },
        {
         "data": [
          {
           "type": "heatmap",
           "z": [
            [
             0.26443618535995483,
             0.2615825831890106,
             0.24664027988910675,
             0.22744861245155334,
             0.2586880326271057,
             0.27952519059181213,
             0.2793531119823456,
             0.2831156253814697,
             0.30574190616607666,
             0.303182989358902
            ],
            [
             0.2782258987426758,
             0.27043378353118896,
             0.25805044174194336,
             0.2378893941640854,
             0.24612680077552795,
             0.26517581939697266,
             0.2665885388851166,
             0.29295483231544495,
             0.3397063612937927,
             0.3148074746131897
            ],
            [
             0.2782444655895233,
             0.26771342754364014,
             0.27043378353118896,
             0.278674453496933,
             0.2841756343841553,
             0.3209167718887329,
             0.2847616374492645,
             0.2820214033126831,
             0.306283175945282,
             0.3008953928947449
            ],
            [
             0.20226538181304932,
             0.2782444655895233,
             0.2782258987426758,
             0.2855963110923767,
             0.3024437129497528,
             0.30071166157722473,
             0.28208404779434204,
             0.2656635642051697,
             0,
             0
            ],
            [
             0.2428860366344452,
             0.26771342754364014,
             0.27043378353118896,
             0.25805044174194336,
             0.2824859917163849,
             0.2917528748512268,
             0.2735845446586609,
             0,
             0,
             0
            ],
            [
             0.2427350878715515,
             0.23349200189113617,
             0.23843476176261902,
             0.2544678747653961,
             0.2659594416618347,
             0.23858319222927094,
             0,
             0,
             0,
             0
            ],
            [
             0,
             0,
             0,
             0,
             0,
             0.23535825312137604,
             0.24750755727291107,
             0.2588813304901123,
             0.2580849230289459,
             0.2638239562511444
            ],
            [
             0,
             0,
             0,
             0,
             0,
             0,
             0.2740963399410248,
             0.2748212516307831,
             0.2737445533275604,
             0.2794911563396454
            ],
            [
             0,
             0,
             0,
             0,
             0,
             0.26260632276535034,
             0.2837880551815033,
             0.2812144160270691,
             0.2965400218963623,
             0.29866737127304077
            ],
            [
             0.23561373353004456,
             0.24575048685073853,
             0.2659594416618347,
             0.26923441886901855,
             0.23694738745689392,
             0.26220324635505676,
             0.2784935235977173,
             0.2880885601043701,
             0.3269135355949402,
             0.31089353561401367
            ]
           ]
          }
         ]
        },
        {
         "data": [
          {
           "type": "heatmap",
           "z": [
            [
             0.26009348034858704,
             0.25722435116767883,
             0.24312199652194977,
             0.23014160990715027,
             0.26913484930992126,
             0.2940559387207031,
             0.2935618460178375,
             0.2981418967247009,
             0.32115548849105835,
             0.31830236315727234
            ],
            [
             0.2741619050502777,
             0.26660603284835815,
             0.25419881939888,
             0.23765841126441956,
             0.25433582067489624,
             0.2782275974750519,
             0.28015804290771484,
             0.3076501190662384,
             0.35477158427238464,
             0.32965949177742004
            ],
            [
             0.27393150329589844,
             0.2649330496788025,
             0.26660603284835815,
             0.27605485916137695,
             0.2897050380706787,
             0.33290916681289673,
             0.2970563769340515,
             0.2947114408016205,
             0.3201834559440613,
             0.3145920932292938
            ],
            [
             0.20517660677433014,
             0.27393150329589844,
             0.2741619050502777,
             0.28183984756469727,
             0.3036831021308899,
             0.30736786127090454,
             0.29080355167388916,
             0.2743784189224243,
             0,
             0
            ],
            [
             0.2425285130739212,
             0.2649330496788025,
             0.26660603284835815,
             0.25419881939888,
             0.28117403388023376,
             0.2936435639858246,
             0.2783280611038208,
             0,
             0,
             0
            ],
            [
             0.23835477232933044,
             0.2279960662126541,
             0.23371955752372742,
             0.25269216299057007,
             0.2653499245643616,
             0.23965665698051453,
             0,
             0,
             0,
             0
            ],
            [
             0,
             0,
             0,
             0,
             0,
             0.24007056653499603,
             0.25497856736183167,
             0.26887521147727966,
             0.2693667411804199,
             0.27555689215660095
            ],
            [
             0,
             0,
             0,
             0,
             0,
             0,
             0.28582409024238586,
             0.2887673079967499,
             0.28824853897094727,
             0.2940434217453003
            ],
            [
             0,
             0,
             0,
             0,
             0,
             0.27377036213874817,
             0.298534631729126,
             0.2967515289783478,
             0.31245502829551697,
             0.31444215774536133
            ],
            [
             0.2309207320213318,
             0.24297551810741425,
             0.2653499245643616,
             0.2710181176662445,
             0.24265065789222717,
             0.27245140075683594,
             0.2929685711860657,
             0.30391725897789,
             0.3430493474006653,
             0.3269274830818176
            ]
           ]
          }
         ]
        },
        {
         "data": [
          {
           "type": "heatmap",
           "z": [
            [
             0.25557419657707214,
             0.2526843547821045,
             0.23943737149238586,
             0.23270060122013092,
             0.2794453501701355,
             0.3083765506744385,
             0.3075827658176422,
             0.3129924535751343,
             0.33640623092651367,
             0.33329442143440247
            ],
            [
             0.2699620723724365,
             0.2626297175884247,
             0.2501777708530426,
             0.23728898167610168,
             0.2624373435974121,
             0.2911265790462494,
             0.2935720980167389,
             0.3221900165081024,
             0.3696947991847992,
             0.3443981111049652
            ],
            [
             0.2695382237434387,
             0.26203447580337524,
             0.2626297175884247,
             0.2733200788497925,
             0.2951853275299072,
             0.34482717514038086,
             0.3092534840106964,
             0.3073089122772217,
             0.33399102091789246,
             0.3282213807106018
            ],
            [
             0.20799055695533752,
             0.2695382237434387,
             0.2699620723724365,
             0.277955561876297,
             0.30487385392189026,
             0.3140053451061249,
             0.2994840741157532,
             0.28304049372673035,
             0,
             0
            ],
            [
             0.2420576959848404,
             0.26203447580337524,
             0.2626297175884247,
             0.2501777708530426,
             0.2797623574733734,
             0.29548221826553345,
             0.28302714228630066,
             0,
             0,
             0
            ],
            [
             0.23381288349628448,
             0.22231897711753845,
             0.2288319617509842,
             0.25078487396240234,
             0.26462987065315247,
             0.2406025230884552,
             0,
             0,
             0,
             0
            ],
            [
             0,
             0,
             0,
             0,
             0,
             0.24466659128665924,
             0.2623303234577179,
             0.27876046299934387,
             0.2805470824241638,
             0.28720253705978394
            ],
            [
             0,
             0,
             0,
             0,
             0,
             0,
             0.2973997890949249,
             0.3025434613227844,
             0.30259618163108826,
             0.3084637522697449
            ],
            [
             0,
             0,
             0,
             0,
             0,
             0.2847922444343567,
             0.31306543946266174,
             0.3120748698711395,
             0.3281651735305786,
             0.33003610372543335
            ],
            [
             0.22604502737522125,
             0.2400471270084381,
             0.26462987065315247,
             0.272718220949173,
             0.24824193120002747,
             0.282571941614151,
             0.30725187063217163,
             0.3195338249206543,
             0.3589811623096466,
             0.3427727222442627
            ]
           ]
          }
         ]
        },
        {
         "data": [
          {
           "type": "heatmap",
           "z": [
            [
             0.2508664131164551,
             0.24795062839984894,
             0.23557552695274353,
             0.2351175844669342,
             0.28962016105651855,
             0.32249292731285095,
             0.3214190602302551,
             0.3276692032814026,
             0.3514944612979889,
             0.34815678000450134
            ],
            [
             0.26561468839645386,
             0.2584933638572693,
             0.2459760308265686,
             0.23677164316177368,
             0.27042949199676514,
             0.303875207901001,
             0.30683228373527527,
             0.3365756571292877,
             0.3844742476940155,
             0.35902053117752075
            ],
            [
             0.265052855014801,
             0.2590075731277466,
             0.2584933638572693,
             0.2704596519470215,
             0.3006126284599304,
             0.3566700518131256,
             0.32135263085365295,
             0.319812536239624,
             0.34770339727401733,
             0.34177955985069275
            ],
            [
             0.21070457994937897,
             0.265052855014801,
             0.26561468839645386,
             0.2739323675632477,
             0.3060074746608734,
             0.3206203877925873,
             0.3081226944923401,
             0.2916452884674072,
             0,
             0
            ],
            [
             0.24146628379821777,
             0.2590075731277466,
             0.2584933638572693,
             0.2459760308265686,
             0.278240442276001,
             0.29725971817970276,
             0.28767362236976624,
             0,
             0,
             0
            ],
            [
             0.22909978032112122,
             0.2164505571126938,
             0.22376206517219543,
             0.2487364113330841,
             0.26378941535949707,
             0.2414098083972931,
             0,
             0,
             0,
             0
            ],
            [
             0,
             0,
             0,
             0,
             0,
             0.24913924932479858,
             0.26955822110176086,
             0.2885342836380005,
             0.29162314534187317,
             0.2987578213214874
            ],
            [
             0,
             0,
             0,
             0,
             0,
             0,
             0.30882468819618225,
             0.3161512613296509,
             0.3167876601219177,
             0.3227502703666687
            ],
            [
             0,
             0,
             0,
             0,
             0,
             0.2956729829311371,
             0.32738661766052246,
             0.3271891176700592,
             0.34367385506629944,
             0.34545040130615234
            ],
            [
             0.22097666561603546,
             0.23695464432239532,
             0.26378941535949707,
             0.2743258774280548,
             0.2537151277065277,
             0.2925640344619751,
             0.3213469386100769,
             0.33494266867637634,
             0.3747108578681946,
             0.35843056440353394
            ]
           ]
          }
         ]
        },
        {
         "data": [
          {
           "type": "heatmap",
           "z": [
            [
             0.2459413707256317,
             0.24299435317516327,
             0.23150883615016937,
             0.23736777901649475,
             0.2996446192264557,
             0.33639684319496155,
             0.33505961298942566,
             0.3421596884727478,
             0.36640655994415283,
             0.36287328600883484
            ],
            [
             0.261092871427536,
             0.2541695535182953,
             0.24156561493873596,
             0.236080139875412,
             0.2782951891422272,
             0.31646156311035156,
             0.31992581486701965,
             0.3507941663265228,
             0.3990948498249054,
             0.37351012229919434
            ],
            [
             0.2604532241821289,
             0.25582754611968994,
             0.2541695535182953,
             0.26744699478149414,
             0.3059680759906769,
             0.3684237599372864,
             0.3333393633365631,
             0.3322067856788635,
             0.36130449175834656,
             0.35524919629096985
            ],
            [
             0.2133040428161621,
             0.2604532241821289,
             0.261092871427536,
             0.269742876291275,
             0.3070606589317322,
             0.3271946907043457,
             0.31670165061950684,
             0.300173282623291,
             0,
             0
            ],
            [
             0.24073179066181183,
             0.25582754611968994,
             0.2541695535182953,
             0.24156561493873596,
             0.27658137679100037,
             0.2989513874053955,
             0.29224395751953125,
             0,
             0,
             0
            ],
            [
             0.2241901159286499,
             0.21036548912525177,
             0.21848413348197937,
             0.24652059376239777,
             0.2628016769886017,
             0.2420503944158554,
             0,
             0,
             0,
             0
            ],
            [
             0,
             0,
             0,
             0,
             0,
             0.25346532464027405,
             0.27664217352867126,
             0.2981787323951721,
             0.30257758498191833,
             0.3102056086063385
            ],
            [
             0,
             0,
             0,
             0,
             0,
             0,
             0.32008567452430725,
             0.32957810163497925,
             0.3308086693286896,
             0.33688732981681824
            ],
            [
             0,
             0,
             0,
             0,
             0,
             0.3063987195491791,
             0.3414901793003082,
             0.342084676027298,
             0.3589703142642975,
             0.36067166924476624
            ],
            [
             0.215688094496727,
             0.23367032408714294,
             0.2628016769886017,
             0.2758161425590515,
             0.2590477466583252,
             0.30241185426712036,
             0.3352428376674652,
             0.3501339256763458,
             0.3902267515659332,
             0.37388837337493896
            ]
           ]
          }
         ]
        },
        {
         "data": [
          {
           "type": "heatmap",
           "z": [
            [
             0.2407868355512619,
             0.23780325055122375,
             0.22722578048706055,
             0.23944295942783356,
             0.30951863527297974,
             0.35009145736694336,
             0.3485058844089508,
             0.3564641773700714,
             0.38114097714424133,
             0.37744051218032837
            ],
            [
             0.2563849687576294,
             0.24964675307273865,
             0.23693466186523438,
             0.2352047562599182,
             0.286032497882843,
             0.3288864195346832,
             0.3328532874584198,
             0.36484506726264954,
             0.41355231404304504,
             0.38786277174949646
            ],
            [
             0.25572898983955383,
             0.2524840831756592,
             0.24964675307273865,
             0.26427122950553894,
             0.31124770641326904,
             0.38008594512939453,
             0.3452126085758209,
             0.34449028968811035,
             0.37479114532470703,
             0.36862680315971375
            ],
            [
             0.21578489243984222,
             0.25572898983955383,
             0.2563849687576294,
             0.2653754949569702,
             0.30802521109580994,
             0.33372485637664795,
             0.3252185583114624,
             0.30862149596214294,
             0,
             0
            ],
            [
             0.2398460954427719,
             0.2524840831756592,
             0.24964675307273865,
             0.23693466186523438,
             0.2747748792171478,
             0.3005487024784088,
             0.2967311441898346,
             0,
             0,
             0
            ],
            [
             0.21907326579093933,
             0.2040533423423767,
             0.2129875123500824,
             0.24412696063518524,
             0.26165658235549927,
             0.2425134927034378,
             0,
             0,
             0,
             0
            ],
            [
             0,
             0,
             0,
             0,
             0,
             0.257638156414032,
             0.2835782468318939,
             0.30769211053848267,
             0.31340929865837097,
             0.3215450048446655
            ],
            [
             0,
             0,
             0,
             0,
             0,
             0,
             0.3311831057071686,
             0.34282442927360535,
             0.3446587920188904,
             0.3508729934692383
            ],
            [
             0,
             0,
             0,
             0,
             0,
             0.31696954369544983,
             0.35537922382354736,
             0.35676369071006775,
             0.37405526638031006,
             0.3756990134716034
            ],
            [
             0.21016831696033478,
             0.23018305003643036,
             0.26165658235549927,
             0.27718067169189453,
             0.2642342150211334,
             0.3121144473552704,
             0.34894123673439026,
             0.3651091754436493,
             0.40552768111228943,
             0.38914477825164795
            ]
           ]
          }
         ]
        },
        {
         "data": [
          {
           "type": "heatmap",
           "z": [
            [
             0.23538872599601746,
             0.23236340284347534,
             0.2227133959531784,
             0.24133382737636566,
             0.3192412853240967,
             0.36357876658439636,
             0.36175891757011414,
             0.3705824315547943,
             0.39569541811943054,
             0.391854852437973
            ],
            [
             0.25147783756256104,
             0.2449115365743637,
             0.2320697009563446,
             0.234134241938591,
             0.2936389744281769,
             0.34115031361579895,
             0.3456147611141205,
             0.37872713804244995,
             0.4278419315814972,
             0.4020739495754242
            ],
            [
             0.2508694529533386,
             0.24896551668643951,
             0.2449115365743637,
             0.26091963052749634,
             0.3164469599723816,
             0.3916536867618561,
             0.3569711148738861,
             0.35666149854660034,
             0.38815975189208984,
             0.38190844655036926
            ],
            [
             0.21814246475696564,
             0.2508694529533386,
             0.25147783756256104,
             0.2608164846897125,
             0.30889201164245605,
             0.34020692110061646,
             0.33367085456848145,
             0.316986620426178,
             0,
             0
            ],
            [
             0.23879972100257874,
             0.24896551668643951,
             0.2449115365743637,
             0.2320697009563446,
             0.2728089392185211,
             0.30204251408576965,
             0.30112752318382263,
             0,
             0,
             0
            ],
            [
             0.21373702585697174,
             0.19750237464904785,
             0.207259863615036,
             0.24154379963874817,
             0.26034271717071533,
             0.24278736114501953,
             0,
             0,
             0,
             0
            ],
            [
             0,
             0,
             0,
             0,
             0,
             0.26165059208869934,
             0.29036226868629456,
             0.3170726001262665,
             0.3241172730922699,
             0.332775354385376
            ],
            [
             0,
             0,
             0,
             0,
             0,
             0,
             0.34211716055870056,
             0.35589057207107544,
             0.3583372235298157,
             0.36470532417297363
            ],
            [
             0,
             0,
             0,
             0,
             0,
             0.3273851275444031,
             0.3690560460090637,
             0.3712272047996521,
             0.38892844319343567,
             0.39053070545196533
            ],
            [
             0.20440471172332764,
             0.2264799177646637,
             0.26034271717071533,
             0.278409868478775,
             0.2692684233188629,
             0.32167068123817444,
             0.36244305968284607,
             0.3798689544200897,
             0.420611172914505,
             0.4041977822780609
            ]
           ]
          }
         ]
        },
        {
         "data": [
          {
           "type": "heatmap",
           "z": [
            [
             0.22973224520683289,
             0.22665992379188538,
             0.21795812249183655,
             0.2430313378572464,
             0.32881230115890503,
             0.37686097621917725,
             0.3748197555541992,
             0.38451412320137024,
             0.4100678265094757,
             0.40611299872398376
            ],
            [
             0.24635784327983856,
             0.23995016515254974,
             0.22695668041706085,
             0.23285740613937378,
             0.3011128306388855,
             0.353254109621048,
             0.3582107424736023,
             0.39243969321250916,
             0.441959023475647,
             0.41613951325416565
            ],
            [
             0.245864138007164,
             0.24526017904281616,
             0.23995016515254974,
             0.2573789060115814,
             0.321561723947525,
             0.4031246602535248,
             0.3686142563819885,
             0.3687194287776947,
             0.40140748023986816,
             0.39509114623069763
            ],
            [
             0.22037234902381897,
             0.245864138007164,
             0.24635784327983856,
             0.2560517191886902,
             0.30965185165405273,
             0.346637487411499,
             0.34205636382102966,
             0.3252663314342499,
             0,
             0
            ],
            [
             0.23758329451084137,
             0.24526017904281616,
             0.23995016515254974,
             0.22695668041706085,
             0.2706712484359741,
             0.3034232258796692,
             0.3054257333278656,
             0,
             0,
             0
            ],
            [
             0.208168625831604,
             0.190700501203537,
             0.20128858089447021,
             0.238758847117424,
             0.25884824991226196,
             0.24285997450351715,
             0,
             0,
             0,
             0
            ],
            [
             0,
             0,
             0,
             0,
             0,
             0.2654957175254822,
             0.29699060320854187,
             0.3263188898563385,
             0.33470138907432556,
             0.34389692544937134
            ],
            [
             0,
             0,
             0,
             0,
             0,
             0,
             0.3528881072998047,
             0.3687770962715149,
             0.3718436360359192,
             0.3783828914165497
            ],
            [
             0,
             0,
             0,
             0,
             0,
             0.33764562010765076,
             0.38252270221710205,
             0.38547655940055847,
             0.4035896956920624,
             0.40516525506973267
            ],
            [
             0.1983838677406311,
             0.2225477695465088,
             0.25884824991226196,
             0.2794942855834961,
             0.27414464950561523,
             0.3310796618461609,
             0.37574949860572815,
             0.3944140374660492,
             0.4354749917984009,
             0.41904526948928833
            ]
           ]
          }
         ]
        },
        {
         "data": [
          {
           "type": "heatmap",
           "z": [
            [
             0.22380231320858002,
             0.22067782282829285,
             0.21294602751731873,
             0.24452641606330872,
             0.3382318913936615,
             0.3899403512477875,
             0.38768982887268066,
             0.3982594609260559,
             0.42425641417503357,
             0.4202120900154114
            ],
            [
             0.24101130664348602,
             0.23474843800067902,
             0.22158117592334747,
             0.23136287927627563,
             0.3084527552127838,
             0.36519870162010193,
             0.3706420958042145,
             0.405982106924057,
             0.45589977502822876,
             0.4300559461116791
            ],
            [
             0.24070286750793457,
             0.24135610461235046,
             0.23474843800067902,
             0.25363558530807495,
             0.32658830285072327,
             0.4144969880580902,
             0.3801414966583252,
             0.38066366314888,
             0.4145319163799286,
             0.4081721603870392
            ],
            [
             0.22247055172920227,
             0.24070286750793457,
             0.24101130664348602,
             0.2510662078857422,
             0.3102957308292389,
             0.3530135154724121,
             0.35037362575531006,
             0.3334585428237915,
             0,
             0
            ],
            [
             0.23618732392787933,
             0.24135610461235046,
             0.23474843800067902,
             0.22158117592334747,
             0.2683490514755249,
             0.3046814203262329,
             0.3096185028553009,
             0,
             0,
             0
            ],
            [
             0.20235510170459747,
             0.18363569676876068,
             0.19506075978279114,
             0.2357596606016159,
             0.25716108083724976,
             0.24271921813488007,
             0,
             0,
             0,
             0
            ],
            [
             0,
             0,
             0,
             0,
             0,
             0.2691669166088104,
             0.3034597933292389,
             0.3354302644729614,
             0.3451618552207947,
             0.35491055250167847
            ],
            [
             0,
             0,
             0,
             0,
             0,
             0,
             0.3634966313838959,
             0.3814847767353058,
             0.385177880525589,
             0.3919046223163605
            ],
            [
             0,
             0,
             0,
             0,
             0,
             0.3477514088153839,
             0.395781546831131,
             0.3995130956172943,
             0.4180389642715454,
             0.41960132122039795
            ],
            [
             0.1920921355485916,
             0.21837279200553894,
             0.25716108083724976,
             0.28042441606521606,
             0.2788574695587158,
             0.3403410315513611,
             0.3888620436191559,
             0.4087451994419098,
             0.45011723041534424,
             0.43368539214134216
            ]
           ]
          }
         ]
        },
        {
         "data": [
          {
           "type": "heatmap",
           "z": [
            [
             0.21758341789245605,
             0.21440158784389496,
             0.20766286551952362,
             0.24580998718738556,
             0.3475000560283661,
             0.4028189480304718,
             0.40037041902542114,
             0.41181865334510803,
             0.4382595717906952,
             0.43414944410324097
            ],
            [
             0.23542404174804688,
             0.229292094707489,
             0.21592846512794495,
             0.22963905334472656,
             0.31565749645233154,
             0.3769853413105011,
             0.38290974497795105,
             0.41935399174690247,
             0.4696604013442993,
             0.44381996989250183
            ],
            [
             0.23537577688694,
             0.23724134266376495,
             0.229292094707489,
             0.24967564642429352,
             0.3315231502056122,
             0.42576897144317627,
             0.39155274629592896,
             0.39249372482299805,
             0.4275306761264801,
             0.42114922404289246
            ],
            [
             0.22443345189094543,
             0.23537577688694,
             0.23542404174804688,
             0.24584470689296722,
             0.3108143210411072,
             0.3593323528766632,
             0.3586212396621704,
             0.341561496257782,
             0,
             0
            ],
            [
             0.23460239171981812,
             0.23724134266376495,
             0.229292094707489,
             0.21592846512794495,
             0.2658294439315796,
             0.30580753087997437,
             0.31369858980178833,
             0,
             0,
             0
            ],
            [
             0.1962832808494568,
             0.17629580199718475,
             0.18856340646743774,
             0.2325335443019867,
             0.2552688717842102,
             0.24235287308692932,
             0,
             0,
             0,
             0
            ],
            [
             0,
             0,
             0,
             0,
             0,
             0.2726576626300812,
             0.30976665019989014,
             0.34440603852272034,
             0.3554990589618683,
             0.36581718921661377
            ],
            [
             0,
             0,
             0,
             0,
             0,
             0,
             0.3739432394504547,
             0.39401447772979736,
             0.39833998680114746,
             0.40526971220970154
            ],
            [
             0,
             0,
             0,
             0,
             0,
             0.3577030301094055,
             0.4088345766067505,
             0.4133381247520447,
             0.4322760999202728,
             0.43383777141571045
            ],
            [
             0.1855156570672989,
             0.21394118666648865,
             0.2552688717842102,
             0.28119054436683655,
             0.28340163826942444,
             0.34945452213287354,
             0.40178191661834717,
             0.4228629469871521,
             0.4645359218120575,
             0.4481163024902344
            ]
           ]
          }
         ]
        },
        {
         "data": [
          {
           "type": "heatmap",
           "z": [
            [
             0.21106086671352386,
             0.2078164666891098,
             0.2020951211452484,
             0.24687358736991882,
             0.35661739110946655,
             0.4154990017414093,
             0.4128630459308624,
             0.4251921772956848,
             0.45207592844963074,
             0.44792288541793823
            ],
            [
             0.22958272695541382,
             0.22356735169887543,
             0.20998446643352509,
             0.22767513990402222,
             0.32272660732269287,
             0.38861557841300964,
             0.3950149118900299,
             0.43255507946014404,
             0.48323774337768555,
             0.45742857456207275
            ],
            [
             0.2298736721277237,
             0.2329045981168747,
             0.22356735169887543,
             0.24548564851284027,
             0.33636346459388733,
             0.43693962693214417,
             0.40284833312034607,
             0.40420979261398315,
             0.4404020607471466,
             0.4340202510356903
            ],
            [
             0.22625800967216492,
             0.2298736721277237,
             0.22958272695541382,
             0.2403724193572998,
             0.3111991882324219,
             0.3655918836593628,
             0.3667984902858734,
             0.3495737910270691,
             0,
             0
            ],
            [
             0.2328197956085205,
             0.2329045981168747,
             0.22356735169887543,
             0.20998446643352509,
             0.263099730014801,
             0.3067924380302429,
             0.3176591992378235,
             0,
             0,
             0
            ],
            [
             0.1899406909942627,
             0.1686697155237198,
             0.1817842274904251,
             0.22906838357448578,
             0.25315991044044495,
             0.241749107837677,
             0,
             0,
             0,
             0
            ],
            [
             0,
             0,
             0,
             0,
             0,
             0.27596184611320496,
             0.31590840220451355,
             0.3532458245754242,
             0.36571383476257324,
             0.376617968082428
            ],
            [
             0,
             0,
             0,
             0,
             0,
             0,
             0.38422882556915283,
             0.40636736154556274,
             0.41133037209510803,
             0.41847744584083557
            ],
            [
             0,
             0,
             0,
             0,
             0,
             0.3675014078617096,
             0.4216841161251068,
             0.42695316672325134,
             0.44630128145217896,
             0.44787371158599854
            ],
            [
             0.17864114046096802,
             0.20923955738544464,
             0.25315991044044495,
             0.2817835509777069,
             0.2877722382545471,
             0.35842007398605347,
             0.41451066732406616,
             0.43676820397377014,
             0.4787297248840332,
             0.46233662962913513
            ]
           ]
          }
         ]
        },
        {
         "data": [
          {
           "type": "heatmap",
           "z": [
            [
             0.2042197585105896,
             0.20090775191783905,
             0.19622917473316193,
             0.24770858883857727,
             0.3655843436717987,
             0.4279823899269104,
             0.42516887187957764,
             0.4383799433708191,
             0.4657039940357208,
             0.4615298807621002
            ],
            [
             0.2234739512205124,
             0.2175605297088623,
             0.2037350982427597,
             0.2254600077867508,
             0.3296593129634857,
             0.40009069442749023,
             0.4069584906101227,
             0.4455850422382355,
             0.4966287910938263,
             0.4708787500858307
            ],
            [
             0.22418752312660217,
             0.22833478450775146,
             0.2175605297088623,
             0.2410520762205124,
             0.3411064147949219,
             0.4480077028274536,
             0.4140281677246094,
             0.41581153869628906,
             0.4531439244747162,
             0.4467831254005432
            ],
            [
             0.22794149816036224,
             0.22418752312660217,
             0.2234739512205124,
             0.23463469743728638,
             0.3114417791366577,
             0.3717901110649109,
             0.37490445375442505,
             0.3574941158294678,
             0,
             0
            ],
            [
             0.23083075881004333,
             0.22833478450775146,
             0.2175605297088623,
             0.2037350982427597,
             0.2601473033428192,
             0.3076271116733551,
             0.32149356603622437,
             0,
             0,
             0
            ],
            [
             0.18331487476825714,
             0.16074632108211517,
             0.17471106350421906,
             0.2253521829843521,
             0.2508222460746765,
             0.2408961057662964,
             0,
             0,
             0,
             0
            ],
            [
             0,
             0,
             0,
             0,
             0,
             0.27907344698905945,
             0.32188212871551514,
             0.3619488775730133,
             0.3758065104484558,
             0.3873138725757599
            ],
            [
             0,
             0,
             0,
             0,
             0,
             0,
             0.3943540155887604,
             0.418544203042984,
             0.42414891719818115,
             0.4315269887447357
            ],
            [
             0,
             0,
             0,
             0,
             0,
             0.37714719772338867,
             0.4343317449092865,
             0.4403591454029083,
             0.4601142704486847,
             0.4617079198360443
            ],
            [
             0.17145533859729767,
             0.20425444841384888,
             0.2508222460746765,
             0.2821943759918213,
             0.2919645607471466,
             0.36723747849464417,
             0.4270496070384979,
             0.4504615068435669,
             0.49269700050354004,
             0.4763448238372803
            ]
           ]
          }
         ]
        },
        {
         "data": [
          {
           "type": "heatmap",
           "z": [
            [
             0.19704538583755493,
             0.19366078078746796,
             0.1900513470172882,
             0.24830614030361176,
             0.3744007647037506,
             0.440270334482193,
             0.437288373708725,
             0.4513816833496094,
             0.4791417717933655,
             0.4749675393104553
            ],
            [
             0.21708445250988007,
             0.21125780045986176,
             0.1971663385629654,
             0.22298240661621094,
             0.3364546597003937,
             0.411411315202713,
             0.4187409281730652,
             0.4584428668022156,
             0.509830117225647,
             0.4841671884059906
            ],
            [
             0.21830841898918152,
             0.22352050244808197,
             0.21125780045986176,
             0.23636122047901154,
             0.3457489311695099,
             0.45897170901298523,
             0.42509186267852783,
             0.42729827761650085,
             0.46575379371643066,
             0.4594350755214691
            ],
            [
             0.22948096692562103,
             0.21830841898918152,
             0.21708445250988007,
             0.22861634194850922,
             0.3115333318710327,
             0.37792468070983887,
             0.3829379379749298,
             0.36532044410705566,
             0,
             0
            ],
            [
             0.22862648963928223,
             0.22352050244808197,
             0.21125780045986176,
             0.1971663385629654,
             0.2569592595100403,
             0.308302104473114,
             0.32519447803497314,
             0,
             0,
             0
            ],
            [
             0.17639338970184326,
             0.15251471102237701,
             0.1673317849636078,
             0.22137247025966644,
             0.24824371933937073,
             0.23978154361248016,
             0,
             0,
             0,
             0
            ],
            [
             0,
             0,
             0,
             0,
             0,
             0.2819858193397522,
             0.32768434286117554,
             0.3705139756202698,
             0.38577672839164734,
             0.3979048728942871
            ],
            [
             0,
             0,
             0,
             0,
             0,
             0,
             0.40431874990463257,
             0.43054500222206116,
             0.43679511547088623,
             0.444416880607605
            ],
            [
             0,
             0,
             0,
             0,
             0,
             0.38664063811302185,
             0.4467787742614746,
             0.453556627035141,
             0.4737143814563751,
             0.4753389060497284
            ],
            [
             0.16394510865211487,
             0.19897226989269257,
             0.24824371933937073,
             0.28241345286369324,
             0.2959732115268707,
             0.37590596079826355,
             0.43939921259880066,
             0.4639427363872528,
             0.5064359307289124,
             0.4901386797428131
            ]
           ]
          }
         ]
        },
        {
         "data": [
          {
           "type": "heatmap",
           "z": [
            [
             0.18952029943466187,
             0.18605808913707733,
             0.18354497849941254,
             0.24865449965000153,
             0.3830640912055969,
             0.4523620009422302,
             0.44921988248825073,
             0.46419471502304077,
             0.4923854470252991,
             0.4882311224937439
            ],
            [
             0.210398331284523,
             0.2046428918838501,
             0.1902613341808319,
             0.22022826969623566,
             0.34310898184776306,
             0.42257609963417053,
             0.43036019802093506,
             0.47112569212913513,
             0.5228370428085327,
             0.49728843569755554
            ],
            [
             0.21222560107707977,
             0.21844811737537384,
             0.2046428918838501,
             0.23139670491218567,
             0.3502855598926544,
             0.46982839703559875,
             0.43603673577308655,
             0.438666969537735,
             0.4782273471355438,
             0.47197118401527405
            ],
            [
             0.23087170720100403,
             0.21222560107707977,
             0.210398331284523,
             0.22229984402656555,
             0.3114626407623291,
             0.3839910924434662,
             0.3908952474594116,
             0.3730482757091522,
             0,
             0
            ],
            [
             0.2261957824230194,
             0.21844811737537384,
             0.2046428918838501,
             0.1902613341808319,
             0.2535199224948883,
             0.3088054358959198,
             0.32875198125839233,
             0,
             0,
             0
            ],
            [
             0.1691613644361496,
             0.1439616084098816,
             0.15963177382946014,
             0.21711429953575134,
             0.24540935456752777,
             0.23839013278484344,
             0,
             0,
             0,
             0
            ],
            [
             0,
             0,
             0,
             0,
             0,
             0.28468966484069824,
             0.33330872654914856,
             0.3789369761943817,
             0.39562147855758667,
             0.40838828682899475
            ],
            [
             0,
             0,
             0,
             0,
             0,
             0,
             0.41412046551704407,
             0.44236767292022705,
             0.44926607608795166,
             0.45714324712753296
            ],
            [
             0,
             0,
             0,
             0,
             0,
             0.39597928524017334,
             0.4590241611003876,
             0.4665440022945404,
             0.4870991110801697,
             0.4887632131576538
            ],
            [
             0.15609422326087952,
             0.19337651133537292,
             0.24540935456752777,
             0.28242844343185425,
             0.29979008436203003,
             0.3844221234321594,
             0.4515577554702759,
             0.47721001505851746,
             0.5199432969093323,
             0.5037145614624023
            ]
           ]
          }
         ]
        },
        {
         "data": [
          {
           "type": "heatmap",
           "z": [
            [
             0.18162769079208374,
             0.17808279395103455,
             0.17669399082660675,
             0.24874179065227509,
             0.3915715515613556,
             0.4642563462257385,
             0.46096137166023254,
             0.4768165051937103,
             0.5054312348365784,
             0.5013158321380615
            ],
            [
             0.20340017974376678,
             0.1976999044418335,
             0.18300360441207886,
             0.217183455824852,
             0.3496187925338745,
             0.43358325958251953,
             0.44181427359580994,
             0.4836304187774658,
             0.5356451869010925,
             0.5102375745773315
            ],
            [
             0.20592862367630005,
             0.21310429275035858,
             0.1976999044418335,
             0.22614257037639618,
             0.3547112047672272,
             0.48057466745376587,
             0.446860134601593,
             0.44991451501846313,
             0.4905599355697632,
             0.4843865931034088
            ],
            [
             0.23210908472537994,
             0.20592862367630005,
             0.20340017974376678,
             0.2156679630279541,
             0.31121882796287537,
             0.38998499512672424,
             0.3987728953361511,
             0.38067328929901123,
             0,
             0
            ],
            [
             0.2235274612903595,
             0.21310429275035858,
             0.1976999044418335,
             0.18300360441207886,
             0.2498137354850769,
             0.30912524461746216,
             0.3321564793586731,
             0,
             0,
             0
            ],
            [
             0.16160431504249573,
             0.13507425785064697,
             0.15159693360328674,
             0.21256276965141296,
             0.24230419099330902,
             0.23670659959316254,
             0,
             0,
             0,
             0
            ],
            [
             0,
             0,
             0,
             0,
             0,
             0.2871754467487335,
             0.3387490510940552,
             0.38721364736557007,
             0.4053373336791992,
             0.4187612533569336
            ],
            [
             0,
             0,
             0,
             0,
             0,
             0,
             0.42375659942626953,
             0.45400992035865784,
             0.4615587592124939,
             0.4697023034095764
            ],
            [
             0,
             0,
             0,
             0,
             0,
             0.4051607847213745,
             0.47106674313545227,
             0.47931963205337524,
             0.5002659559249878,
             0.5019772052764893
            ],
            [
             0.14788705110549927,
             0.18745103478431702,
             0.24230419099330902,
             0.2822273075580597,
             0.30340704321861267,
             0.3927823007106781,
             0.46352362632751465,
             0.4902611970901489,
             0.5332158803939819,
             0.5170688033103943
            ]
           ]
          }
         ]
        },
        {
         "data": [
          {
           "type": "heatmap",
           "z": [
            [
             0.17335133254528046,
             0.1697189062833786,
             0.16948279738426208,
             0.24855680763721466,
             0.3999207615852356,
             0.4759524464607239,
             0.4725114107131958,
             0.489244669675827,
             0.518275797367096,
             0.5142172574996948
            ],
            [
             0.1960752308368683,
             0.19041356444358826,
             0.17537757754325867,
             0.21383436024188995,
             0.3559807240962982,
             0.44443151354789734,
             0.45310142636299133,
             0.4959544837474823,
             0.5482501983642578,
             0.5230097770690918
            ],
            [
             0.19940738379955292,
             0.20747613906860352,
             0.19041356444358826,
             0.22058306634426117,
             0.35902097821235657,
             0.491207480430603,
             0.4575594961643219,
             0.4610380232334137,
             0.5027475357055664,
             0.49667665362358093
            ],
            [
             0.23318882286548615,
             0.19940738379955292,
             0.1960752308368683,
             0.2087041288614273,
             0.3107912838459015,
             0.39590251445770264,
             0.40656778216362,
             0.388191282749176,
             0,
             0
            ],
            [
             0.2206108719110489,
             0.20747613906860352,
             0.19041356444358826,
             0.17537757754325867,
             0.2458256036043167,
             0.309250146150589,
             0.3353985846042633,
             0,
             0,
             0
            ],
            [
             0.15370844304561615,
             0.12584057450294495,
             0.14321379363536835,
             0.20770364999771118,
             0.238913893699646,
             0.23471608757972717,
             0,
             0,
             0,
             0
            ],
            [
             0,
             0,
             0,
             0,
             0,
             0.28943419456481934,
             0.34399911761283875,
             0.39533981680870056,
             0.4149211347103119,
             0.4290207624435425
            ],
            [
             0,
             0,
             0,
             0,
             0,
             0,
             0.43322452902793884,
             0.4654695391654968,
             0.4736703634262085,
             0.48209038376808167
            ],
            [
             0,
             0,
             0,
             0,
             0,
             0.41418299078941345,
             0.4829055964946747,
             0.49188196659088135,
             0.5132125020027161,
             0.5149779319763184
            ],
            [
             0.13930858671665192,
             0.18118004500865936,
             0.238913893699646,
             0.2817981541156769,
             0.3068161904811859,
             0.4009833335876465,
             0.4752950370311737,
             0.5030945539474487,
             0.5462509393692017,
             0.5301981568336487
            ]
           ]
          }
         ]
        },
        {
         "data": [
          {
           "type": "heatmap",
           "z": [
            [
             0.1646760255098343,
             0.16095130145549774,
             0.16189666092395782,
             0.24808859825134277,
             0.40810972452163696,
             0.4874498248100281,
             0.48386842012405396,
             0.5014772415161133,
             0.530916154384613,
             0.5269314646720886
            ],
            [
             0.18840934336185455,
             0.18276941776275635,
             0.16736842691898346,
             0.2101679891347885,
             0.36219191551208496,
             0.4551198482513428,
             0.4642200469970703,
             0.5080953240394592,
             0.5606489181518555,
             0.5356007814407349
            ],
            [
             0.19265216588974,
             0.2015514373779297,
             0.18276941776275635,
             0.21470336616039276,
             0.36321067810058594,
             0.5017244815826416,
             0.468132883310318,
             0.47203493118286133,
             0.5147862434387207,
             0.5088367462158203
            ],
            [
             0.23410694301128387,
             0.19265216588974,
             0.18840934336185455,
             0.2013922780752182,
             0.31017005443573,
             0.4017404019832611,
             0.414277046918869,
             0.3955985903739929,
             0,
             0
            ],
            [
             0.21743597090244293,
             0.2015514373779297,
             0.18276941776275635,
             0.16736842691898346,
             0.24154089391231537,
             0.3091692626476288,
             0.33846962451934814,
             0,
             0,
             0
            ],
            [
             0.14546068012714386,
             0.11624967306852341,
             0.13446970283985138,
             0.2025231420993805,
             0.2352244257926941,
             0.2324042171239853,
             0,
             0,
             0,
             0
            ],
            [
             0,
             0,
             0,
             0,
             0,
             0.2914571464061737,
             0.349053293466568,
             0.4033116400241852,
             0.424369752407074,
             0.43916404247283936
            ],
            [
             0,
             0,
             0,
             0,
             0,
             0,
             0.4425223171710968,
             0.47674480080604553,
             0.48559868335723877,
             0.4943041503429413
            ],
            [
             0,
             0,
             0,
             0,
             0,
             0.42304402589797974,
             0.4945400357246399,
             0.5042300820350647,
             0.5259371995925903,
             0.5277628898620605
            ],
            [
             0.13034474849700928,
             0.17454859614372253,
             0.2352244257926941,
             0.28112977743148804,
             0.3100101351737976,
             0.40902218222618103,
             0.4868709146976471,
             0.5157087445259094,
             0.5590463876724243,
             0.5430998206138611
            ]
           ]
          }
         ]
        },
        {
         "data": [
          {
           "type": "heatmap",
           "z": [
            [
             0.1555875539779663,
             0.15176574885845184,
             0.153921440243721,
             0.24732667207717896,
             0.41613665223121643,
             0.49874821305274963,
             0.4950314462184906,
             0.5135125517845154,
             0.5433496832847595,
             0.5394545793533325
            ],
            [
             0.1803891509771347,
             0.1747535914182663,
             0.1589619517326355,
             0.20617182552814484,
             0.3682500123977661,
             0.46564754843711853,
             0.47516903281211853,
             0.5200512409210205,
             0.5728381872177124,
             0.5480064153671265
            ],
            [
             0.1856536567211151,
             0.19531844556331635,
             0.1747535914182663,
             0.2084890455007553,
             0.3672764003276825,
             0.5121235251426697,
             0.4785784184932709,
             0.4829028844833374,
             0.5266727209091187,
             0.520862877368927
            ],
            [
             0.2348598688840866,
             0.1856536567211151,
             0.1803891509771347,
             0.193717360496521,
             0.30934572219848633,
             0.40749576687812805,
             0.42189863324165344,
             0.40289199352264404,
             0,
             0
            ],
            [
             0.213993102312088,
             0.19531844556331635,
             0.1747535914182663,
             0.1589619517326355,
             0.23694562911987305,
             0.3088722825050354,
             0.34136125445365906,
             0,
             0,
             0
            ],
            [
             0.13684889674186707,
             0.10629113018512726,
             0.12535308301448822,
             0.19700796902179718,
             0.23122239112854004,
             0.22975699603557587,
             0,
             0,
             0,
             0
            ],
            [
             0,
             0,
             0,
             0,
             0,
             0.29323601722717285,
             0.3539062440395355,
             0.41112545132637024,
             0.43368029594421387,
             0.4491884112358093
            ],
            [
             0,
             0,
             0,
             0,
             0,
             0,
             0.451648086309433,
             0.48783421516418457,
             0.49734142422676086,
             0.5063405632972717
            ],
            [
             0,
             0,
             0,
             0,
             0,
             0.431742399930954,
             0.5059698224067688,
             0.5163630843162537,
             0.5384382605552673,
             0.5403294563293457
            ],
            [
             0.12098230421543121,
             0.16754233837127686,
             0.23122239112854004,
             0.28021132946014404,
             0.31298181414604187,
             0.41689616441726685,
             0.49825021624565125,
             0.5281026363372803,
             0.571600615978241,
             0.55577152967453
            ]
           ]
          }
         ]
        },
        {
         "data": [
          {
           "type": "heatmap",
           "z": [
            [
             0.14607281982898712,
             0.14214934408664703,
             0.14554427564144135,
             0.24626153707504272,
             0.42400050163269043,
             0.50984787940979,
             0.5059999227523804,
             0.5253494381904602,
             0.5555742979049683,
             0.551783561706543
            ],
            [
             0.17200230062007904,
             0.16635343432426453,
             0.1501455307006836,
             0.20183394849300385,
             0.37415313720703125,
             0.4760143756866455,
             0.48594754934310913,
             0.5318205952644348,
             0.5848156213760376,
             0.5602233409881592
            ],
            [
             0.17840293049812317,
             0.18876616656780243,
             0.16635343432426453,
             0.20192664861679077,
             0.37121522426605225,
             0.5224029421806335,
             0.4888947308063507,
             0.49364009499549866,
             0.5384037494659424,
             0.5327510833740234
            ],
            [
             0.23544448614120483,
             0.17840293049812317,
             0.17200230062007904,
             0.18566514551639557,
             0.3083096146583557,
             0.41316649317741394,
             0.42943069338798523,
             0.41006889939308167,
             0,
             0
            ],
            [
             0.2102733701467514,
             0.18876616656780243,
             0.16635343432426453,
             0.1501455307006836,
             0.23202645778656006,
             0.3083496391773224,
             0.34406617283821106,
             0,
             0,
             0
            ],
            [
             0.12786196172237396,
             0.09595604985952377,
             0.11585332453250885,
             0.19114594161510468,
             0.22689518332481384,
             0.22676146030426025,
             0,
             0,
             0,
             0
            ],
            [
             0,
             0,
             0,
             0,
             0,
             0.2947634160518646,
             0.35855334997177124,
             0.41877833008766174,
             0.44285041093826294,
             0.45909157395362854
            ],
            [
             0,
             0,
             0,
             0,
             0,
             0,
             0.46060052514076233,
             0.49873676896095276,
             0.5088970065116882,
             0.5181971788406372
            ],
            [
             0,
             0,
             0,
             0,
             0,
             0.44027721881866455,
             0.5171948671340942,
             0.5282808542251587,
             0.5507149696350098,
             0.5526762008666992
            ],
            [
             0.11120911687612534,
             0.16014792025089264,
             0.22689518332481384,
             0.27903273701667786,
             0.3157249093055725,
             0.4246032238006592,
             0.5094324946403503,
             0.5402758121490479,
             0.5839123725891113,
             0.5682114362716675
            ]
           ]
          }
         ]
        },
        {
         "data": [
          {
           "type": "heatmap",
           "z": [
            [
             0.1361195594072342,
             0.13208997249603271,
             0.13675272464752197,
             0.244883731007576,
             0.43170034885406494,
             0.5207492113113403,
             0.5167735815048218,
             0.5369870662689209,
             0.5675882697105408,
             0.5639155507087708
            ],
            [
             0.1632368564605713,
             0.15755674242973328,
             0.14090678095817566,
             0.19714295864105225,
             0.37989968061447144,
             0.48622024059295654,
             0.49655526876449585,
             0.5434020161628723,
             0.5965790748596191,
             0.5722483396530151
            ],
            [
             0.1708914041519165,
             0.18188412487506866,
             0.15755674242973328,
             0.19500309228897095,
             0.37502431869506836,
             0.532561182975769,
             0.4990808069705963,
             0.504244863986969,
             0.5499762296676636,
             0.544497549533844
            ],
            [
             0.23585781455039978,
             0.1708914041519165,
             0.1632368564605713,
             0.1772218942642212,
             0.30705317854881287,
             0.41875073313713074,
             0.43687206506729126,
             0.41712698340415955,
             0,
             0
            ],
            [
             0.2062680423259735,
             0.18188412487506866,
             0.15755674242973328,
             0.14090678095817566,
             0.22677038609981537,
             0.3075919449329376,
             0.3465774655342102,
             0,
             0,
             0
            ],
            [
             0.11848951131105423,
             0.08523601293563843,
             0.10596045851707458,
             0.18492509424686432,
             0.22223033010959625,
             0.2234048694372177,
             0,
             0,
             0,
             0
            ],
            [
             0,
             0,
             0,
             0,
             0,
             0.2960318922996521,
             0.36299023032188416,
             0.42626726627349854,
             0.45187753438949585,
             0.46887099742889404
            ],
            [
             0,
             0,
             0,
             0,
             0,
             0,
             0.4693787097930908,
             0.509451687335968,
             0.5202640891075134,
             0.5298714637756348
            ],
            [
             0,
             0,
             0,
             0,
             0,
             0.4486478269100189,
             0.5282157063484192,
             0.5399831533432007,
             0.5627664923667908,
             0.5648015737533569
            ],
            [
             0.10101388394832611,
             0.1523524522781372,
             0.22223033010959625,
             0.2775843143463135,
             0.3182334005832672,
             0.43214142322540283,
             0.5204175710678101,
             0.5522277355194092,
             0.5959808826446533,
             0.5804181694984436
            ]
           ]
          }
         ]
        },
        {
         "data": [
          {
           "type": "heatmap",
           "z": [
            [
             0.1257159262895584,
             0.12157594412565231,
             0.12753458321094513,
             0.24318362772464752,
             0.43923529982566833,
             0.5314526557922363,
             0.5273518562316895,
             0.5484241247177124,
             0.5793895721435547,
             0.5758472681045532
            ],
            [
             0.15408098697662354,
             0.1483515501022339,
             0.13123378157615662,
             0.19208738207817078,
             0.38548797369003296,
             0.49626487493515015,
             0.5069912672042847,
             0.5547940731048584,
             0.6081265211105347,
             0.5840780735015869
            ],
            [
             0.16311025619506836,
             0.17466160655021667,
             0.1483515501022339,
             0.18770529329776764,
             0.3787008225917816,
             0.5425965785980225,
             0.5091353058815002,
             0.5147150754928589,
             0.5613873600959778,
             0.556098222732544
            ],
            [
             0.23609673976898193,
             0.16311025619506836,
             0.15408098697662354,
             0.16837403178215027,
             0.3055678904056549,
             0.42424675822257996,
             0.444221168756485,
             0.4240639805793762,
             0,
             0
            ],
            [
             0.20196834206581116,
             0.17466160655021667,
             0.1483515501022339,
             0.13123378157615662,
             0.22116421163082123,
             0.30658990144729614,
             0.34888797998428345,
             0,
             0,
             0
            ],
            [
             0.1087212786078453,
             0.07412320375442505,
             0.09566500782966614,
             0.17833341658115387,
             0.21721532940864563,
             0.21967412531375885,
             0,
             0,
             0,
             0
            ],
            [
             0,
             0,
             0,
             0,
             0,
             0.2970340847969055,
             0.36721235513687134,
             0.43358927965164185,
             0.46075913310050964,
             0.4785240590572357
            ],
            [
             0,
             0,
             0,
             0,
             0,
             0,
             0.4779815077781677,
             0.5199780464172363,
             0.5314410924911499,
             0.5413607358932495
            ],
            [
             0,
             0,
             0,
             0,
             0,
             0.45685338973999023,
             0.5390324592590332,
             0.5514698624610901,
             0.5745921730995178,
             0.5767040252685547
            ],
            [
             0.09038544446229935,
             0.1441430151462555,
             0.21721532940864563,
             0.2758558690547943,
             0.3205011487007141,
             0.43950891494750977,
             0.5312051773071289,
             0.5639582872390747,
             0.6078055500984192,
             0.5923902988433838
            ]
           ]
          }
         ]
        },
        {
         "data": [
          {
           "type": "heatmap",
           "z": [
            [
             0.11485201120376587,
             0.11059761792421341,
             0.11787956953048706,
             0.24115332961082458,
             0.4466054141521454,
             0.5419591665267944,
             0.5377354621887207,
             0.5596604347229004,
             0.5909773707389832,
             0.587576687335968
            ],
            [
             0.14452458918094635,
             0.13872748613357544,
             0.1211165189743042,
             0.18665702641010284,
             0.39091742038726807,
             0.5061491131782532,
             0.5172560811042786,
             0.5659960508346558,
             0.6194567680358887,
             0.5957098007202148
            ],
            [
             0.15505161881446838,
             0.16708949208259583,
             0.13872748613357544,
             0.18002161383628845,
             0.38224315643310547,
             0.5525082349777222,
             0.5190576910972595,
             0.5250498652458191,
             0.5726345777511597,
             0.5675496459007263
            ],
            [
             0.23615901172161102,
             0.15505161881446838,
             0.14452458918094635,
             0.15910980105400085,
             0.3038465678691864,
             0.42965391278266907,
             0.4514777362346649,
             0.4308786988258362,
             0,
             0
            ],
            [
             0.19736678898334503,
             0.16708949208259583,
             0.13872748613357544,
             0.1211165189743042,
             0.21519608795642853,
             0.30533555150032043,
             0.35099223256111145,
             0,
             0,
             0
            ],
            [
             0.09854883700609207,
             0.06261152774095535,
             0.08495926856994629,
             0.17136047780513763,
             0.21183903515338898,
             0.21555811166763306,
             0,
             0,
             0,
             0
            ],
            [
             0,
             0,
             0,
             0,
             0,
             0.29776400327682495,
             0.37121671438217163,
             0.4407424330711365,
             0.4694935083389282,
             0.48804882168769836
            ],
            [
             0,
             0,
             0,
             0,
             0,
             0,
             0.48640885949134827,
             0.5303159952163696,
             0.5424271821975708,
             0.5526635646820068
            ],
            [
             0,
             0,
             0,
             0,
             0,
             0.46489417552948,
             0.5496463179588318,
             0.5627415180206299,
             0.5861920118331909,
             0.5883829593658447
            ],
            [
             0.07931490987539291,
             0.13550861179828644,
             0.21183903515338898,
             0.27383899688720703,
             0.32252323627471924,
             0.44670480489730835,
             0.5417956709861755,
             0.5754674673080444,
             0.6193861961364746,
             0.6041271686553955
            ]
           ]
          }
         ]
        },
        {
         "data": [
          {
           "type": "heatmap",
           "z": [
            [
             0.10352110862731934,
             0.09914834797382355,
             0.10778020322322845,
             0.2387872040271759,
             0.45381250977516174,
             0.5522712469100952,
             0.5479257106781006,
             0.5706969499588013,
             0.6023513078689575,
             0.5991023182868958
            ],
            [
             0.13455991446971893,
             0.1286771148443222,
             0.11054781824350357,
             0.18084436655044556,
             0.3961893618106842,
             0.5158746838569641,
             0.5273508429527283,
             0.5770084261894226,
             0.6305690407752991,
             0.6071419715881348
            ],
            [
             0.14670921862125397,
             0.15916064381599426,
             0.1286771148443222,
             0.1719430685043335,
             0.3856515884399414,
             0.5622961521148682,
             0.5288485884666443,
             0.5352491140365601,
             0.583716630935669,
             0.5788493156433105
            ],
            [
             0.236043781042099,
             0.14670921862125397,
             0.13455991446971893,
             0.14942002296447754,
             0.3018839955329895,
             0.43497326970100403,
             0.45864298939704895,
             0.43757179379463196,
             0,
             0
            ],
            [
             0.19245782494544983,
             0.15916064381599426,
             0.1286771148443222,
             0.11054781824350357,
             0.20885689556598663,
             0.30382323265075684,
             0.35288721323013306,
             0,
             0,
             0
            ],
            [
             0.08796648681163788,
             0.0506976954638958,
             0.0738382488489151,
             0.16399818658828735,
             0.20609287917613983,
             0.2110481858253479,
             0,
             0,
             0,
             0
            ],
            [
             0,
             0,
             0,
             0,
             0,
             0.29821792244911194,
             0.3750022351741791,
             0.44772663712501526,
             0.4780803620815277,
             0.49744462966918945
            ],
            [
             0,
             0,
             0,
             0,
             0,
             0,
             0.4946622848510742,
             0.5404665470123291,
             0.5532228946685791,
             0.5637791156768799
            ],
            [
             0,
             0,
             0,
             0,
             0,
             0.4727719724178314,
             0.5600594878196716,
             0.5738000869750977,
             0.597567081451416,
             0.5998386144638062
            ],
            [
             0.06779628992080688,
             0.12644101679325104,
             0.20609287917613983,
             0.2715274393558502,
             0.3242972791194916,
             0.4537300765514374,
             0.552190899848938,
             0.5867569446563721,
             0.630723774433136,
             0.6156288385391235
            ]
           ]
          }
         ]
        },
        {
         "data": [
          {
           "type": "heatmap",
           "z": [
            [
             0.09171879291534424,
             0.08722444623708725,
             0.09723144769668579,
             0.2360815405845642,
             0.4608595669269562,
             0.562391996383667,
             0.5579254031181335,
             0.5815351009368896,
             0.6135120391845703,
             0.6104235053062439
            ],
            [
             0.1241813600063324,
             0.11819479614496231,
             0.09952307492494583,
             0.17464368045330048,
             0.4013062119483948,
             0.5254444479942322,
             0.5372779369354248,
             0.5878322124481201,
             0.6414636373519897,
             0.6183735132217407
            ],
            [
             0.1380777209997177,
             0.15086963772773743,
             0.11819479614496231,
             0.16346248984336853,
             0.3889276683330536,
             0.5719609260559082,
             0.5385094881057739,
             0.5453134775161743,
             0.5946323871612549,
             0.5899952054023743
            ],
            [
             0.23575103282928467,
             0.1380777209997177,
             0.1241813600063324,
             0.13929755985736847,
             0.2996765375137329,
             0.44020721316337585,
             0.4657195210456848,
             0.4441456198692322,
             0,
             0
            ],
            [
             0.1872374415397644,
             0.15086963772773743,
             0.11819479614496231,
             0.09952307492494583,
             0.20213910937309265,
             0.3020491600036621,
             0.35457170009613037,
             0,
             0,
             0
            ],
            [
             0.07697068154811859,
             0.0383804626762867,
             0.06229930371046066,
             0.15624050796031952,
             0.19997023046016693,
             0.20613789558410645,
             0,
             0,
             0,
             0
            ],
            [
             0,
             0,
             0,
             0,
             0,
             0.29839396476745605,
             0.37856990098953247,
             0.45454320311546326,
             0.4865209460258484,
             0.5067119002342224
            ],
            [
             0,
             0,
             0,
             0,
             0,
             0,
             0.5027444362640381,
             0.5504320859909058,
             0.5638295412063599,
             0.5747075080871582
            ],
            [
             0,
             0,
             0,
             0,
             0,
             0.4804897904396057,
             0.570274829864502,
             0.5846477746963501,
             0.608718991279602,
             0.6110719442367554
            ],
            [
             0.05582631751894951,
             0.11693406105041504,
             0.19997023046016693,
             0.26891669631004333,
             0.3258223533630371,
             0.46058690547943115,
             0.5623931884765625,
             0.5978286266326904,
             0.6418198347091675,
             0.6268966197967529
            ]
           ]
          }
         ]
        },
        {
         "data": [
          {
           "type": "heatmap",
           "z": [
            [
             0.07944376021623611,
             0.07482466846704483,
             0.08623093366622925,
             0.23303472995758057,
             0.4677508771419525,
             0.5723248720169067,
             0.5677379369735718,
             0.5921772122383118,
             0.6244605779647827,
             0.6215401887893677
            ],
            [
             0.11338528990745544,
             0.10727745294570923,
             0.08804020285606384,
             0.1680516004562378,
             0.40627211332321167,
             0.5348615646362305,
             0.5470402240753174,
             0.5984690189361572,
             0.6521412134170532,
             0.629403829574585
            ],
            [
             0.12915335595607758,
             0.14221280813217163,
             0.10727745294570923,
             0.15457499027252197,
             0.3920745849609375,
             0.5815039873123169,
             0.5480427742004395,
             0.5552446842193604,
             0.6053817868232727,
             0.6009856462478638
            ],
            [
             0.23528197407722473,
             0.12915335595607758,
             0.11338528990745544,
             0.1287379264831543,
             0.297222763299942,
             0.4453596770763397,
             0.47271105647087097,
             0.4506038725376129,
             0,
             0
            ],
            [
             0.18170319497585297,
             0.14221280813217163,
             0.10727745294570923,
             0.08804020285606384,
             0.1950376331806183,
             0.30001160502433777,
             0.3560466766357422,
             0,
             0,
             0
            ],
            [
             0.06556021422147751,
             0.02566116861999035,
             0.05034207925200462,
             0.14808356761932373,
             0.19346652925014496,
             0.20082330703735352,
             0,
             0,
             0,
             0
            ],
            [
             0,
             0,
             0,
             0,
             0,
             0.2982924282550812,
             0.38192233443260193,
             0.4611951410770416,
             0.49481722712516785,
             0.5158519148826599
            ],
            [
             0,
             0,
             0,
             0,
             0,
             0,
             0.5106592178344727,
             0.5602155923843384,
             0.574249267578125,
             0.585449755191803
            ],
            [
             0,
             0,
             0,
             0,
             0,
             0.4880518317222595,
             0.5802961587905884,
             0.5952876806259155,
             0.6196498870849609,
             0.6220845580101013
            ],
            [
             0.04340442642569542,
             0.10698442906141281,
             0.19346652925014496,
             0.2660044729709625,
             0.32709988951683044,
             0.4672790467739105,
             0.5724061131477356,
             0.6086851358413696,
             0.6526761054992676,
             0.6379317045211792
            ]
           ]
          }
         ]
        },
        {
         "data": [
          {
           "type": "heatmap",
           "z": [
            [
             0.06669759750366211,
             0.06195122003555298,
             0.07477924972772598,
             0.22964780032634735,
             0.47449201345443726,
             0.5820745229721069,
             0.5773674249649048,
             0.6026260256767273,
             0.6351985931396484,
             0.6324527263641357
            ],
            [
             0.10217070579528809,
             0.09592460840940475,
             0.07610013335943222,
             0.1610671579837799,
             0.4110925495624542,
             0.5441304445266724,
             0.5566419363021851,
             0.6089211702346802,
             0.6626027822494507,
             0.6402329206466675
            ],
            [
             0.11993356049060822,
             0.13318873941898346,
             0.09592460840940475,
             0.14527831971645355,
             0.39509710669517517,
             0.5909267663955688,
             0.5574511289596558,
             0.5650448203086853,
             0.6159648299217224,
             0.6118197441101074
            ],
            [
             0.2346387356519699,
             0.11993356049060822,
             0.10217070579528809,
             0.11773928999900818,
             0.2945229411125183,
             0.45043590664863586,
             0.47962290048599243,
             0.45695221424102783,
             0,
             0
            ],
            [
             0.1758546084165573,
             0.13318873941898346,
             0.09592460840940475,
             0.07610013335943222,
             0.1875496804714203,
             0.2977113723754883,
             0.35731562972068787,
             0,
             0,
             0
            ],
            [
             0.05373638868331909,
             0.012543676421046257,
             0.03796898573637009,
             0.13952596485614777,
             0.1865798383951187,
             0.19510339200496674,
             0,
             0,
             0,
             0
            ],
            [
             0,
             0,
             0,
             0,
             0,
             0.29791581630706787,
             0.38506460189819336,
             0.4676869213581085,
             0.5029729008674622,
             0.5248672962188721
            ],
            [
             0,
             0,
             0,
             0,
             0,
             0,
             0.5184115767478943,
             0.5698208808898926,
             0.5844846963882446,
             0.5960073471069336
            ],
            [
             0,
             0,
             0,
             0,
             0,
             0.49546343088150024,
             0.59012770652771,
             0.6057232618331909,
             0.6303625702857971,
             0.6328785419464111
            ],
            [
             0.030533282086253166,
             0.09659146517515182,
             0.1865798383951187,
             0.2627909481525421,
             0.32813337445259094,
             0.4738117456436157,
             0.5822335481643677,
             0.6193295121192932,
             0.6632951498031616,
             0.6487362384796143
            ]
           ]
          }
         ]
        },
        {
         "data": [
          {
           "type": "heatmap",
           "z": [
            [
             0.05348535627126694,
             0.04860967397689819,
             0.06288021802902222,
             0.22592470049858093,
             0.4810901880264282,
             0.5916460752487183,
             0.5868189334869385,
             0.6128849983215332,
             0.6457279920578003,
             0.6431620121002197
            ],
            [
             0.09053938835859299,
             0.08413882553577423,
             0.06370706856250763,
             0.15369224548339844,
             0.4157749116420746,
             0.5532563924789429,
             0.5660874843597412,
             0.6191912889480591,
             0.672849714756012,
             0.6508610248565674
            ],
            [
             0.11041751503944397,
             0.12379821389913559,
             0.08413882553577423,
             0.13557302951812744,
             0.39800211787223816,
             0.6002315282821655,
             0.5667385458946228,
             0.5747172832489014,
             0.6263822317123413,
             0.6224968433380127
            ],
            [
             0.23382483422756195,
             0.11041751503944397,
             0.09053938835859299,
             0.10630293190479279,
             0.2915800213813782,
             0.45544299483299255,
             0.4864616394042969,
             0.46319812536239624,
             0,
             0
            ],
            [
             0.1696932464838028,
             0.12379821389913559,
             0.08413882553577423,
             0.06370706856250763,
             0.17967569828033447,
             0.2951519191265106,
             0.3583850562572479,
             0,
             0,
             0
            ],
            [
             0.0415036678314209,
             -0.0009654012392275035,
             0.025185413658618927,
             0.1305689960718155,
             0.179311141371727,
             0.18898041546344757,
             0,
             0,
             0,
             0
            ],
            [
             0,
             0,
             0,
             0,
             0,
             0.2972695231437683,
             0.3880041539669037,
             0.47402507066726685,
             0.5109930634498596,
             0.5337616205215454
            ],
            [
             0,
             0,
             0,
             0,
             0,
             0,
             0.526008129119873,
             0.5792528390884399,
             0.5945394039154053,
             0.6063826084136963
            ],
            [
             0,
             0,
             0,
             0,
             0,
             0.502731442451477,
             0.5997745990753174,
             0.6159588098526001,
             0.6408601999282837,
             0.6434565782546997
            ],
            [
             0.017218928784132004,
             0.08575788885354996,
             0.179311141371727,
             0.25927889347076416,
             0.3289291560649872,
             0.48019179701805115,
             0.5918803811073303,
             0.6297653913497925,
             0.6736795902252197,
             0.6593127250671387
            ]
           ]
          }
         ]
        },
        {
         "data": [
          {
           "type": "heatmap",
           "z": [
            [
             0.03981579467654228,
             0.03480931743979454,
             0.05054125934839249,
             0.22187216579914093,
             0.4875539243221283,
             0.6010449528694153,
             0.5960980653762817,
             0.6229581832885742,
             0.6560513973236084,
             0.6536693572998047
            ],
            [
             0.07849595695734024,
             0.07192564755678177,
             0.0508686900138855,
             0.14593185484409332,
             0.42032837867736816,
             0.5622448921203613,
             0.5753824710845947,
             0.6292825937271118,
             0.6828838586807251,
             0.6612892150878906
            ],
            [
             0.10060618072748184,
             0.11404454708099365,
             0.07192564755678177,
             0.12546275556087494,
             0.4007980525493622,
             0.6094210147857666,
             0.5759096145629883,
             0.5842656493186951,
             0.6366351842880249,
             0.6330165863037109
            ],
            [
             0.23284488916397095,
             0.10060618072748184,
             0.07849595695734024,
             0.09443339705467224,
             0.288399338722229,
             0.460389643907547,
             0.49323567748069763,
             0.4693511724472046,
             0,
             0
            ],
            [
             0.16322290897369385,
             0.11404454708099365,
             0.07192564755678177,
             0.0508686900138855,
             0.1714189052581787,
             0.2923397421836853,
             0.35926422476768494,
             0,
             0,
             0
            ],
            [
             0.02886929363012314,
             -0.014856362715363503,
             0.011999836191534996,
             0.12121708691120148,
             0.1716645509004593,
             0.18246009945869446,
             0,
             0,
             0,
             0
            ],
            [
             0,
             0,
             0,
             0,
             0,
             0.2963618338108063,
             0.3907512128353119,
             0.4802183210849762,
             0.5188844799995422,
             0.5425395965576172
            ],
            [
             0,
             0,
             0,
             0,
             0,
             0,
             0.5334565043449402,
             0.5885170698165894,
             0.6044179797172546,
             0.6165785193443298
            ],
            [
             0,
             0,
             0,
             0,
             0,
             0.5098639726638794,
             0.6092422008514404,
             0.6259987950325012,
             0.6511462926864624,
             0.6538215279579163
            ],
            [
             0.0034712115302681923,
             0.07448974251747131,
             0.1716645509004593,
             0.2554742395877838,
             0.3294961452484131,
             0.48642808198928833,
             0.6013521552085876,
             0.6399968862533569,
             0.6838325262069702,
             0.669663667678833
            ]
           ]
          }
         ]
        },
        {
         "data": [
          {
           "type": "heatmap",
           "z": [
            [
             0.025701405480504036,
             0.020563416182994843,
             0.03777356818318367,
             0.2175007164478302,
             0.4938935339450836,
             0.610277533531189,
             0.6052114963531494,
             0.6328499913215637,
             0.6661715507507324,
             0.6639764308929443
            ],
            [
             0.0660482794046402,
             0.059294264763593674,
             0.03759646788239479,
             0.13779425621032715,
             0.42476388812065125,
             0.5711026191711426,
             0.5845332145690918,
             0.6391987800598145,
             0.6927072405815125,
             0.6715183258056641
            ],
            [
             0.09050235897302628,
             0.10393363982439041,
             0.059294264763593674,
             0.11495446413755417,
             0.403495728969574,
             0.6184979677200317,
             0.5849694013595581,
             0.593694269657135,
             0.6467252373695374,
             0.6433792114257812
            ],
            [
             0.2317049652338028,
             0.09050235897302628,
             0.0660482794046402,
             0.08213888853788376,
             0.28498929738998413,
             0.465286523103714,
             0.4999547302722931,
             0.47542306780815125,
             0,
             0
            ],
            [
             0.15644975006580353,
             0.10393363982439041,
             0.059294264763593674,
             0.03759646788239479,
             0.16278621554374695,
             0.28928470611572266,
             0.35996606945991516,
             0,
             0,
             0
            ],
            [
             0.015843838453292847,
             -0.029116444289684296,
             -0.001576154143549502,
             0.11147772520780563,
             0.1636475920677185,
             0.17555224895477295,
             0,
             0,
             0,
             0
            ],
            [
             0,
             0,
             0,
             0,
             0,
             0.295204222202301,
             0.39331886172294617,
             0.486277312040329,
             0.5266553163528442,
             0.5512079000473022
            ],
            [
             0,
             0,
             0,
             0,
             0,
             0,
             0.5407658815383911,
             0.5976201295852661,
             0.61412513256073,
             0.626598596572876
            ],
            [
             0,
             0,
             0,
             0,
             0,
             0.5168704986572266,
             0.6185367107391357,
             0.6358485221862793,
             0.6612249612808228,
             0.6639769077301025
            ],
            [
             -0.010696182027459145,
             0.06279691308736801,
             0.1636475920677185,
             0.25138595700263977,
             0.3298466205596924,
             0.49253109097480774,
             0.6106548309326172,
             0.6500281095504761,
             0.6937571167945862,
             0.6797924041748047
            ]
           ]
          }
         ]
        },
        {
         "data": [
          {
           "type": "heatmap",
           "z": [
            [
             0.011158778332173824,
             0.005889258347451687,
             0.02459229715168476,
             0.21282410621643066,
             0.5001205801963806,
             0.6193501949310303,
             0.614166259765625,
             0.6425652503967285,
             0.6760915517807007,
             0.6740853190422058
            ],
            [
             0.05320743843913078,
             0.04625709354877472,
             0.023905668407678604,
             0.1292913407087326,
             0.429094523191452,
             0.5798367261886597,
             0.593546450138092,
             0.6489439010620117,
             0.7023218274116516,
             0.6815499067306519
            ],
            [
             0.08011090010404587,
             0.09347425401210785,
             0.04625709354877472,
             0.104058638215065,
             0.40610799193382263,
             0.6274658441543579,
             0.593923807144165,
             0.603008508682251,
             0.656653881072998,
             0.6535850167274475
            ],
            [
             0.23041239380836487,
             0.08011090010404587,
             0.05320743843913078,
             0.06943120062351227,
             0.2813611626625061,
             0.47014591097831726,
             0.5066303014755249,
             0.48142802715301514,
             0,
             0
            ],
            [
             0.14938248693943024,
             0.09347425401210785,
             0.04625709354877472,
             0.023905668407678604,
             0.1537882536649704,
             0.2860003113746643,
             0.36050719022750854,
             0,
             0,
             0
            ],
            [
             0.002441133139654994,
             -0.043729785829782486,
             -0.015527356415987015,
             0.1013619601726532,
             0.1552714854478836,
             0.16827090084552765,
             0,
             0,
             0,
             0
            ],
            [
             0,
             0,
             0,
             0,
             0,
             0.2938116788864136,
             0.395723432302475,
             0.492215096950531,
             0.5343156456947327,
             0.5597739219665527
            ],
            [
             0,
             0,
             0,
             0,
             0,
             0,
             0.5479466915130615,
             0.6065689921379089,
             0.6236666440963745,
             0.6364468336105347
            ],
            [
             0,
             0,
             0,
             0,
             0,
             0.5237619876861572,
             0.6276645660400391,
             0.6455130577087402,
             0.6711000204086304,
             0.6739262342453003
            ],
            [
             -0.02526562102138996,
             0.05069320648908615,
             0.1552714854478836,
             0.24702683091163635,
             0.32999613881111145,
             0.49851328134536743,
             0.6197952032089233,
             0.6598638296127319,
             0.7034566402435303,
             0.689702033996582
            ]
           ]
          }
         ]
        },
        {
         "data": [
          {
           "type": "heatmap",
           "z": [
            [
             -0.003791299182921648,
             -0.009191790595650673,
             0.011016503907740116,
             0.20786045491695404,
             0.5062486529350281,
             0.6282697916030884,
             0.622969925403595,
             0.6521090269088745,
             0.6858144998550415,
             0.6839979887008667
            ],
            [
             0.03998807445168495,
             0.03283044695854187,
             0.009815661236643791,
             0.12043873220682144,
             0.43333518505096436,
             0.5884548425674438,
             0.6024296879768372,
             0.6585220098495483,
             0.7117300033569336,
             0.6913853287696838
            ],
            [
             0.06943861395120621,
             0.08267820626497269,
             0.03283044695854187,
             0.09278973937034607,
             0.40864986181259155,
             0.6363280415534973,
             0.6027790904045105,
             0.6122137308120728,
             0.6664233207702637,
             0.6636345386505127
            ],
            [
             0.22897587716579437,
             0.06943861395120621,
             0.03998807445168495,
             0.056326255202293396,
             0.2775294780731201,
             0.47498202323913574,
             0.5132753849029541,
             0.4873821437358856,
             0,
             0
            ],
            [
             0.1420324593782425,
             0.08267820626497269,
             0.03283044695854187,
             0.009815661236643791,
             0.1444394588470459,
             0.28250375390052795,
             0.36090803146362305,
             0,
             0,
             0
            ],
            [
             -0.011321433819830418,
             -0.05867718905210495,
             -0.029835322871804237,
             0.09088440239429474,
             0.14655143022537231,
             0.1606345772743225,
             0,
             0,
             0,
             0
            ],
            [
             0,
             0,
             0,
             0,
             0,
             0.29220297932624817,
             0.3979846239089966,
             0.49804702401161194,
             0.5418770909309387,
             0.5682464838027954
            ],
            [
             0,
             0,
             0,
             0,
             0,
             0,
             0.5550108551979065,
             0.6153714656829834,
             0.6330483555793762,
             0.6461279392242432
            ],
            [
             0,
             0,
             0,
             0,
             0,
             0.5305505990982056,
             0.6366322040557861,
             0.6549981236457825,
             0.6807758808135986,
             0.6836733818054199
            ],
            [
             -0.04021545872092247,
             0.03819650784134865,
             0.14655143022537231,
             0.24241343140602112,
             0.329963743686676,
             0.5043889880180359,
             0.6287803649902344,
             0.6695085763931274,
             0.7129344940185547,
             0.6993961930274963
            ]
           ]
          }
         ]
        },
        {
         "data": [
          {
           "type": "heatmap",
           "z": [
            [
             -0.019124098122119904,
             -0.024654055014252663,
             -0.0029303794726729393,
             0.20263142883777618,
             0.5122921466827393,
             0.637043297290802,
             0.6316304206848145,
             0.6614865660667419,
             0.6953436732292175,
             0.693716824054718
            ],
            [
             0.026408208534121513,
             0.019034143537282944,
             -0.0046503059566020966,
             0.11125579476356506,
             0.4375028610229492,
             0.5969648361206055,
             0.6111907362937927,
             0.6679373979568481,
             0.7209340333938599,
             0.701026439666748
            ],
            [
             0.058494534343481064,
             0.07155991345643997,
             0.019034143537282944,
             0.08116581290960312,
             0.41113871335983276,
             0.6450880765914917,
             0.6115419268608093,
             0.6213159561157227,
             0.6760355234146118,
             0.6735286712646484
            ],
            [
             0.2274053990840912,
             0.058494534343481064,
             0.026408208534121513,
             0.04284381493926048,
             0.27351224422454834,
             0.47981104254722595,
             0.519904375076294,
             0.4933043122291565,
             0,
             0
            ],
            [
             0.1344134658575058,
             0.07155991345643997,
             0.019034143537282944,
             -0.0046503059566020966,
             0.1347586065530777,
             0.2788165211677551,
             0.3611930310726166,
             0,
             0,
             0
            ],
            [
             -0.025423232465982437,
             -0.0739363431930542,
             -0.044478271156549454,
             0.08006327599287033,
             0.13750673830509186,
             0.15266644954681396,
             0,
             0,
             0,
             0
            ],
            [
             0,
             0,
             0,
             0,
             0,
             0.2904006540775299,
             0.40012532472610474,
             0.5037907958030701,
             0.5493530631065369,
             0.5766357183456421
            ],
            [
             0,
             0,
             0,
             0,
             0,
             0,
             0.5619711875915527,
             0.6240358352661133,
             0.6422767043113708,
             0.6556464433670044
            ],
            [
             0,
             0,
             0,
             0,
             0,
             0.5372496843338013,
             0.64544677734375,
             0.6643091440200806,
             0.6902565956115723,
             0.6932222247123718
            ],
            [
             -0.055519845336675644,
             0.025328954681754112,
             0.13750673830509186,
             0.23756614327430725,
             0.3297722637653351,
             0.5101743340492249,
             0.637617826461792,
             0.6789672374725342,
             0.7221940755844116,
             0.7088780403137207
            ]
           ]
          }
         ]
        },
        {
         "data": [
          {
           "type": "heatmap",
           "z": [
            [
             -0.03481082245707512,
             -0.040467873215675354,
             -0.017221059650182724,
             0.19716313481330872,
             0.5182672142982483,
             0.6456776857376099,
             0.6401561498641968,
             0.6707032918930054,
             0.7046821713447571,
             0.7032440900802612
            ],
            [
             0.012489340268075466,
             0.004891922697424889,
             -0.019464850425720215,
             0.10176606476306915,
             0.44161632657051086,
             0.6053752899169922,
             0.6198378801345825,
             0.6771942377090454,
             0.7299360036849976,
             0.7104746103286743
            ],
            [
             0.04728974774479866,
             0.06013714522123337,
             0.004891922697424889,
             0.06920892000198364,
             0.41359394788742065,
             0.6537493467330933,
             0.6202192306518555,
             0.6303212642669678,
             0.6854923963546753,
             0.6832678318023682
            ],
            [
             0.22571223974227905,
             0.04728974774479866,
             0.012489340268075466,
             0.029007773846387863,
             0.2693309187889099,
             0.4846506416797638,
             0.526533305644989,
             0.49921539425849915,
             0,
             0
            ],
            [
             0.12654228508472443,
             0.06013714522123337,
             0.004891922697424889,
             -0.019464850425720215,
             0.12476848810911179,
             0.27496418356895447,
             0.3613911271095276,
             0,
             0,
             0
            ],
            [
             -0.039840176701545715,
             -0.08948195725679398,
             -0.05943085998296738,
             0.06892065703868866,
             0.12816084921360016,
             0.1443946212530136,
             0,
             0,
             0,
             0
            ],
            [
             0,
             0,
             0,
             0,
             0,
             0.28843122720718384,
             0.4021720588207245,
             0.5094664096832275,
             0.5567585229873657,
             0.5849530696868896
            ],
            [
             0,
             0,
             0,
             0,
             0,
             0,
             0.5688417553901672,
             0.6325708627700806,
             0.651358425617218,
             0.6650075912475586
            ],
            [
             0,
             0,
             0,
             0,
             0,
             0.54387366771698,
             0.6541150808334351,
             0.6734517812728882,
             0.6995463371276855,
             0.7025763988494873
            ],
            [
             -0.07114887237548828,
             0.012116658501327038,
             0.12816084921360016,
             0.23250964283943176,
             0.32944825291633606,
             0.5158873796463013,
             0.6463148593902588,
             0.6882440447807312,
             0.7312384247779846,
             0.7181509733200073
            ]
           ]
          }
         ]
        },
        {
         "data": [
          {
           "type": "heatmap",
           "z": [
            [
             -0.050818633288145065,
             -0.056599754840135574,
             -0.031824104487895966,
             0.19148582220077515,
             0.5241912007331848,
             0.6541798114776611,
             0.6485553979873657,
             0.6797641515731812,
             0.7138329744338989,
             0.712581992149353
            ],
            [
             -0.0017436278285458684,
             -0.009569114074110985,
             -0.03459689021110535,
             0.0919967070221901,
             0.44569626450538635,
             0.6136943101882935,
             0.6283791661262512,
             0.6862967014312744,
             0.738737940788269,
             0.7197315692901611
            ],
            [
             0.035837478935718536,
             0.048430435359478,
             -0.009569114074110985,
             0.056945059448480606,
             0.41603729128837585,
             0.6623151302337646,
             0.6288180947303772,
             0.6392362117767334,
             0.6947959661483765,
             0.6928530931472778
            ],
            [
             0.22390882670879364,
             0.035837478935718536,
             -0.0017436278285458684,
             0.014845934696495533,
             0.26501065492630005,
             0.48952049016952515,
             0.5331792831420898,
             0.5051385760307312,
             0,
             0
            ],
            [
             0.11843816190958023,
             0.048430435359478,
             -0.009569114074110985,
             -0.03459689021110535,
             0.11449641734361649,
             0.27097681164741516,
             0.36153554916381836,
             0,
             0,
             0
            ],
            [
             -0.05454496294260025,
             -0.10528571158647537,
             -0.0746646299958229,
             0.05748221278190613,
             0.11854162812232971,
             0.13585220277309418,
             0,
             0,
             0,
             0
            ],
            [
             0,
             0,
             0,
             0,
             0,
             0.2863253057003021,
             0.40415483713150024,
             0.5150959491729736,
             0.5641099214553833,
             0.5932106971740723
            ],
            [
             0,
             0,
             0,
             0,
             0,
             0,
             0.5756374597549438,
             0.640985369682312,
             0.6603000164031982,
             0.6742165088653564
            ],
            [
             0,
             0,
             0,
             0,
             0,
             0.5504382848739624,
             0.6626436114311218,
             0.6824313402175903,
             0.7086489200592041,
             0.7117395401000977
            ],
            [
             -0.08706894516944885,
             -0.0014098426327109337,
             0.11854162812232971,
             0.2272728532552719,
             0.3290221095085144,
             0.521547794342041,
             0.6548792123794556,
             0.6973435282707214,
             0.7400705814361572,
             0.7272182106971741
            ]
           ]
          }
         ]
        },
        {
         "data": [
          {
           "type": "heatmap",
           "z": [
            [
             -0.06711128354072571,
             -0.0730123445391655,
             -0.046704500913619995,
             0.18563374876976013,
             0.5300824046134949,
             0.6625564098358154,
             0.6568365693092346,
             0.6886743307113647,
             0.7227990627288818,
             0.7217326164245605
            ],
            [
             -0.01626245304942131,
             -0.024318279698491096,
             -0.050011541694402695,
             0.08197902888059616,
             0.44976499676704407,
             0.6219304203987122,
             0.636823296546936,
             0.6952487230300903,
             0.7473416924476624,
             0.7287987470626831
            ],
            [
             0.02415279671549797,
             0.036463018506765366,
             -0.024318279698491096,
             0.044403959065675735,
             0.4184924364089966,
             0.6707885265350342,
             0.6373454928398132,
             0.6480671167373657,
             0.7039480209350586,
             0.7022846341133118
            ],
            [
             0.22200872004032135,
             0.02415279671549797,
             -0.01626245304942131,
             0.0003900229639839381,
             0.260579913854599,
             0.49444133043289185,
             0.5398603081703186,
             0.5110989809036255,
             0,
             0
            ],
            [
             0.11012288928031921,
             0.036463018506765366,
             -0.024318279698491096,
             -0.050011541694402695,
             0.1039738655090332,
             0.26688888669013977,
             0.36166390776634216,
             0,
             0,
             0
            ],
            [
             -0.06950736790895462,
             -0.12131679803133011,
             -0.09014835208654404,
             0.04577731341123581,
             0.10868094116449356,
             0.12707696855068207,
             0,
             0,
             0,
             0
            ],
            [
             0,
             0,
             0,
             0,
             0,
             0.28411760926246643,
             0.40610694885253906,
             0.5207038521766663,
             0.5714250802993774,
             0.6014220714569092
            ],
            [
             0,
             0,
             0,
             0,
             0,
             0,
             0.5823742151260376,
             0.6492882966995239,
             0.6691086292266846,
             0.6832782030105591
            ],
            [
             0,
             0,
             0,
             0,
             0,
             0.5569597482681274,
             0.6710392236709595,
             0.6912527680397034,
             0.7175680994987488,
             0.7207152843475342
            ],
            [
             -0.10324320197105408,
             -0.015216308645904064,
             0.10868094116449356,
             0.22188891470432281,
             0.3285282552242279,
             0.5271766185760498,
             0.663318395614624,
             0.7062698602676392,
             0.7486933469772339,
             0.7360826134681702
            ]
           ]
          }
         ]
        },
        {
         "data": [
          {
           "type": "heatmap",
           "z": [
            [
             -0.08364890515804291,
             -0.0896650105714798,
             -0.06182338297367096,
             0.17964546382427216,
             0.5359600186347961,
             0.6708135008811951,
             0.6650077104568481,
             0.6974383592605591,
             0.7315826416015625,
             0.730697751045227
            ],
            [
             -0.0310360174626112,
             -0.039321716874837875,
             -0.06567063182592392,
             0.07174789160490036,
             0.453846275806427,
             0.630091667175293,
             0.645177960395813,
             0.704053521156311,
             0.7557488679885864,
             0.7376773357391357
            ],
            [
             0.01225307397544384,
             0.0242609903216362,
             -0.039321716874837875,
             0.0316191092133522,
             0.4209848940372467,
             0.679172158241272,
             0.6458081603050232,
             0.6568199396133423,
             0.7129501104354858,
             0.7115628719329834
            ],
            [
             0.220026433467865,
             0.01225307397544384,
             -0.0310360174626112,
             -0.014324802905321121,
             0.2560710906982422,
             0.4994354248046875,
             0.5465956330299377,
             0.5171236395835876,
             0,
             0
            ],
            [
             0.10162077099084854,
             0.0242609903216362,
             -0.039321716874837875,
             -0.06567063182592392,
             0.09323674440383911,
             0.26273930072784424,
             0.3618181645870209,
             0,
             0,
             0
            ],
            [
             -0.08469412475824356,
             -0.1375417709350586,
             -0.10584770888090134,
             0.033838700503110886,
             0.09861504286527634,
             0.11811167746782303,
             0,
             0,
             0,
             0
            ],
            [
             0,
             0,
             0,
             0,
             0,
             0.28184667229652405,
             0.4080650508403778,
             0.5263160467147827,
             0.5787225961685181,
             0.6096009016036987
            ],
            [
             0,
             0,
             0,
             0,
             0,
             0,
             0.5890681743621826,
             0.6574883460998535,
             0.6777905225753784,
             0.6921975016593933
            ],
            [
             0,
             0,
             0,
             0,
             0,
             0.5634547472000122,
             0.6793076395988464,
             0.6999208927154541,
             0.7263069152832031,
             0.7295064926147461
            ],
            [
             -0.11963105201721191,
             -0.029264571145176888,
             0.09861504286527634,
             0.216395303606987,
             0.3280044496059418,
             0.5327963829040527,
             0.6716394424438477,
             0.7150263786315918,
             0.7571091651916504,
             0.7447468638420105
            ]
           ]
          }
         ]
        },
        {
         "data": [
          {
           "type": "heatmap",
           "z": [
            [
             -0.10038885474205017,
             -0.10651441663503647,
             -0.07713914662599564,
             0.17356304824352264,
             0.5418434739112854,
             0.6789568662643433,
             0.6730765104293823,
             0.7060604095458984,
             0.7401859760284424,
             0.7394787073135376
            ],
            [
             -0.04603032022714615,
             -0.05454270541667938,
             -0.08153298497200012,
             0.061341673135757446,
             0.45796501636505127,
             0.6381855010986328,
             0.6534510850906372,
             0.7127143144607544,
             0.7639607787132263,
             0.7463680505752563
            ],
            [
             0.00015692412853240967,
             0.011852886527776718,
             -0.05454270541667938,
             0.018627261742949486,
             0.4235418140888214,
             0.6874679327011108,
             0.6542121767997742,
             0.6655003428459167,
             0.7218030691146851,
             0.7206878066062927
            ],
            [
             0.21797718107700348,
             0.00015692412853240967,
             -0.04603032022714615,
             -0.029259851202368736,
             0.25151968002319336,
             0.504525899887085,
             0.5534046292304993,
             0.5232406258583069,
             0,
             0
            ],
            [
             0.09295831620693207,
             0.011852886527776718,
             -0.05454270541667938,
             -0.08153298497200012,
             0.08232474327087402,
             0.2585713565349579,
             0.36204424500465393,
             0,
             0,
             0
            ],
            [
             -0.10006983578205109,
             -0.15392546355724335,
             -0.12172665446996689,
             0.02170238271355629,
             0.0883839949965477,
             0.10900351405143738,
             0,
             0,
             0,
             0
            ],
            [
             0,
             0,
             0,
             0,
             0,
             0.27955472469329834,
             0.4100685119628906,
             0.531960129737854,
             0.5860220193862915,
             0.617761492729187
            ],
            [
             0,
             0,
             0,
             0,
             0,
             0,
             0.5957357883453369,
             0.665594220161438,
             0.6863516569137573,
             0.7009790539741516
            ],
            [
             0,
             0,
             0,
             0,
             0,
             0.5699403882026672,
             0.6874545812606812,
             0.7084395289421082,
             0.7348682284355164,
             0.7381158471107483
            ],
            [
             -0.13618971407413483,
             -0.043513208627700806,
             0.0883839949965477,
             0.21083340048789978,
             0.3274921476840973,
             0.5384300947189331,
             0.6798492074012756,
             0.723616361618042,
             0.7653200626373291,
             0.7532132267951965
            ]
           ]
          }
         ]
        },
        {
         "data": [
          {
           "type": "heatmap",
           "z": [
            [
             -0.11728627234697342,
             -0.12351460754871368,
             -0.09260740876197815,
             0.16743206977844238,
             0.5477527379989624,
             0.686991274356842,
             0.6810500621795654,
             0.7145437598228455,
             0.7486106157302856,
             0.7480767965316772
            ],
            [
             -0.06120917946100235,
             -0.06994220614433289,
             -0.09755498915910721,
             0.05080176144838333,
             0.4621468484401703,
             0.64621901512146,
             0.6616494655609131,
             0.7212334275245667,
             0.7719782590866089,
             0.7548715472221375
            ],
            [
             -0.012115183286368847,
             -0.0007308124331757426,
             -0.06994220614433289,
             0.0054683140479028225,
             0.42619162797927856,
             0.6956771612167358,
             0.6625633239746094,
             0.6741132736206055,
             0.7305074334144592,
             0.729658842086792
            ],
            [
             0.21587689220905304,
             -0.012115183286368847,
             -0.06120917946100235,
             -0.044373754411935806,
             0.2469644993543625,
             0.5097364783287048,
             0.5603064894676208,
             0.5294791460037231,
             0,
             0
            ],
            [
             0.08416386693716049,
             -0.0007308124331757426,
             -0.06994220614433289,
             -0.09755498915910721,
             0.07128126174211502,
             0.25443214178085327,
             0.36239203810691833,
             0,
             0,
             0
            ],
            [
             -0.11559701710939407,
             -0.17043086886405945,
             -0.13774657249450684,
             0.009406989440321922,
             0.0780315026640892,
             0.09980364143848419,
             0,
             0,
             0,
             0
            ],
            [
             0,
             0,
             0,
             0,
             0,
             0.2772873044013977,
             0.41215917468070984,
             0.5376644134521484,
             0.5933431386947632,
             0.6259181499481201
            ],
            [
             0,
             0,
             0,
             0,
             0,
             0,
             0.6023935079574585,
             0.6736137866973877,
             0.6947978734970093,
             0.7096269130706787
            ],
            [
             0,
             0,
             0,
             0,
             0,
             0.5764337182044983,
             0.6954846382141113,
             0.7168123722076416,
             0.7432540655136108,
             0.746545672416687
            ],
            [
             -0.15287405252456665,
             -0.05791791155934334,
             0.0780315026640892,
             0.2052483856678009,
             0.32703572511672974,
             0.5441018342971802,
             0.6879537105560303,
             0.7320423126220703,
             0.7733275890350342,
             0.7614834308624268
            ]
           ]
          }
         ]
        },
        {
         "data": [
          {
           "type": "heatmap",
           "z": [
            [
             -0.13429413735866547,
             -0.14061808586120605,
             -0.10818184912204742,
             0.16130104660987854,
             0.5537071228027344,
             0.6949207782745361,
             0.6889346241950989,
             0.7228914499282837,
             0.7568574547767639,
             0.7564926147460938
            ],
            [
             -0.07653435319662094,
             -0.08547911792993546,
             -0.113691046833992,
             0.04017198830842972,
             0.4664178788661957,
             0.6541981101036072,
             0.6697795987129211,
             0.7296123504638672,
             0.7798019647598267,
             0.7631880044937134
            ],
            [
             -0.024541471153497696,
             -0.013457871973514557,
             -0.08547911792993546,
             -0.007815499790012836,
             0.4289635121822357,
             0.7038006782531738,
             0.6708658337593079,
             0.6826626062393188,
             0.7390631437301636,
             0.73847496509552
            ],
            [
             0.21374177932739258,
             -0.024541471153497696,
             -0.07653435319662094,
             -0.059622641652822495,
             0.2424468994140625,
             0.5150907635688782,
             0.5673202276229858,
             0.5358683466911316,
             0,
             0
            ],
            [
             0.07526735216379166,
             -0.013457871973514557,
             -0.08547911792993546,
             -0.113691046833992,
             0.06015298515558243,
             0.25037235021591187,
             0.3629140555858612,
             0,
             0,
             0
            ],
            [
             -0.13123667240142822,
             -0.18702004849910736,
             -0.15386813879013062,
             -0.0030064343009144068,
             0.06760416179895401,
             0.09056677669286728,
             0,
             0,
             0,
             0
            ],
            [
             0,
             0,
             0,
             0,
             0,
             0.275092750787735,
             0.4143807888031006,
             0.5434579849243164,
             0.6007058620452881,
             0.6340844631195068
            ],
            [
             0,
             0,
             0,
             0,
             0,
             0,
             0.6090571880340576,
             0.6815541982650757,
             0.7031338214874268,
             0.7181442975997925
            ],
            [
             0,
             0,
             0,
             0,
             0,
             0.5829513072967529,
             0.703402042388916,
             0.7250419855117798,
             0.7514662146568298,
             0.7547972798347473
            ],
            [
             -0.16963741183280945,
             -0.07243218272924423,
             0.06760416179895401,
             0.19968879222869873,
             0.32668209075927734,
             0.5498354434967041,
             0.6959582567214966,
             0.7403059005737305,
             0.781133234500885,
             0.7695589065551758
            ]
           ]
          }
         ]
        },
        {
         "data": [
          {
           "type": "heatmap",
           "z": [
            [
             -0.15136483311653137,
             -0.15777625143527985,
             -0.12381474673748016,
             0.15522050857543945,
             0.5597256422042847,
             0.7027487754821777,
             0.6967355608940125,
             0.7311052083969116,
             0.7649270296096802,
             0.7647259831428528
            ],
            [
             -0.09196651726961136,
             -0.10111112892627716,
             -0.1298944503068924,
             0.02949831634759903,
             0.4708039164543152,
             0.6621278524398804,
             0.6778463125228882,
             0.7378519773483276,
             0.7874321937561035,
             0.7713170051574707
            ],
            [
             -0.03709929808974266,
             -0.026294799521565437,
             -0.10111112892627716,
             -0.021180158481001854,
             0.4318868815898895,
             0.7118380069732666,
             0.6791235208511353,
             0.6911513805389404,
             0.747469425201416,
             0.7471344470977783
            ],
            [
             0.21158814430236816,
             -0.03709929808974266,
             -0.09196651726961136,
             -0.07496140152215958,
             0.23801051080226898,
             0.5206119418144226,
             0.5744635462760925,
             0.5424367189407349,
             0,
             0
            ],
            [
             0.0662999227643013,
             -0.026294799521565437,
             -0.10111112892627716,
             -0.1298944503068924,
             0.048988956958055496,
             0.24644553661346436,
             0.36366546154022217,
             0,
             0,
             0
            ],
            [
             -0.14694887399673462,
             -0.20365452766418457,
             -0.17005091905593872,
             -0.015495117753744125,
             0.05715109780430794,
             0.08135052025318146,
             0,
             0,
             0,
             0
            ],
            [
             0,
             0,
             0,
             0,
             0,
             0.2730214297771454,
             0.4167780578136444,
             0.5493694543838501,
             0.6081286072731018,
             0.6422731876373291
            ],
            [
             0,
             0,
             0,
             0,
             0,
             0,
             0.6157421469688416,
             0.6894215941429138,
             0.7113635540008545,
             0.7265337109565735
            ],
            [
             0,
             0,
             0,
             0,
             0,
             0.5895087718963623,
             0.711209774017334,
             0.733130156993866,
             0.7595054507255554,
             0.7628718614578247
            ],
            [
             -0.1864326000213623,
             -0.08700769394636154,
             0.05715109780430794,
             0.19420555233955383,
             0.32647988200187683,
             0.5556542873382568,
             0.7038670778274536,
             0.748408317565918,
             0.788737952709198,
             0.7774404287338257
            ]
           ]
          }
         ]
        },
        {
         "data": [
          {
           "type": "heatmap",
           "z": [
            [
             -0.16845005750656128,
             -0.17494040727615356,
             -0.13945816457271576,
             0.1492426097393036,
             0.5658258199691772,
             0.7104771733283997,
             0.7044571042060852,
             0.7391859292984009,
             0.7728191614151001,
             0.77277672290802
            ],
            [
             -0.10746551305055618,
             -0.11679528653621674,
             -0.14611808955669403,
             0.0188277754932642,
             0.4753299057483673,
             0.6700116395950317,
             0.6858535408973694,
             0.7459521889686584,
             0.7948688268661499,
             0.7792578935623169
            ],
            [
             -0.04976533353328705,
             -0.039207346737384796,
             -0.11679528653621674,
             -0.03458010032773018,
             0.43499091267585754,
             0.7197878360748291,
             0.6873380541801453,
             0.6995810270309448,
             0.7557247281074524,
             0.7556350231170654
            ],
            [
             0.20943206548690796,
             -0.04976533353328705,
             -0.10746551305055618,
             -0.09034354984760284,
             0.23370032012462616,
             0.5263218283653259,
             0.5817523002624512,
             0.5492116808891296,
             0,
             0
            ],
            [
             0.05729329213500023,
             -0.039207346737384796,
             -0.11679528653621674,
             -0.14611808955669403,
             0.03783997893333435,
             0.24270732700824738,
             0.3647022843360901,
             0,
             0,
             0
            ],
            [
             -0.16269364953041077,
             -0.22029562294483185,
             -0.1862543821334839,
             -0.028015417978167534,
             0.04672307148575783,
             0.07221399992704391,
             0,
             0,
             0,
             0
            ],
            [
             0,
             0,
             0,
             0,
             0,
             0.2711252272129059,
             0.41939592361450195,
             0.5554264783859253,
             0.6156289577484131,
             0.6504955291748047
            ],
            [
             0,
             0,
             0,
             0,
             0,
             0,
             0.6224620342254639,
             0.697221040725708,
             0.7194896936416626,
             0.7347968816757202
            ],
            [
             0,
             0,
             0,
             0,
             0,
             0.5961206555366516,
             0.7189098596572876,
             0.7410778999328613,
             0.7673718929290771,
             0.7707695960998535
            ],
            [
             -0.203212171792984,
             -0.10159572213888168,
             0.04672307148575783,
             0.1888517439365387,
             0.3264786899089813,
             0.5615806579589844,
             0.7116833925247192,
             0.7563498020172119,
             0.7961421608924866,
             0.7851285934448242
            ]
           ]
          }
         ]
        },
        {
         "data": [
          {
           "type": "heatmap",
           "z": [
            [
             -0.1855023056268692,
             -0.1920623481273651,
             -0.1550641804933548,
             0.14341990649700165,
             0.5720235109329224,
             0.7181068658828735,
             0.712101936340332,
             0.7471335530281067,
             0.7805331945419312,
             0.7806435823440552
            ],
            [
             -0.12299124151468277,
             -0.1324886530637741,
             -0.16231518983840942,
             0.008207658305764198,
             0.48001953959465027,
             0.677851676940918,
             0.6938035488128662,
             0.7539119720458984,
             0.8021115064620972,
             0.7870093584060669
            ],
            [
             -0.06251576542854309,
             -0.05216110125184059,
             -0.1324886530637741,
             -0.04796981066465378,
             0.4383034110069275,
             0.7276477813720703,
             0.6955098509788513,
             0.7079513072967529,
             0.7638265490531921,
             0.7639734148979187
            ],
            [
             0.20728924870491028,
             -0.06251576542854309,
             -0.12299124151468277,
             -0.10572277754545212,
             0.22956204414367676,
             0.5322404503822327,
             0.5892001390457153,
             0.55621737241745,
             0,
             0
            ],
            [
             0.048279229551553726,
             -0.05216110125184059,
             -0.1324886530637741,
             -0.16231518983840942,
             0.02675781026482582,
             0.23921415209770203,
             0.3660805821418762,
             0,
             0,
             0
            ],
            [
             -0.17843098938465118,
             -0.2369055151939392,
             -0.20243847370147705,
             -0.04052332043647766,
             0.03637145087122917,
             0.0632174164056778,
             0,
             0,
             0,
             0
            ],
            [
             0,
             0,
             0,
             0,
             0,
             0.26945585012435913,
             0.4222782850265503,
             0.5616547465324402,
             0.6232219934463501,
             0.6587606072425842
            ],
            [
             0,
             0,
             0,
             0,
             0,
             0,
             0.6292290687561035,
             0.7049560546875,
             0.7275137901306152,
             0.7429339289665222
            ],
            [
             0,
             0,
             0,
             0,
             0,
             0.6027994155883789,
             0.7265034914016724,
             0.7488850951194763,
             0.7750652432441711,
             0.7784903049468994
            ],
            [
             -0.21992959082126617,
             -0.11614730954170227,
             0.03637145087122917,
             0.18368110060691833,
             0.3267280161380768,
             0.567635178565979,
             0.7194089889526367,
             0.7641298174858093,
             0.8033461570739746,
             0.7926231026649475
            ]
           ]
          }
         ]
        },
        {
         "data": [
          {
           "type": "heatmap",
           "z": [
            [
             -0.20247536897659302,
             -0.20909537374973297,
             -0.17058631777763367,
             0.13780419528484344,
             0.5783323049545288,
             0.7256379127502441,
             0.7196714878082275,
             0.7549469470977783,
             0.7880676984786987,
             0.7883249521255493
            ],
            [
             -0.13850419223308563,
             -0.1481492817401886,
             -0.17844004929065704,
             -0.0023153084330260754,
             0.48489412665367126,
             0.6856484413146973,
             0.7016969323158264,
             0.7617294192314148,
             0.8091593980789185,
             0.7945696115493774
            ],
            [
             -0.07532692700624466,
             -0.06512219458818436,
             -0.1481492817401886,
             -0.06130410358309746,
             0.44185060262680054,
             0.735414445400238,
             0.7036376595497131,
             0.7162604331970215,
             0.7717719078063965,
             0.7721458673477173
            ],
            [
             0.20517446100711823,
             -0.07532692700624466,
             -0.13850419223308563,
             -0.1210532858967781,
             0.22564086318016052,
             0.5383847951889038,
             0.5968172550201416,
             0.5634748935699463,
             0,
             0
            ],
            [
             0.03928908705711365,
             -0.06512219458818436,
             -0.1481492817401886,
             -0.17844004929065704,
             0.015793872997164726,
             0.23602239787578583,
             0.36785510182380676,
             0,
             0,
             0
            ],
            [
             -0.19412213563919067,
             -0.2534472644329071,
             -0.21856437623500824,
             -0.052975576370954514,
             0.026147499680519104,
             0.054420355707407,
             0,
             0,
             0,
             0
            ],
            [
             0,
             0,
             0,
             0,
             0,
             0.26806458830833435,
             0.4254670739173889,
             0.5680770874023438,
             0.6309202909469604,
             0.66707444190979
            ],
            [
             0,
             0,
             0,
             0,
             0,
             0,
             0.6360532641410828,
             0.7126283645629883,
             0.7354358434677124,
             0.7509442567825317
            ],
            [
             0,
             0,
             0,
             0,
             0,
             0.6095556616783142,
             0.7339903712272644,
             0.7565510272979736,
             0.7825844883918762,
             0.7860327959060669
            ],
            [
             -0.23653997480869293,
             -0.13061457872390747,
             0.026147499680519104,
             0.17874731123447418,
             0.3272760808467865,
             0.5738358497619629,
             0.7270446419715881,
             0.7717472910881042,
             0.8103500008583069,
             0.7999235391616821
            ]
           ]
          }
         ]
        },
        {
         "data": [
          {
           "type": "heatmap",
           "z": [
            [
             -0.21932505071163177,
             -0.2259950488805771,
             -0.18598006665706635,
             0.1324460208415985,
             0.5847631096839905,
             0.7330687046051025,
             0.7271653413772583,
             0.7626237869262695,
             0.7954206466674805,
             0.795818567276001
            ],
            [
             -0.15396632254123688,
             -0.1637367159128189,
             -0.19444923102855682,
             -0.012695807963609695,
             0.48997241258621216,
             0.693400502204895,
             0.7095324993133545,
             0.7694013714790344,
             0.8160117268562317,
             0.8019366264343262
            ],
            [
             -0.08817581087350845,
             -0.07805782556533813,
             -0.1637367159128189,
             -0.07453934848308563,
             0.4456556439399719,
             0.7430830001831055,
             0.7117177248001099,
             0.7245044112205505,
             0.7795566916465759,
             0.7801475524902344
            ],
            [
             0.2031014859676361,
             -0.08817581087350845,
             -0.15396632254123688,
             -0.1362912803888321,
             0.2219807654619217,
             0.5447685718536377,
             0.6046100854873657,
             0.5710006356239319,
             0,
             0
            ],
            [
             0.030352922156453133,
             -0.07805782556533813,
             -0.1637367159128189,
             -0.19444923102855682,
             0.0049983742646873,
             0.23318670690059662,
             0.37007737159729004,
             0,
             0,
             0
            ],
            [
             -0.20972999930381775,
             -0.2698858082294464,
             -0.23459476232528687,
             -0.06533030420541763,
             0.016101012006402016,
             0.04588092491030693,
             0,
             0,
             0,
             0
            ],
            [
             0,
             0,
             0,
             0,
             0,
             0.2670001983642578,
             0.4290008246898651,
             0.5747123956680298,
             0.6387322545051575,
             0.6754399538040161
            ],
            [
             0,
             0,
             0,
             0,
             0,
             0,
             0.6429418921470642,
             0.720238208770752,
             0.743254542350769,
             0.7588256597518921
            ],
            [
             0,
             0,
             0,
             0,
             0,
             0.6163967847824097,
             0.7413693070411682,
             0.7640736103057861,
             0.7899277806282043,
             0.7933955192565918
            ],
            [
             -0.2530007064342499,
             -0.14495179057121277,
             0.016101012006402016,
             0.17410239577293396,
             0.3281685411930084,
             0.5801976919174194,
             0.7345892190933228,
             0.7792001962661743,
             0.8171531558036804,
             0.8070288896560669
            ]
           ]
          }
         ]
        },
        {
         "data": [
          {
           "type": "heatmap",
           "z": [
            [
             -0.2360103726387024,
             -0.2427198737859726,
             -0.201203852891922,
             0.12739288806915283,
             0.5913234353065491,
             0.7403967976570129,
             0.7345818877220154,
             0.7701606750488281,
             0.8025896549224854,
             0.8031218647956848
            ],
            [
             -0.16934162378311157,
             -0.17921291291713715,
             -0.2103019654750824,
             -0.02289106883108616,
             0.4952693283557892,
             0.7011047601699829,
             0.7173072099685669,
             0.7769241333007812,
             0.8226673603057861,
             0.8091079592704773
            ],
            [
             -0.10103993117809296,
             -0.09093695878982544,
             -0.17921291291713715,
             -0.0876341387629509,
             0.44973838329315186,
             0.7506478428840637,
             0.7197449803352356,
             0.7326774597167969,
             0.7871761918067932,
             0.7879732847213745
            ],
            [
             0.20108260214328766,
             -0.10103993117809296,
             -0.16934162378311157,
             -0.15139508247375488,
             0.21862316131591797,
             0.5514011383056641,
             0.6125806570053101,
             0.5788050889968872,
             0,
             0
            ],
            [
             0.02149912156164646,
             -0.09093695878982544,
             -0.17921291291713715,
             -0.2103019654750824,
             -0.005580754950642586,
             0.23075905442237854,
             0.37279459834098816,
             0,
             0,
             0
            ],
            [
             -0.22521957755088806,
             -0.2861880958080292,
             -0.25049495697021484,
             -0.07754803448915482,
             0.006279356312006712,
             0.03765453025698662,
             0,
             0,
             0,
             0
            ],
            [
             0,
             0,
             0,
             0,
             0,
             0.26630866527557373,
             0.4329136908054352,
             0.5815750360488892,
             0.646662712097168,
             0.6838563680648804
            ],
            [
             0,
             0,
             0,
             0,
             0,
             0,
             0.6498996019363403,
             0.7277840375900269,
             0.7509669661521912,
             0.7665746212005615
            ],
            [
             0,
             0,
             0,
             0,
             0,
             0.6233278512954712,
             0.7486380338668823,
             0.7714502811431885,
             0.797092854976654,
             0.8005763292312622
            ],
            [
             -0.26927241683006287,
             -0.15911580622196198,
             0.006279356312006712,
             0.16979612410068512,
             0.3294476866722107,
             0.5867316126823425,
             0.7420405149459839,
             0.7864859104156494,
             0.8237555027008057,
             0.8139380216598511
            ]
           ]
          }
         ]
        },
        {
         "data": [
          {
           "type": "heatmap",
           "z": [
            [
             -0.2524935305118561,
             -0.2592321038246155,
             -0.21621964871883392,
             0.12268888205289841,
             0.5980172157287598,
             0.7476184964179993,
             0.741917610168457,
             0.7775535583496094,
             0.8095719814300537,
             0.8102318048477173
            ],
            [
             -0.1845967173576355,
             -0.19454266130924225,
             -0.22596071660518646,
             -0.03286164626479149,
             0.5007959604263306,
             0.7087560892105103,
             0.7250163555145264,
             0.7842929363250732,
             0.829125165939331,
             0.8160808682441711
            ],
            [
             -0.11389821767807007,
             -0.10373064875602722,
             -0.19454266130924225,
             -0.10055012255907059,
             0.4541145861148834,
             0.7581022381782532,
             0.7277120351791382,
             0.7407718896865845,
             0.7946249842643738,
             0.7956171035766602
            ],
            [
             0.19912858307361603,
             -0.11389821767807007,
             -0.1845967173576355,
             -0.1663263738155365,
             0.21560603380203247,
             0.5582871437072754,
             0.620726466178894,
             0.5868927240371704,
             0,
             0
            ],
            [
             0.012753748334944248,
             -0.10373064875602722,
             -0.19454266130924225,
             -0.22596071660518646,
             -0.015899019315838814,
             0.2287874072790146,
             0.3760480284690857,
             0,
             0,
             0
            ],
            [
             -0.240558922290802,
             -0.30232375860214233,
             -0.26623284816741943,
             -0.08959218114614487,
             -0.0032732817344367504,
             0.029792549088597298,
             0,
             0,
             0,
             0
            ],
            [
             0,
             0,
             0,
             0,
             0,
             0.2660314738750458,
             0.43723419308662415,
             0.5886743068695068,
             0.6547114849090576,
             0.6923187971115112
            ],
            [
             0,
             0,
             0,
             0,
             0,
             0,
             0.6569274663925171,
             0.7352620363235474,
             0.7585685849189758,
             0.7741864919662476
            ],
            [
             0,
             0,
             0,
             0,
             0,
             0.6303502321243286,
             0.7557930946350098,
             0.7786773443222046,
             0.8040772676467896,
             0.8075727224349976
            ],
            [
             -0.28531914949417114,
             -0.17306698858737946,
             -0.0032732817344367504,
             0.1658743917942047,
             0.33115071058273315,
             0.5934447050094604,
             0.7493947148323059,
             0.793601393699646,
             0.8301563262939453,
             0.8206495046615601
            ]
           ]
          }
         ]
        },
        {
         "data": [
          {
           "type": "heatmap",
           "z": [
            [
             -0.2687409818172455,
             -0.27549803256988525,
             -0.23099330067634583,
             0.11837326735258102,
             0.6048450469970703,
             0.754729151725769,
             0.7491674423217773,
             0.784797191619873,
             0.8163645267486572,
             0.8171449303627014
            ],
            [
             -0.19970126450061798,
             -0.20969440042972565,
             -0.24139244854450226,
             -0.04257204011082649,
             0.5065590143203735,
             0.7163479328155518,
             0.7326531410217285,
             0.7915027141571045,
             0.8353840112686157,
             0.8228525519371033
            ],
            [
             -0.12673093378543854,
             -0.1164129227399826,
             -0.20969440042972565,
             -0.11325283348560333,
             0.4587951898574829,
             0.7654386162757874,
             0.735609769821167,
             0.748778223991394,
             0.8018972277641296,
             0.8030726909637451
            ],
            [
             0.1972481608390808,
             -0.12673093378543854,
             -0.19970126450061798,
             -0.18105046451091766,
             0.21296334266662598,
             0.5654263496398926,
             0.6290397047996521,
             0.5952613353729248,
             0,
             0
            ],
            [
             0.00414011487737298,
             -0.1164129227399826,
             -0.20969440042972565,
             -0.24139244854450226,
             -0.025915779173374176,
             0.22731465101242065,
             0.3798716068267822,
             0,
             0,
             0
            ],
            [
             -0.25571897625923157,
             -0.318265438079834,
             -0.2817797064781189,
             -0.1014300137758255,
             -0.012517066672444344,
             0.02234160155057907,
             0,
             0,
             0,
             0
            ],
            [
             0,
             0,
             0,
             0,
             0,
             0.2662046551704407,
             0.44198429584503174,
             0.5960131287574768,
             0.6628739237785339,
             0.7008181810379028
            ],
            [
             0,
             0,
             0,
             0,
             0,
             0,
             0.6640235781669617,
             0.7426667809486389,
             0.7660536766052246,
             0.7816556096076965
            ],
            [
             0,
             0,
             0,
             0,
             0,
             0.63746178150177,
             0.7628301382064819,
             0.7857507467269897,
             0.8108779191970825,
             0.8143817186355591
            ],
            [
             -0.3011091947555542,
             -0.18677008152008057,
             -0.012517066672444344,
             0.16237862408161163,
             0.3333092927932739,
             0.6003391742706299,
             0.7566466927528381,
             0.8005430698394775,
             0.8363553881645203,
             0.8271616101264954
            ]
           ]
          }
         ]
        },
        {
         "data": [
          {
           "type": "heatmap",
           "z": [
            [
             -0.2847234010696411,
             -0.291488379240036,
             -0.24549564719200134,
             0.11448021978139877,
             0.6118028163909912,
             0.7617233395576477,
             0.7563250064849854,
             0.7918859124183655,
             0.8229641914367676,
             0.8238581418991089
            ],
            [
             -0.2146283984184265,
             -0.2246401160955429,
             -0.2565678656101227,
             -0.05199124291539192,
             0.5125601887702942,
             0.7238719463348389,
             0.7402092814445496,
             0.7985475063323975,
             0.841442883014679,
             0.8294202089309692
            ],
            [
             -0.1395200788974762,
             -0.12896068394184113,
             -0.2246401160955429,
             -0.1257118135690689,
             0.4637860953807831,
             0.7726488709449768,
             0.7434273958206177,
             0.7566854357719421,
             0.8089869618415833,
             0.8103334903717041
            ],
            [
             0.1954481452703476,
             -0.1395200788974762,
             -0.2146283984184265,
             -0.19553710520267487,
             0.21072392165660858,
             0.5728126764297485,
             0.6375077962875366,
             0.6039012670516968,
             0,
             0
            ],
            [
             -0.004321667365729809,
             -0.12896068394184113,
             -0.2246401160955429,
             -0.2565678656101227,
             -0.0355953611433506,
             0.22637741267681122,
             0.3842911720275879,
             0,
             0,
             0
            ],
            [
             -0.27067431807518005,
             -0.3339887261390686,
             -0.297110378742218,
             -0.11303283274173737,
             -0.021416831761598587,
             0.015342879109084606,
             0,
             0,
             0,
             0
            ],
            [
             0,
             0,
             0,
             0,
             0,
             0.26685822010040283,
             0.44717907905578613,
             0.6035887598991394,
             0.6711400747299194,
             0.7093418836593628
            ],
            [
             0,
             0,
             0,
             0,
             0,
             0,
             0.6711826324462891,
             0.7499912977218628,
             0.773415207862854,
             0.7889751195907593
            ],
            [
             0,
             0,
             0,
             0,
             0,
             0.6446572542190552,
             0.7697440981864929,
             0.7926657199859619,
             0.8174917101860046,
             0.8210002183914185
            ],
            [
             -0.31661510467529297,
             -0.20019415020942688,
             -0.021416831761598587,
             0.15934470295906067,
             0.33594822883605957,
             0.6074126362800598,
             0.7637903094291687,
             0.8073071241378784,
             0.8423522710800171,
             0.8334729075431824
            ]
           ]
          }
         ]
        },
        {
         "data": [
          {
           "type": "heatmap",
           "z": [
            [
             -0.3004160225391388,
             -0.3071784973144531,
             -0.25970157980918884,
             0.11103813350200653,
             0.6188833713531494,
             0.7685947418212891,
             0.7633827328681946,
             0.7988134622573853,
             0.8293679356575012,
             0.8303679823875427
            ],
            [
             -0.22935500741004944,
             -0.23935598134994507,
             -0.27146241068840027,
             -0.06109320744872093,
             0.5187969207763672,
             0.7313185930252075,
             0.7476754188537598,
             0.8054214119911194,
             0.8473010659217834,
             0.8357810974121094
            ],
            [
             -0.15224944055080414,
             -0.14135408401489258,
             -0.23935598134994507,
             -0.1379014104604721,
             0.4690881669521332,
             0.7797243595123291,
             0.7511531114578247,
             0.7644813060760498,
             0.815887987613678,
             0.8173931837081909
            ],
            [
             0.19373315572738647,
             -0.15224944055080414,
             -0.22935500741004944,
             -0.20976033806800842,
             0.20891129970550537,
             0.5804354548454285,
             0.6461136341094971,
             0.612796425819397,
             0,
             0
            ],
            [
             -0.012614876963198185,
             -0.14135408401489258,
             -0.23935598134994507,
             -0.27146241068840027,
             -0.04490725323557854,
             0.22600586712360382,
             0.3893236815929413,
             0,
             0,
             0
            ],
            [
             -0.2854030728340149,
             -0.3494728207588196,
             -0.31220290064811707,
             -0.12437645345926285,
             -0.029942678287625313,
             0.00883150938898325,
             0,
             0,
             0,
             0
            ],
            [
             0,
             0,
             0,
             0,
             0,
             0.26801562309265137,
             0.4528258144855499,
             0.6113921999931335,
             0.6794959306716919,
             0.7178731560707092
            ],
            [
             0,
             0,
             0,
             0,
             0,
             0,
             0.6783960461616516,
             0.7572271823883057,
             0.7806452512741089,
             0.796137809753418
            ],
            [
             0,
             0,
             0,
             0,
             0,
             0.6519279479980469,
             0.7765291333198547,
             0.7994173765182495,
             0.8239156007766724,
             0.8274252414703369
            ],
            [
             -0.33181366324424744,
             -0.2133132517337799,
             -0.029942678287625313,
             0.15680266916751862,
             0.33908578753471375,
             0.6146578192710876,
             0.7708182334899902,
             0.8138896822929382,
             0.8481468558311462,
             0.8395820260047913
            ]
           ]
          }
         ]
        },
        {
         "data": [
          {
           "type": "heatmap",
           "z": [
            [
             -0.315798819065094,
             -0.3225483298301697,
             -0.2735912799835205,
             0.10806924104690552,
             0.6260753870010376,
             0.775336742401123,
             0.7703320980072021,
             0.8055737018585205,
             0.8355727791786194,
             0.8366714119911194
            ],
            [
             -0.2438616305589676,
             -0.25382235646247864,
             -0.2860563099384308,
             -0.0698571503162384,
             0.5252614617347717,
             0.7386772632598877,
             0.7550408840179443,
             0.8121182918548584,
             0.8529580235481262,
             0.8419331908226013
            ],
            [
             -0.1649048924446106,
             -0.15357667207717896,
             -0.25382235646247864,
             -0.14980067312717438,
             0.47469666600227356,
             0.7866562604904175,
             0.7587738633155823,
             0.7721527814865112,
             0.822594404220581,
             0.8242455124855042
            ],
            [
             0.19210568070411682,
             -0.1649048924446106,
             -0.2438616305589676,
             -0.22369906306266785,
             0.20754316449165344,
             0.5882786512374878,
             0.6548356413841248,
             0.6219238042831421,
             0,
             0
            ],
            [
             -0.02072634920477867,
             -0.15357667207717896,
             -0.25382235646247864,
             -0.2860563099384308,
             -0.053826458752155304,
             0.22622288763523102,
             0.394976943731308,
             0,
             0,
             0
            ],
            [
             -0.29988721013069153,
             -0.36469992995262146,
             -0.327039510011673,
             -0.13544128835201263,
             -0.03807039186358452,
             0.0028359515126794577,
             0,
             0,
             0,
             0
            ],
            [
             0,
             0,
             0,
             0,
             0,
             0.2696928381919861,
             0.4589240550994873,
             0.6194086074829102,
             0.6879227757453918,
             0.7263924479484558
            ],
            [
             0,
             0,
             0,
             0,
             0,
             0,
             0.6856522560119629,
             0.7643647193908691,
             0.7877353429794312,
             0.803135871887207
            ],
            [
             0,
             0,
             0,
             0,
             0,
             0.6592620015144348,
             0.7831791043281555,
             0.8060005903244019,
             0.8301467895507812,
             0.8336538076400757
            ],
            [
             -0.3466866910457611,
             -0.2261066436767578,
             -0.03807039186358452,
             0.15477579832077026,
             0.34273219108581543,
             0.6220629215240479,
             0.7777225375175476,
             0.8202869892120361,
             0.8537394404411316,
             0.8454877138137817
            ]
           ]
          }
         ]
        },
        {
         "data": [
          {
           "type": "heatmap",
           "z": [
            [
             -0.330856055021286,
             -0.33758261799812317,
             -0.2871495485305786,
             0.10558934509754181,
             0.6333647966384888,
             0.7819422483444214,
             0.7771639823913574,
             0.8121601939201355,
             0.841576337814331,
             0.8427659273147583
            ],
            [
             -0.258132666349411,
             -0.26802363991737366,
             -0.30033421516418457,
             -0.07826749235391617,
             0.5319417715072632,
             0.7459362745285034,
             0.762294352054596,
             0.8186325430870056,
             0.8584137558937073,
             0.8478745222091675
            ],
            [
             -0.1774739921092987,
             -0.16561581194400787,
             -0.26802363991737366,
             -0.16139347851276398,
             0.48060211539268494,
             0.7934359312057495,
             0.7662762403488159,
             0.7796865105628967,
             0.8291006088256836,
             0.8308848738670349
            ],
            [
             0.19056598842144012,
             -0.1774739921092987,
             -0.258132666349411,
             -0.23733669519424438,
             0.20663118362426758,
             0.5963218212127686,
             0.6636487245559692,
             0.6312549114227295,
             0,
             0
            ],
            [
             -0.02864663116633892,
             -0.16561581194400787,
             -0.26802363991737366,
             -0.30033421516418457,
             -0.06233377009630203,
             0.22704388201236725,
             0.4012490212917328,
             0,
             0,
             0
            ],
            [
             -0.31411242485046387,
             -0.37965548038482666,
             -0.3416058123111725,
             -0.14621268212795258,
             -0.04578140005469322,
             -0.0026218085549771786,
             0,
             0,
             0,
             0
            ],
            [
             0,
             0,
             0,
             0,
             0,
             0.27189889550209045,
             0.4654656946659088,
             0.6276174783706665,
             0.6963986158370972,
             0.7348775863647461
            ],
            [
             0,
             0,
             0,
             0,
             0,
             0,
             0.692937433719635,
             0.7713934779167175,
             0.7946763634681702,
             0.8099614381790161
            ],
            [
             0,
             0,
             0,
             0,
             0,
             0.666644811630249,
             0.7896873950958252,
             0.8124101161956787,
             0.8361823558807373,
             0.8396832942962646
            ],
            [
             -0.3612198829650879,
             -0.2385581135749817,
             -0.04578140005469322,
             0.15328101813793182,
             0.34689027070999146,
             0.6296118497848511,
             0.7844948768615723,
             0.8264954090118408,
             0.8591304421424866,
             0.851189374923706
            ]
           ]
          }
         ]
        },
        {
         "data": [
          {
           "type": "heatmap",
           "z": [
            [
             -0.34557628631591797,
             -0.35227012634277344,
             -0.30036550760269165,
             0.10360806435346603,
             0.640734076499939,
             0.7884042263031006,
             0.7838688492774963,
             0.8185667991638184,
             0.8473765254020691,
             0.8486493229866028
            ],
            [
             -0.27215611934661865,
             -0.28194817900657654,
             -0.3142849802970886,
             -0.08631382882595062,
             0.5388214588165283,
             0.7530839443206787,
             0.7694240808486938,
             0.8249584436416626,
             0.8636686205863953,
             0.853603720664978
            ],
            [
             -0.18994644284248352,
             -0.17746174335479736,
             -0.28194817900657654,
             -0.1726682335138321,
             0.4867900311946869,
             0.8000549077987671,
             0.7736464142799377,
             0.7870689630508423,
             0.8354016542434692,
             0.8373062610626221
            ],
            [
             0.18911224603652954,
             -0.18994644284248352,
             -0.27215611934661865,
             -0.25066113471984863,
             0.20618128776550293,
             0.6045403480529785,
             0.6725248098373413,
             0.6407558917999268,
             0,
             0
            ],
            [
             -0.03636981546878815,
             -0.17746174335479736,
             -0.28194817900657654,
             -0.3142849802970886,
             -0.0704154446721077,
             0.22847692668437958,
             0.4081287980079651,
             0,
             0,
             0
            ],
            [
             -0.32806774973869324,
             -0.39432844519615173,
             -0.35589078068733215,
             -0.1566803753376007,
             -0.05306291952729225,
             -0.0075263152830302715,
             0,
             0,
             0,
             0
            ],
            [
             0,
             0,
             0,
             0,
             0,
             0.27463528513908386,
             0.47243502736091614,
             0.6359938383102417,
             0.7048983573913574,
             0.7433047890663147
            ],
            [
             0,
             0,
             0,
             0,
             0,
             0,
             0.7002350091934204,
             0.7783023715019226,
             0.8014591932296753,
             0.816606879234314
            ],
            [
             0,
             0,
             0,
             0,
             0,
             0.6740596294403076,
             0.7960474491119385,
             0.8186413645744324,
             0.8420202136039734,
             0.8455114960670471
            ],
            [
             -0.3754034638404846,
             -0.25065672397613525,
             -0.05306291952729225,
             0.15232834219932556,
             0.3515554964542389,
             0.6372849941253662,
             0.7911266088485718,
             0.8325117230415344,
             0.8643209338188171,
             0.856686532497406
            ]
           ]
          }
         ]
        },
        {
         "data": [
          {
           "type": "heatmap",
           "z": [
            [
             -0.35995230078697205,
             -0.366603821516037,
             -0.3132331073284149,
             0.1021287739276886,
             0.6481636762619019,
             0.7947156429290771,
             0.7904369831085205,
             0.8247880339622498,
             0.8529720306396484,
             0.8543204665184021
            ],
            [
             -0.28592339158058167,
             -0.29558810591697693,
             -0.32790204882621765,
             -0.09399081766605377,
             0.5458806753158569,
             0.7601084113121033,
             0.7764183282852173,
             0.8310912847518921,
             0.8687236309051514,
             0.8591204881668091
            ],
            [
             -0.20231381058692932,
             -0.18910819292068481,
             -0.29558810591697693,
             -0.18361850082874298,
             0.49324166774749756,
             0.8065054416656494,
             0.7808710932731628,
             0.7942871451377869,
             0.8414934873580933,
             0.8435056805610657
            ],
            [
             0.18774063885211945,
             -0.20231381058692932,
             -0.28592339158058167,
             -0.2636648118495941,
             0.20619362592697144,
             0.6129065752029419,
             0.6814336776733398,
             0.6503889560699463,
             0,
             0
            ],
            [
             -0.0438934862613678,
             -0.18910819292068481,
             -0.29558810591697693,
             -0.32790204882621765,
             -0.0780634805560112,
             0.23052270710468292,
             0.4155963063240051,
             0,
             0,
             0
            ],
            [
             -0.3417457938194275,
             -0.4087103307247162,
             -0.3698869049549103,
             -0.16683870553970337,
             -0.059907469898462296,
             -0.011868709698319435,
             0,
             0,
             0,
             0
            ],
            [
             0,
             0,
             0,
             0,
             0,
             0.27789661288261414,
             0.4798097014427185,
             0.6445086002349854,
             0.7133947610855103,
             0.7516490817070007
            ],
            [
             0,
             0,
             0,
             0,
             0,
             0,
             0.707527220249176,
             0.7850803732872009,
             0.8080750703811646,
             0.8230648040771484
            ],
            [
             0,
             0,
             0,
             0,
             0,
             0.6814876198768616,
             0.802253007888794,
             0.8246896862983704,
             0.8476587533950806,
             0.8511369228363037
            ],
            [
             -0.38923123478889465,
             -0.26239603757858276,
             -0.059907469898462296,
             0.15192124247550964,
             0.3567160367965698,
             0.64505934715271,
             0.7976092100143433,
             0.8383333086967468,
             0.8693124055862427,
             0.861979603767395
            ]
           ]
          }
         ]
        },
        {
         "data": [
          {
           "type": "heatmap",
           "z": [
            [
             -0.37398040294647217,
             -0.38058075308799744,
             -0.3257496654987335,
             0.10114891827106476,
             0.6556320190429688,
             0.8008700013160706,
             0.7968590259552002,
             0.8308188915252686,
             0.858362078666687,
             0.8597785234451294
            ],
            [
             -0.29942911863327026,
             -0.3089390993118286,
             -0.3411819338798523,
             -0.10129787027835846,
             0.5530964732170105,
             0.7669976949691772,
             0.7832655310630798,
             0.837026834487915,
             0.8735803365707397,
             0.8644247055053711
            ],
            [
             -0.21456924080848694,
             -0.2005518227815628,
             -0.3089390993118286,
             -0.19424137473106384,
             0.49993443489074707,
             0.8127802014350891,
             0.787937343120575,
             0.8013285398483276,
             0.8473727703094482,
             0.8494800329208374
            ],
            [
             0.18644548952579498,
             -0.21456924080848694,
             -0.29942911863327026,
             -0.27634397149086,
             0.20666275918483734,
             0.6213899850845337,
             0.6903438568115234,
             0.6601134538650513,
             0,
             0
            ],
            [
             -0.05121832713484764,
             -0.2005518227815628,
             -0.3089390993118286,
             -0.3411819338798523,
             -0.08527474105358124,
             0.23317472636699677,
             0.42362314462661743,
             0,
             0,
             0
            ],
            [
             -0.3551419973373413,
             -0.4227955639362335,
             -0.38358983397483826,
             -0.17668601870536804,
             -0.06631312519311905,
             -0.01564623787999153,
             0,
             0,
             0,
             0
            ],
            [
             0,
             0,
             0,
             0,
             0,
             0.2816706597805023,
             0.48756110668182373,
             0.6531292200088501,
             0.7218592166900635,
             0.7598854899406433
            ],
            [
             0,
             0,
             0,
             0,
             0,
             0,
             0.7147948741912842,
             0.7917163968086243,
             0.8145157694816589,
             0.8293288350105286
            ],
            [
             0,
             0,
             0,
             0,
             0,
             0.6889088153839111,
             0.8082979321479797,
             0.8305513858795166,
             0.8530969023704529,
             0.856558620929718
            ],
            [
             -0.4027010500431061,
             -0.27377381920814514,
             -0.06631312519311905,
             0.1520570069551468,
             0.36235326528549194,
             0.652909517288208,
             0.8039345741271973,
             0.8439580202102661,
             0.8741068840026855,
             0.8670692443847656
            ]
           ]
          }
         ]
        },
        {
         "data": [
          {
           "type": "heatmap",
           "z": [
            [
             -0.38766029477119446,
             -0.3942006826400757,
             -0.33791664242744446,
             0.10066015273332596,
             0.6631160974502563,
             0.8068610429763794,
             0.8031259179115295,
             0.8366550207138062,
             0.8635468482971191,
             0.8650237321853638
            ],
            [
             -0.3126707673072815,
             -0.32199981808662415,
             -0.35412532091140747,
             -0.10823903232812881,
             0.5604430437088013,
             0.7737404704093933,
             0.7899547815322876,
             0.8427618145942688,
             0.8782408237457275,
             0.8695175051689148
            ],
            [
             -0.22670745849609375,
             -0.21179209649562836,
             -0.32199981808662415,
             -0.2045384794473648,
             0.5068424940109253,
             0.8188729882240295,
             0.7948330044746399,
             0.8081820011138916,
             0.8530372381210327,
             0.8552275896072388
            ],
            [
             0.1852194368839264,
             -0.22670745849609375,
             -0.3126707673072815,
             -0.28869861364364624,
             0.2075781375169754,
             0.6299583911895752,
             0.6992233991622925,
             0.6698870658874512,
             0,
             0
            ],
            [
             -0.05834825709462166,
             -0.21179209649562836,
             -0.32199981808662415,
             -0.35412532091140747,
             -0.09205149114131927,
             0.2364199161529541,
             0.4321734607219696,
             0,
             0,
             0
            ],
            [
             -0.36825475096702576,
             -0.43658092617988586,
             -0.39699724316596985,
             -0.1862248182296753,
             -0.07228272408246994,
             -0.018862126395106316,
             0,
             0,
             0,
             0
            ],
            [
             0,
             0,
             0,
             0,
             0,
             0.2859387993812561,
             0.4956550896167755,
             0.6618214845657349,
             0.7302629947662354,
             0.7679891586303711
            ],
            [
             0,
             0,
             0,
             0,
             0,
             0,
             0.7220181226730347,
             0.7981997728347778,
             0.8207734227180481,
             0.8353932499885559
            ],
            [
             0,
             0,
             0,
             0,
             0,
             0.6963021755218506,
             0.814176619052887,
             0.8362231254577637,
             0.8583343625068665,
             0.8617763519287109
            ],
            [
             -0.4158136248588562,
             -0.2847919464111328,
             -0.07228272408246994,
             0.15272663533687592,
             0.3684423565864563,
             0.6608084440231323,
             0.8100947737693787,
             0.8493845462799072,
             0.878706693649292,
             0.8719571232795715
            ]
           ]
          }
         ]
        },
        {
         "data": [
          {
           "type": "heatmap",
           "z": [
            [
             -0.4009943902492523,
             -0.40746670961380005,
             -0.3497386574745178,
             0.10064906626939774,
             0.670592725276947,
             0.8126832246780396,
             0.8092294931411743,
             0.8422932624816895,
             0.8685269951820374,
             0.870057225227356
            ],
            [
             -0.325648695230484,
             -0.334771990776062,
             -0.3667353093624115,
             -0.11482219398021698,
             0.5678930282592773,
             0.7803263664245605,
             0.7964760065078735,
             0.8482937812805176,
             0.8827077746391296,
             0.8744006156921387
            ],
            [
             -0.2387247532606125,
             -0.22283074259757996,
             -0.334771990776062,
             -0.2145148366689682,
             0.5139375329017639,
             0.8247785568237305,
             0.8015471696853638,
             0.8148372769355774,
             0.8584856986999512,
             0.8607473969459534
            ],
            [
             0.1840537041425705,
             -0.2387247532606125,
             -0.325648695230484,
             -0.30073195695877075,
             0.2089245468378067,
             0.6385786533355713,
             0.7080405950546265,
             0.6796665191650391,
             0,
             0
            ],
            [
             -0.06528984755277634,
             -0.22283074259757996,
             -0.334771990776062,
             -0.3667353093624115,
             -0.09840031713247299,
             0.24023884534835815,
             0.4412047564983368,
             0,
             0,
             0
            ],
            [
             -0.3810851573944092,
             -0.4500654637813568,
             -0.41011014580726624,
             -0.19546082615852356,
             -0.0778239518404007,
             -0.021525202319025993,
             0,
             0,
             0,
             0
            ],
            [
             0,
             0,
             0,
             0,
             0,
             0.2906767725944519,
             0.5040532350540161,
             0.6705495119094849,
             0.7385771870613098,
             0.7759369015693665
            ],
            [
             0,
             0,
             0,
             0,
             0,
             0,
             0.7291771173477173,
             0.8045207858085632,
             0.8268414735794067,
             0.8412532806396484
            ],
            [
             0,
             0,
             0,
             0,
             0,
             0.7036468982696533,
             0.819884181022644,
             0.8417025208473206,
             0.8633713722229004,
             0.866790771484375
            ],
            [
             -0.4285725951194763,
             -0.29545584321022034,
             -0.0778239518404007,
             0.15391570329666138,
             0.374953031539917,
             0.6687278747558594,
             0.8160830140113831,
             0.8546122908592224,
             0.8831149935722351,
             0.8766452670097351
            ]
           ]
          }
         ]
        },
        {
         "data": [
          {
           "type": "heatmap",
           "z": [
            [
             -0.4139879643917084,
             -0.4203844964504242,
             -0.36122292280197144,
             0.10109753161668777,
             0.6780380010604858,
             0.8183318972587585,
             0.8151621222496033,
             0.8477311134338379,
             0.8733042478561401,
             0.874880850315094
            ],
            [
             -0.33836495876312256,
             -0.3472592532634735,
             -0.3790181577205658,
             -0.12105899304151535,
             0.5754176378250122,
             0.7867454290390015,
             0.8028199672698975,
             0.8536215424537659,
             0.8869844675064087,
             0.8790765404701233
            ],
            [
             -0.2506185472011566,
             -0.23367175459861755,
             -0.3472592532634735,
             -0.2241785228252411,
             0.521189272403717,
             0.8304926156997681,
             0.808070182800293,
             0.8212858438491821,
             0.8637179732322693,
             0.866040050983429
            ],
            [
             0.18293844163417816,
             -0.2506185472011566,
             -0.33836495876312256,
             -0.3124501705169678,
             0.21068260073661804,
             0.6472172737121582,
             0.7167646288871765,
             0.6894094944000244,
             0,
             0
            ],
            [
             -0.07205187529325485,
             -0.23367175459861755,
             -0.3472592532634735,
             -0.3790181577205658,
             -0.10433175414800644,
             0.24460667371749878,
             0.4506692588329315,
             0,
             0,
             0
            ],
            [
             -0.3936358392238617,
             -0.46324992179870605,
             -0.42293068766593933,
             -0.20440301299095154,
             -0.08294837921857834,
             -0.023649200797080994,
             0,
             0,
             0,
             0
            ],
            [
             0,
             0,
             0,
             0,
             0,
             0.2958555221557617,
             0.5127135515213013,
             0.6792774200439453,
             0.7467743158340454,
             0.7837067246437073
            ],
            [
             0,
             0,
             0,
             0,
             0,
             0,
             0.7362521886825562,
             0.8106704950332642,
             0.8327142000198364,
             0.8469054698944092
            ],
            [
             0,
             0,
             0,
             0,
             0,
             0.7109217643737793,
             0.8254164457321167,
             0.8469879627227783,
             0.8682093024253845,
             0.8716031312942505
            ],
            [
             -0.44098415970802307,
             -0.30577391386032104,
             -0.08294837921857834,
             0.15560461580753326,
             0.3818504810333252,
             0.6766393184661865,
             0.8218932151794434,
             0.8596413731575012,
             0.8873352408409119,
             0.881136417388916
            ]
           ]
          }
         ]
        },
        {
         "data": [
          {
           "type": "heatmap",
           "z": [
            [
             -0.4266479015350342,
             -0.4329613447189331,
             -0.37237903475761414,
             0.10198328644037247,
             0.6854289174079895,
             0.823803186416626,
             0.8209177255630493,
             0.8529675006866455,
             0.8778809905052185,
             0.8794973492622375
            ],
            [
             -0.35082367062568665,
             -0.35946759581565857,
             -0.39098164439201355,
             -0.12696421146392822,
             0.5829876661300659,
             0.7929893732070923,
             0.808978796005249,
             0.8587445616722107,
             0.8910746574401855,
             0.8835486173629761
            ],
            [
             -0.262387216091156,
             -0.24432067573070526,
             -0.35946759581565857,
             -0.2335403859615326,
             0.5285661816596985,
             0.8360121846199036,
             0.8143940567970276,
             0.8275208473205566,
             0.868735134601593,
             0.8711072206497192
            ],
            [
             0.18186277151107788,
             -0.262387216091156,
             -0.35082367062568665,
             -0.323861688375473,
             0.21282914280891418,
             0.6558411121368408,
             0.7253667116165161,
             0.6990746259689331,
             0,
             0
            ],
            [
             -0.07864517718553543,
             -0.24432067573070526,
             -0.35946759581565857,
             -0.39098164439201355,
             -0.10986028611660004,
             0.24949346482753754,
             0.4605146050453186,
             0,
             0,
             0
            ],
            [
             -0.40591171383857727,
             -0.47613662481307983,
             -0.4354632794857025,
             -0.21306271851062775,
             -0.08767127990722656,
             -0.02525242604315281,
             0,
             0,
             0,
             0
            ],
            [
             0,
             0,
             0,
             0,
             0,
             0.3014416992664337,
             0.5215919613838196,
             0.6879695653915405,
             0.7548283934593201,
             0.7912793159484863
            ],
            [
             0,
             0,
             0,
             0,
             0,
             0,
             0.7432246208190918,
             0.8166412115097046,
             0.8383873701095581,
             0.8523476123809814
            ],
            [
             0,
             0,
             0,
             0,
             0,
             0.7181068658828735,
             0.8307702541351318,
             0.8520786762237549,
             0.8728499412536621,
             0.8762156963348389
            ],
            [
             -0.4530564546585083,
             -0.3157573938369751,
             -0.08767127990722656,
             0.15776953101158142,
             0.3890959918498993,
             0.6845146417617798,
             0.8275203704833984,
             0.8644727468490601,
             0.891371488571167,
             0.8854341506958008
            ]
           ]
          }
         ]
        },
        {
         "data": [
          {
           "type": "heatmap",
           "z": [
            [
             -0.43898287415504456,
             -0.4452066421508789,
             -0.3832186162471771,
             0.10328055173158646,
             0.6927428245544434,
             0.8290942311286926,
             0.8264908194541931,
             0.8580019474029541,
             0.8822604417800903,
             0.8839102387428284
            ],
            [
             -0.36303040385246277,
             -0.37140458822250366,
             -0.402635782957077,
             -0.13255509734153748,
             0.5905739068984985,
             0.7990509271621704,
             0.8149460554122925,
             0.8636634349822998,
             0.8949827551841736,
             0.887820839881897
            ],
            [
             -0.2740299701690674,
             -0.25478455424308777,
             -0.37140458822250366,
             -0.24261344969272614,
             0.536036491394043,
             0.8413352966308594,
             0.8205121159553528,
             0.8335367441177368,
             0.8735392093658447,
             0.8759514689445496
            ],
            [
             0.18081524968147278,
             -0.2740299701690674,
             -0.36303040385246277,
             -0.3349769413471222,
             0.21533823013305664,
             0.6644184589385986,
             0.7338199615478516,
             0.7086232900619507,
             0,
             0
            ],
            [
             -0.08508207648992538,
             -0.25478455424308777,
             -0.37140458822250366,
             -0.402635782957077,
             -0.11500320583581924,
             0.25486528873443604,
             0.4706858992576599,
             0,
             0,
             0
            ],
            [
             -0.4179185926914215,
             -0.48872897028923035,
             -0.44771328568458557,
             -0.22145363688468933,
             -0.09201113879680634,
             -0.026356924325227737,
             0,
             0,
             0,
             0
            ],
            [
             0,
             0,
             0,
             0,
             0,
             0.3073982894420624,
             0.5306427478790283,
             0.696591854095459,
             0.7627156376838684,
             0.7986375093460083
            ],
            [
             0,
             0,
             0,
             0,
             0,
             0,
             0.7500767111778259,
             0.8224263787269592,
             0.8438576459884644,
             0.857578456401825
            ],
            [
             0,
             0,
             0,
             0,
             0,
             0.7251828908920288,
             0.8359429836273193,
             0.8569748401641846,
             0.877295970916748,
             0.880631148815155
            ],
            [
             -0.4647992253303528,
             -0.32541942596435547,
             -0.09201113879680634,
             0.1603827327489853,
             0.396648108959198,
             0.6923264265060425,
             0.8329603672027588,
             0.869108259677887,
             0.8952281475067139,
             0.8895421624183655
            ]
           ]
          }
         ]
        },
        {
         "data": [
          {
           "type": "heatmap",
           "z": [
            [
             -0.45100268721580505,
             -0.4571306109428406,
             -0.3937545120716095,
             0.10496080666780472,
             0.6999588012695312,
             0.8342030048370361,
             0.8318775296211243,
             0.8628352284431458,
             0.8864462971687317,
             0.8881237506866455
            ],
            [
             -0.37499165534973145,
             -0.38307836651802063,
             -0.41399142146110535,
             -0.1378510743379593,
             0.5981478691101074,
             0.8049240112304688,
             0.820716381072998,
             0.8683799505233765,
             0.8987135887145996,
             0.8918978571891785
            ],
            [
             -0.2855466902256012,
             -0.2650712728500366,
             -0.38307836651802063,
             -0.25141242146492004,
             0.5435680150985718,
             0.8464612364768982,
             0.826419472694397,
             0.8393301963806152,
             0.8781331777572632,
             0.8805766105651855
            ],
            [
             0.1797841489315033,
             -0.2855466902256012,
             -0.37499165534973145,
             -0.3458077609539032,
             0.21818141639232635,
             0.6729191541671753,
             0.7421000003814697,
             0.7180197238922119,
             0,
             0
            ],
            [
             -0.09137598425149918,
             -0.2650712728500366,
             -0.38307836651802063,
             -0.41399142146110535,
             -0.11978048086166382,
             0.2606847286224365,
             0.4811258316040039,
             0,
             0,
             0
            ],
            [
             -0.42966341972351074,
             -0.5010314583778381,
             -0.45968711376190186,
             -0.22959096729755402,
             -0.0959889143705368,
             -0.026988225057721138,
             0,
             0,
             0,
             0
            ],
            [
             0,
             0,
             0,
             0,
             0,
             0.3136860132217407,
             0.5398200154304504,
             0.7051123380661011,
             0.7704148292541504,
             0.8057669997215271
            ],
            [
             0,
             0,
             0,
             0,
             0,
             0,
             0.7567923069000244,
             0.8280209302902222,
             0.8491230010986328,
             0.8625982403755188
            ],
            [
             0,
             0,
             0,
             0,
             0,
             0.7321323156356812,
             0.8409334421157837,
             0.8616775274276733,
             0.881550669670105,
             0.8848533034324646
            ],
            [
             -0.47622308135032654,
             -0.3347749412059784,
             -0.0959889143705368,
             0.16341327130794525,
             0.40446335077285767,
             0.7000489234924316,
             0.8382107019424438,
             0.8735504150390625,
             0.8989101648330688,
             0.8934652209281921
            ]
           ]
          }
         ]
        },
        {
         "data": [
          {
           "type": "heatmap",
           "z": [
            [
             -0.4627179205417633,
             -0.4687444567680359,
             -0.4040006995201111,
             0.10699325054883957,
             0.7070572376251221,
             0.8391287326812744,
             0.8370751142501831,
             0.8674691319465637,
             0.8904432654380798,
             0.8921428918838501
            ],
            [
             -0.3867146670818329,
             -0.3944985866546631,
             -0.425060510635376,
             -0.1428731381893158,
             0.6056820154190063,
             0.8106042742729187,
             0.826286256313324,
             0.872896671295166,
             0.9022722244262695,
             0.8957849740982056
            ],
            [
             -0.2969374656677246,
             -0.27518942952156067,
             -0.3944985866546631,
             -0.2599532902240753,
             0.551129937171936,
             0.8513904809951782,
             0.8321129083633423,
             0.8448991775512695,
             0.8825209736824036,
             0.8849873542785645
            ],
            [
             0.17875762283802032,
             -0.2969374656677246,
             -0.3867146670818329,
             -0.35636720061302185,
             0.22132863104343414,
             0.6813149452209473,
             0.7501857280731201,
             0.7272316217422485,
             0,
             0
            ],
            [
             -0.09754110872745514,
             -0.27518942952156067,
             -0.3944985866546631,
             -0.425060510635376,
             -0.1242140457034111,
             0.26691198348999023,
             0.4917769432067871,
             0,
             0,
             0
            ],
            [
             -0.4411539137363434,
             -0.5130489468574524,
             -0.471391886472702,
             -0.2374909520149231,
             -0.0996273010969162,
             -0.027174441143870354,
             0,
             0,
             0,
             0
            ],
            [
             0,
             0,
             0,
             0,
             0,
             0.3202640414237976,
             0.5490784049034119,
             0.7135014533996582,
             0.7779078483581543,
             0.8126564025878906
            ],
            [
             0,
             0,
             0,
             0,
             0,
             0,
             0.7633569836616516,
             0.8334211111068726,
             0.8541831970214844,
             0.867408275604248
            ],
            [
             0,
             0,
             0,
             0,
             0,
             0.7389390468597412,
             0.8457411527633667,
             0.866188645362854,
             0.8856180906295776,
             0.8888863921165466
            ],
            [
             -0.48733988404273987,
             -0.34384027123451233,
             -0.0996273010969162,
             0.16682815551757812,
             0.41249772906303406,
             0.7076583504676819,
             0.8432697653770447,
             0.8778026103973389,
             0.9024227261543274,
             0.8972082734107971
            ]
           ]
          }
         ]
        },
        {
         "data": [
          {
           "type": "heatmap",
           "z": [
            [
             -0.47413957118988037,
             -0.4800596833229065,
             -0.4139716327190399,
             0.10934567451477051,
             0.7140207290649414,
             0.8438714146614075,
             0.842082142829895,
             0.8719062805175781,
             0.8942562341690063,
             0.8959730863571167
            ],
            [
             -0.3982071578502655,
             -0.40567469596862793,
             -0.4358554780483246,
             -0.1476431041955948,
             0.6131507754325867,
             0.8160886168479919,
             0.8316534757614136,
             0.8772168755531311,
             0.9056643843650818,
             0.8994878530502319
            ],
            [
             -0.30820274353027344,
             -0.28514790534973145,
             -0.40567469596862793,
             -0.2682529389858246,
             0.5586923360824585,
             0.8561242818832397,
             0.837590754032135,
             0.8502435088157654,
             0.8867073059082031,
             0.8891891241073608
            ],
            [
             0.17772400379180908,
             -0.30820274353027344,
             -0.3982071578502655,
             -0.36666855216026306,
             0.22474868595600128,
             0.6895805597305298,
             0.7580586671829224,
             0.7362310290336609,
             0,
             0
            ],
            [
             -0.10359194874763489,
             -0.28514790534973145,
             -0.40567469596862793,
             -0.4358554780483246,
             -0.12832707166671753,
             0.27350538969039917,
             0.502582311630249,
             0,
             0,
             0
            ],
            [
             -0.4523979723453522,
             -0.5247870683670044,
             -0.48283496499061584,
             -0.24517077207565308,
             -0.10295078158378601,
             -0.026945607736706734,
             0,
             0,
             0,
             0
            ],
            [
             0,
             0,
             0,
             0,
             0,
             0.32709047198295593,
             0.558374285697937,
             0.7217326164245605,
             0.7851791977882385,
             0.819297194480896
            ],
            [
             0,
             0,
             0,
             0,
             0,
             0,
             0.7697583436965942,
             0.8386248350143433,
             0.8590387105941772,
             0.8720110058784485
            ],
            [
             0,
             0,
             0,
             0,
             0,
             0.7455890774726868,
             0.8503665328025818,
             0.8705108165740967,
             0.889502763748169,
             0.8927351236343384
            ],
            [
             -0.49816158413887024,
             -0.3526321351528168,
             -0.10295078158378601,
             0.1705923229455948,
             0.42070668935775757,
             0.7151329517364502,
             0.8481369614601135,
             0.8818686604499817,
             0.9057713747024536,
             0.9007768034934998
            ]
           ]
          }
         ]
        },
        {
         "data": [
          {
           "type": "heatmap",
           "z": [
            [
             -0.4852787256240845,
             -0.491087943315506,
             -0.42368173599243164,
             0.11198508739471436,
             0.7208337187767029,
             0.8484320640563965,
             0.8468981981277466,
             0.8761502504348755,
             0.8978908061981201,
             0.8996203541755676
            ],
            [
             -0.409476637840271,
             -0.41661641001701355,
             -0.4463883936405182,
             -0.1521834284067154,
             0.6205302476882935,
             0.8213752508163452,
             0.8368170857429504,
             0.8813449740409851,
             0.90889573097229,
             0.9030128717422485
            ],
            [
             -0.31934282183647156,
             -0.2949552536010742,
             -0.41661641001701355,
             -0.27632805705070496,
             0.5662270188331604,
             0.8606650233268738,
             0.8428528308868408,
             0.855364203453064,
             0.8906976580619812,
             0.8931882381439209
            ],
            [
             0.17667213082313538,
             -0.31934282183647156,
             -0.409476637840271,
             -0.3767254650592804,
             0.22840991616249084,
             0.6976934671401978,
             0.7657040953636169,
             0.7449938058853149,
             0,
             0
            ],
            [
             -0.10954289883375168,
             -0.2949552536010742,
             -0.41661641001701355,
             -0.4463883936405182,
             -0.13214373588562012,
             0.2804226875305176,
             0.5134865641593933,
             0,
             0,
             0
            ],
            [
             -0.46340352296829224,
             -0.5362510085105896,
             -0.49402353167533875,
             -0.25264739990234375,
             -0.10598435252904892,
             -0.026333218440413475,
             0,
             0,
             0,
             0
            ],
            [
             0,
             0,
             0,
             0,
             0,
             0.3341234028339386,
             0.5676659941673279,
             0.7297828197479248,
             0.7922167778015137,
             0.82568359375
            ],
            [
             0,
             0,
             0,
             0,
             0,
             0,
             0.775985598564148,
             0.8436309695243835,
             0.8636913299560547,
             0.8764099478721619
            ],
            [
             0,
             0,
             0,
             0,
             0,
             0.752070426940918,
             0.8548111319541931,
             0.8746476769447327,
             0.8932098150253296,
             0.8964049816131592
            ],
            [
             -0.5087003111839294,
             -0.3611675798892975,
             -0.10598435252904892,
             0.1746702492237091,
             0.429046630859375,
             0.7224536538124084,
             0.8528131246566772,
             0.8857531547546387,
             0.9089618921279907,
             0.9041764736175537
            ]
           ]
          }
         ]
        },
        {
         "data": [
          {
           "type": "heatmap",
           "z": [
            [
             -0.4961460828781128,
             -0.5018405318260193,
             -0.4331454932689667,
             0.11487839370965958,
             0.7274829149246216,
             0.852812647819519,
             0.8515243530273438,
             0.8802053928375244,
             0.9013528823852539,
             0.9030911326408386
            ],
            [
             -0.4205304980278015,
             -0.4273330867290497,
             -0.4566715657711029,
             -0.15651649236679077,
             0.6277990341186523,
             0.8264637589454651,
             0.841777503490448,
             0.8852856755256653,
             0.9119724035263062,
             0.9063663482666016
            ],
            [
             -0.3303579092025757,
             -0.30461999773979187,
             -0.4273330867290497,
             -0.2841956913471222,
             0.5737079381942749,
             0.8650160431861877,
             0.847900390625,
             0.860264003276825,
             0.8944979310035706,
             0.8969912528991699
            ],
            [
             0.17559145390987396,
             -0.3303579092025757,
             -0.4205304980278015,
             -0.3865514397621155,
             0.23228110373020172,
             0.7056336998939514,
             0.7731099128723145,
             0.7535004019737244,
             0,
             0
            ],
            [
             -0.11540781706571579,
             -0.30461999773979187,
             -0.4273330867290497,
             -0.4566715657711029,
             -0.13568845391273499,
             0.2876213788986206,
             0.524436891078949,
             0,
             0,
             0
            ],
            [
             -0.4741780757904053,
             -0.5474461317062378,
             -0.5049650073051453,
             -0.25993812084198,
             -0.10875336080789566,
             -0.025369251146912575,
             0,
             0,
             0,
             0
            ],
            [
             0,
             0,
             0,
             0,
             0,
             0.34132206439971924,
             0.5769147276878357,
             0.7376320958137512,
             0.7990115284919739,
             0.8318123817443848
            ],
            [
             0,
             0,
             0,
             0,
             0,
             0,
             0.782030463218689,
             0.8484399318695068,
             0.8681439757347107,
             0.8806094527244568
            ],
            [
             0,
             0,
             0,
             0,
             0,
             0.7583731412887573,
             0.8590770959854126,
             0.8786033391952515,
             0.8967447280883789,
             0.8999017477035522
            ],
            [
             -0.5189679265022278,
             -0.36946362257003784,
             -0.10875336080789566,
             0.1790260225534439,
             0.4374757409095764,
             0.7296039462089539,
             0.8572999835014343,
             0.8894612193107605,
             0.9120001792907715,
             0.9074134826660156
            ]
           ]
          }
         ]
        },
        {
         "data": [
          {
           "type": "heatmap",
           "z": [
            [
             -0.5067520141601562,
             -0.5123283267021179,
             -0.44237667322158813,
             0.11799292266368866,
             0.7339574694633484,
             0.8570159673690796,
             0.8559625148773193,
             0.8840766549110413,
             0.9046489000320435,
             0.9063920378684998
            ],
            [
             -0.4313758313655853,
             -0.437833696603775,
             -0.4667164981365204,
             -0.16066406667232513,
             0.6349382400512695,
             0.8313551545143127,
             0.8465366959571838,
             0.8890445828437805,
             0.9149006009101868,
             0.9095551371574402
            ],
            [
             -0.34124821424484253,
             -0.3141498863697052,
             -0.437833696603775,
             -0.2918721139431,
             0.581111490726471,
             0.8691812753677368,
             0.8527359366416931,
             0.864946722984314,
             0.8981148600578308,
             0.9006056189537048
            ],
            [
             0.17447222769260406,
             -0.34124821424484253,
             -0.4313758313655853,
             -0.3961593210697174,
             0.23633135855197906,
             0.713384747505188,
             0.780267596244812,
             0.7617353200912476,
             0,
             0
            ],
            [
             -0.12119995802640915,
             -0.3141498863697052,
             -0.437833696603775,
             -0.4667164981365204,
             -0.13898538053035736,
             0.2950596511363983,
             0.535383939743042,
             0,
             0,
             0
            ],
            [
             -0.48472899198532104,
             -0.5583776235580444,
             -0.5156659483909607,
             -0.26705923676490784,
             -0.1112828478217125,
             -0.024085840210318565,
             0,
             0,
             0,
             0
            ],
            [
             0,
             0,
             0,
             0,
             0,
             0.34864670038223267,
             0.5860853791236877,
             0.7452642917633057,
             0.8055571913719177,
             0.8376830220222473
            ],
            [
             0,
             0,
             0,
             0,
             0,
             0,
             0.7878864407539368,
             0.8530535697937012,
             0.8724005818367004,
             0.8846148252487183
            ],
            [
             0,
             0,
             0,
             0,
             0,
             0.7644892930984497,
             0.8631676435470581,
             0.8823825120925903,
             0.9001134634017944,
             0.9032315611839294
            ],
            [
             -0.5289758443832397,
             -0.3775368332862854,
             -0.1112828478217125,
             0.18362408876419067,
             0.44595399498939514,
             0.7365700006484985,
             0.8616002798080444,
             0.8929983377456665,
             0.9148924946784973,
             0.9104941487312317
            ]
           ]
          }
         ]
        },
        {
         "data": [
          {
           "type": "heatmap",
           "z": [
            [
             -0.5171060562133789,
             -0.5225613713264465,
             -0.4513882100582123,
             0.12129715085029602,
             0.7402486205101013,
             0.8610454201698303,
             0.8602156639099121,
             0.8877695202827454,
             0.9077852368354797,
             0.9095301032066345
            ],
            [
             -0.4420187175273895,
             -0.4481264054775238,
             -0.47653383016586304,
             -0.1646469384431839,
             0.6419313549995422,
             0.8360514640808105,
             0.8510973453521729,
             0.8926275968551636,
             0.9176865220069885,
             0.9125862121582031
            ],
            [
             -0.35201311111450195,
             -0.323551744222641,
             -0.4481264054775238,
             -0.2993726432323456,
             0.5884165167808533,
             0.8731655478477478,
             0.8573632836341858,
             0.8694171905517578,
             0.9015552401542664,
             0.9040388464927673
            ],
            [
             0.1733057200908661,
             -0.35201311111450195,
             -0.4420187175273895,
             -0.4055611193180084,
             0.24053145945072174,
             0.7209330797195435,
             0.7871711254119873,
             0.7696873545646667,
             0,
             0
            ],
            [
             -0.12693145871162415,
             -0.323551744222641,
             -0.4481264054775238,
             -0.47653383016586304,
             -0.14205780625343323,
             0.3026973605155945,
             0.5462822318077087,
             0,
             0,
             0
            ],
            [
             -0.49506279826164246,
             -0.5690505504608154,
             -0.5261327028274536,
             -0.2740260362625122,
             -0.113597072660923,
             -0.02251432277262211,
             0,
             0,
             0,
             0
            ],
            [
             0,
             0,
             0,
             0,
             0,
             0.3560599982738495,
             0.595146119594574,
             0.7526665925979614,
             0.8118502497673035,
             0.8432971239089966
            ],
            [
             0,
             0,
             0,
             0,
             0,
             0,
             0.7935490608215332,
             0.8574743866920471,
             0.8764657974243164,
             0.8884319067001343
            ],
            [
             0,
             0,
             0,
             0,
             0,
             0.7704132199287415,
             0.8670863509178162,
             0.8859905004501343,
             0.9033221006393433,
             0.9064008593559265
            ],
            [
             -0.538734495639801,
             -0.3854026794433594,
             -0.113597072660923,
             0.1884302943944931,
             0.4544444978237152,
             0.7433408498764038,
             0.8657175302505493,
             0.896370530128479,
             0.9176449179649353,
             0.9134249687194824
            ]
           ]
          }
         ]
        },
        {
         "data": [
          {
           "type": "heatmap",
           "z": [
            [
             -0.5272168517112732,
             -0.5325489640235901,
             -0.46019166707992554,
             0.12476100772619247,
             0.7463500499725342,
             0.8649051785469055,
             0.8642876148223877,
             0.8912901878356934,
             0.9107686281204224,
             0.9125124216079712
            ],
            [
             -0.4524647891521454,
             -0.45821821689605713,
             -0.4861332178115845,
             -0.16848480701446533,
             0.6487648487091064,
             0.8405556678771973,
             0.8554633855819702,
             0.8960411548614502,
             0.9203366637229919,
             0.9154664874076843
            ],
            [
             -0.3626517355442047,
             -0.33283162117004395,
             -0.45821821689605713,
             -0.3067116141319275,
             0.5956047773361206,
             0.8769741058349609,
             0.8617871403694153,
             0.8736811876296997,
             0.9048262238502502,
             0.907298743724823
            ],
            [
             0.1720842868089676,
             -0.3626517355442047,
             -0.4524647891521454,
             -0.41476792097091675,
             0.2448536604642868,
             0.7282681465148926,
             0.7938175797462463,
             0.7773488759994507,
             0,
             0
            ],
            [
             -0.13261312246322632,
             -0.33283162117004395,
             -0.45821821689605713,
             -0.4861332178115845,
             -0.14492802321910858,
             0.31049612164497375,
             0.5570908784866333,
             0,
             0,
             0
            ],
            [
             -0.5051853656768799,
             -0.5794690847396851,
             -0.5363708138465881,
             -0.2808527648448944,
             -0.11571896821260452,
             -0.020685270428657532,
             0,
             0,
             0,
             0
            ],
            [
             0,
             0,
             0,
             0,
             0,
             0.3635270595550537,
             0.6040692329406738,
             0.7598296403884888,
             0.8178898692131042,
             0.8486581444740295
            ],
            [
             0,
             0,
             0,
             0,
             0,
             0,
             0.7990156412124634,
             0.8617061972618103,
             0.8803451061248779,
             0.892067015171051
            ],
            [
             0,
             0,
             0,
             0,
             0,
             0.7761410474777222,
             0.8708376884460449,
             0.8894331455230713,
             0.9063771963119507,
             0.9094162583351135
            ],
            [
             -0.5482535362243652,
             -0.39307549595832825,
             -0.11571896821260452,
             0.19341184198856354,
             0.4629133641719818,
             0.7499082088470459,
             0.8696563243865967,
             0.8995837569236755,
             0.9202637076377869,
             0.9162124395370483
            ]
           ]
          }
         ]
        },
        {
         "data": [
          {
           "type": "heatmap",
           "z": [
            [
             -0.5370920896530151,
             -0.5422990322113037,
             -0.46879804134368896,
             0.1283566802740097,
             0.752257227897644,
             0.8686000108718872,
             0.8681830167770386,
             0.8946449160575867,
             0.9136060476303101,
             0.9153461456298828
            ],
            [
             -0.46271851658821106,
             -0.46811550855636597,
             -0.4955233037471771,
             -0.17219527065753937,
             0.6554275751113892,
             0.8448717594146729,
             0.8596394658088684,
             0.8992919325828552,
             0.9228572845458984,
             0.9182032346725464
            ],
            [
             -0.37316301465034485,
             -0.3419942557811737,
             -0.46811550855636597,
             -0.31390175223350525,
             0.602660596370697,
             0.8806127309799194,
             0.8660129904747009,
             0.8777453899383545,
             0.9079352617263794,
             0.9103932976722717
            ],
            [
             0.17080146074295044,
             -0.37316301465034485,
             -0.46271851658821106,
             -0.423789381980896,
             0.24927230179309845,
             0.735382080078125,
             0.800206184387207,
             0.7847161889076233,
             0,
             0
            ],
            [
             -0.13825447857379913,
             -0.3419942557811737,
             -0.46811550855636597,
             -0.4955233037471771,
             -0.14761662483215332,
             0.3184202015399933,
             0.5677739381790161,
             0,
             0,
             0
            ],
            [
             -0.515101432800293,
             -0.5896371603012085,
             -0.5463846921920776,
             -0.2875521183013916,
             -0.11766992509365082,
             -0.018627112731337547,
             0,
             0,
             0,
             0
            ],
            [
             0,
             0,
             0,
             0,
             0,
             0.3710160553455353,
             0.6128309965133667,
             0.7667471170425415,
             0.8236772418022156,
             0.8537713289260864
            ],
            [
             0,
             0,
             0,
             0,
             0,
             0,
             0.80428546667099,
             0.8657535910606384,
             0.8840445876121521,
             0.895527184009552
            ],
            [
             0,
             0,
             0,
             0,
             0,
             0.7816710472106934,
             0.8744266033172607,
             0.8927162885665894,
             0.909285306930542,
             0.9122846126556396
            ],
            [
             -0.5575417280197144,
             -0.4005683958530426,
             -0.11766992509365082,
             0.19853822886943817,
             0.4713304042816162,
             0.7562661170959473,
             0.8734214305877686,
             0.9026447534561157,
             0.9227551817893982,
             0.9188631772994995
            ]
           ]
          }
         ]
        },
        {
         "data": [
          {
           "type": "heatmap",
           "z": [
            [
             -0.54673832654953,
             -0.5518186688423157,
             -0.477215975522995,
             0.13205845654010773,
             0.7579677104949951,
             0.8721350431442261,
             0.8719070553779602,
             0.8978404998779297,
             0.9163040518760681,
             0.9180384874343872
            ],
            [
             -0.4727835953235626,
             -0.4778233468532562,
             -0.5047112703323364,
             -0.17579446732997894,
             0.6619112491607666,
             0.8490046262741089,
             0.8636310696601868,
             0.9023866653442383,
             0.9252546429634094,
             0.9208032488822937
            ],
            [
             -0.38354483246803284,
             -0.35104331374168396,
             -0.4778233468532562,
             -0.32095420360565186,
             0.6095711588859558,
             0.8840873837471008,
             0.8700470328330994,
             0.8816168904304504,
             0.9108898639678955,
             0.9133304357528687
            ],
            [
             0.16945196688175201,
             -0.38354483246803284,
             -0.4727835953235626,
             -0.43263372778892517,
             0.2537640929222107,
             0.7422700524330139,
             0.8063386082649231,
             0.7917882204055786,
             0,
             0
            ],
            [
             -0.1438632607460022,
             -0.35104331374168396,
             -0.4778233468532562,
             -0.5047112703323364,
             -0.15014229714870453,
             0.3264365792274475,
             0.5782999396324158,
             0,
             0,
             0
            ],
            [
             -0.5248154401779175,
             -0.5995581150054932,
             -0.5561786890029907,
             -0.2941349744796753,
             -0.11946934461593628,
             -0.016366450116038322,
             0,
             0,
             0,
             0
            ],
            [
             0,
             0,
             0,
             0,
             0,
             0.37849849462509155,
             0.6214116215705872,
             0.7734155654907227,
             0.8292158246040344,
             0.8586432933807373
            ],
            [
             0,
             0,
             0,
             0,
             0,
             0,
             0.809359073638916,
             0.8696218729019165,
             0.8875706791877747,
             0.8988195061683655
            ],
            [
             0,
             0,
             0,
             0,
             0,
             0.7870028018951416,
             0.8778584003448486,
             0.8958463668823242,
             0.9120528101921082,
             0.9150125980377197
            ],
            [
             -0.5666065216064453,
             -0.40789270401000977,
             -0.11946934461593628,
             0.20378148555755615,
             0.47966882586479187,
             0.7624111175537109,
             0.8770184516906738,
             0.905559778213501,
             0.9251253008842468,
             0.9213836789131165
            ]
           ]
          }
         ]
        },
        {
         "data": [
          {
           "type": "heatmap",
           "z": [
            [
             -0.5561611652374268,
             -0.5611139535903931,
             -0.48545345664024353,
             0.13584353029727936,
             0.7634811401367188,
             0.875515878200531,
             0.8754655122756958,
             0.900883674621582,
             0.91886967420578,
             0.9205964803695679
            ],
            [
             -0.4826626777648926,
             -0.4873455762863159,
             -0.5137031078338623,
             -0.17929601669311523,
             0.6682097911834717,
             0.8529596328735352,
             0.8674443960189819,
             0.9053325057029724,
             0.9275349974632263,
             0.9232736825942993
            ],
            [
             -0.3937952220439911,
             -0.35998111963272095,
             -0.4873455762863159,
             -0.32787829637527466,
             0.6163263320922852,
             0.8874046206474304,
             0.8738961815834045,
             0.885303258895874,
             0.9136974215507507,
             0.9161182641983032
            ],
            [
             0.1680317372083664,
             -0.3937952220439911,
             -0.4826626777648926,
             -0.44130799174308777,
             0.2583083212375641,
             0.7489292621612549,
             0.812218189239502,
             0.7985669374465942,
             0,
             0
            ],
            [
             -0.14944574236869812,
             -0.35998111963272095,
             -0.4873455762863159,
             -0.5137031078338623,
             -0.15252168476581573,
             0.3345158100128174,
             0.5886426568031311,
             0,
             0,
             0
            ],
            [
             -0.5343302488327026,
             -0.6092351675033569,
             -0.5657559633255005,
             -0.30061036348342896,
             -0.1211344450712204,
             -0.013927393592894077,
             0,
             0,
             0,
             0
            ],
            [
             0,
             0,
             0,
             0,
             0,
             0.38594937324523926,
             0.6297956705093384,
             0.7798343300819397,
             0.8345105051994324,
             0.8632817268371582
            ],
            [
             0,
             0,
             0,
             0,
             0,
             0,
             0.8142386674880981,
             0.8733168840408325,
             0.8909304141998291,
             0.9019514322280884
            ],
            [
             0,
             0,
             0,
             0,
             0,
             0.792137622833252,
             0.8811386823654175,
             0.8988298773765564,
             0.9146866202354431,
             0.9176070094108582
            ],
            [
             -0.5754542350769043,
             -0.415057897567749,
             -0.1211344450712204,
             0.2091163694858551,
             0.487905889749527,
             0.7683420181274414,
             0.8804535269737244,
             0.9083356261253357,
             0.9273803234100342,
             0.9237805604934692
            ]
           ]
          }
         ]
        },
        {
         "data": [
          {
           "type": "heatmap",
           "z": [
            [
             -0.5653650164604187,
             -0.5701895952224731,
             -0.4935165345668793,
             0.1396915763616562,
             0.768798291683197,
             0.8787482976913452,
             0.8788643479347229,
             0.903781533241272,
             0.9213094711303711,
             0.9230271577835083
            ],
            [
             -0.4923575520515442,
             -0.4966851770877838,
             -0.5225037932395935,
             -0.18271160125732422,
             0.6743193864822388,
             0.8567427396774292,
             0.8710857629776001,
             0.9081364274024963,
             0.9297043085098267,
             0.9256212115287781
            ],
            [
             -0.40391120314598083,
             -0.36880919337272644,
             -0.4966851770877838,
             -0.33468160033226013,
             0.6229184865951538,
             0.8905707597732544,
             0.8775675296783447,
             0.8888124823570251,
             0.916365385055542,
             0.9187644720077515
            ],
            [
             0.16653789579868317,
             -0.40391120314598083,
             -0.4923575520515442,
             -0.4498176574707031,
             0.2628869414329529,
             0.7553591728210449,
             0.8178501129150391,
             0.8050568103790283,
             0,
             0
            ],
            [
             -0.15500642359256744,
             -0.36880919337272644,
             -0.4966851770877838,
             -0.5225037932395935,
             -0.15476900339126587,
             0.34263116121292114,
             0.5987805724143982,
             0,
             0,
             0
            ],
            [
             -0.543648362159729,
             -0.6186707019805908,
             -0.575118899345398,
             -0.30698588490486145,
             -0.1226801648736,
             -0.011331579647958279,
             0,
             0,
             0,
             0
            ],
            [
             0,
             0,
             0,
             0,
             0,
             0.39334696531295776,
             0.6379708051681519,
             0.7860047817230225,
             0.8395676612854004,
             0.8676953315734863
            ],
            [
             0,
             0,
             0,
             0,
             0,
             0,
             0.8189274072647095,
             0.8768450021743774,
             0.8941307663917542,
             0.9049304723739624
            ],
            [
             0,
             0,
             0,
             0,
             0,
             0.7970781326293945,
             0.8842732310295105,
             0.9016731977462769,
             0.9171930551528931,
             0.9200745820999146
            ],
            [
             -0.5840901136398315,
             -0.4220721125602722,
             -0.1226801648736,
             0.21452048420906067,
             0.49602246284484863,
             0.7740591764450073,
             0.883732795715332,
             0.9109787940979004,
             0.9295260906219482,
             0.9260600805282593
            ]
           ]
          }
         ]
        },
        {
         "data": [
          {
           "type": "heatmap",
           "z": [
            [
             -0.5743533372879028,
             -0.5790494680404663,
             -0.5014099478721619,
             0.1435854583978653,
             0.7739217281341553,
             0.8818382620811462,
             0.8821101188659668,
             0.9065409898757935,
             0.9236301183700562,
             0.9253374338150024
            ],
            [
             -0.5018690824508667,
             -0.5058439373970032,
             -0.531116783618927,
             -0.18605050444602966,
             0.6802383661270142,
             0.8603601455688477,
             0.87456214427948,
             0.9108052849769592,
             0.9317684173583984,
             0.9278525114059448
            ],
            [
             -0.41388991475105286,
             -0.3775273561477661,
             -0.5058439373970032,
             -0.3413700759410858,
             0.6293421983718872,
             0.8935925364494324,
             0.8810685873031616,
             0.8921525478363037,
             0.9189010858535767,
             0.921276867389679
            ],
            [
             0.1649688184261322,
             -0.41388991475105286,
             -0.5018690824508667,
             -0.4581666886806488,
             0.2674844264984131,
             0.7615612149238586,
             0.8232406377792358,
             0.8112639784812927,
             0,
             0
            ],
            [
             -0.16054825484752655,
             -0.3775273561477661,
             -0.5058439373970032,
             -0.531116783618927,
             -0.15689636766910553,
             0.350759893655777,
             0.6086963415145874,
             0,
             0,
             0
            ],
            [
             -0.5527713298797607,
             -0.6278670430183411,
             -0.5842693448066711,
             -0.313266783952713,
             -0.1241188570857048,
             -0.008597549982368946,
             0,
             0,
             0,
             0
            ],
            [
             0,
             0,
             0,
             0,
             0,
             0.4006733298301697,
             0.6459283828735352,
             0.7919301986694336,
             0.8443947434425354,
             0.8718934059143066
            ],
            [
             0,
             0,
             0,
             0,
             0,
             0,
             0.8234297037124634,
             0.8802129030227661,
             0.897179126739502,
             0.9077641367912292
            ],
            [
             0,
             0,
             0,
             0,
             0,
             0.8018280267715454,
             0.8872683048248291,
             0.9043830633163452,
             0.9195787906646729,
             0.9224219918251038
            ],
            [
             -0.5925184488296509,
             -0.4289415776729584,
             -0.1241188570857048,
             0.21997445821762085,
             0.5040032267570496,
             0.7795649766921997,
             0.8868627548217773,
             0.9134958982467651,
             0.9315682649612427,
             0.9282285571098328
            ]
           ]
          }
         ]
        },
        {
         "data": [
          {
           "type": "heatmap",
           "z": [
            [
             -0.583128809928894,
             -0.5876964330673218,
             -0.509136974811554,
             0.14751076698303223,
             0.7788548469543457,
             0.884791910648346,
             0.8852093815803528,
             0.9091689586639404,
             0.9258379340171814,
             0.927533745765686
            ],
            [
             -0.5111973285675049,
             -0.5148229598999023,
             -0.5395443439483643,
             -0.18931974470615387,
             0.685966968536377,
             0.8638187050819397,
             0.8778805136680603,
             0.9133461117744446,
             0.9337331056594849,
             0.9299740195274353
            ],
            [
             -0.42372798919677734,
             -0.38613489270210266,
             -0.5148229598999023,
             -0.3479476273059845,
             0.6355944871902466,
             0.8964765071868896,
             0.8844069242477417,
             0.8953315615653992,
             0.921311616897583,
             0.9236627817153931
            ],
            [
             0.16332384943962097,
             -0.42372798919677734,
             -0.5111973285675049,
             -0.4663577377796173,
             0.27208808064460754,
             0.7675383687019348,
             0.8283973336219788,
             0.8171963095664978,
             0,
             0
            ],
            [
             -0.1660725176334381,
             -0.38613489270210266,
             -0.5148229598999023,
             -0.5395443439483643,
             -0.15891310572624207,
             0.35888227820396423,
             0.6183772087097168,
             0,
             0,
             0
            ],
            [
             -0.5616999864578247,
             -0.6368259787559509,
             -0.5932087898254395,
             -0.31945666670799255,
             -0.1254604607820511,
             -0.0057409075088799,
             0,
             0,
             0,
             0
            ],
            [
             0,
             0,
             0,
             0,
             0,
             0.40791386365890503,
             0.6536628603935242,
             0.7976158857345581,
             0.8490003347396851,
             0.875885546207428
            ],
            [
             0,
             0,
             0,
             0,
             0,
             0,
             0.8277506828308105,
             0.8834273815155029,
             0.9000827074050903,
             0.9104598760604858
            ],
            [
             0,
             0,
             0,
             0,
             0,
             0.8063921332359314,
             0.8901298642158508,
             0.906965970993042,
             0.9218500256538391,
             0.924655556678772
            ],
            [
             -0.6007422804832458,
             -0.4356706440448761,
             -0.1254604607820511,
             0.22546228766441345,
             0.5118361711502075,
             0.7848629355430603,
             0.8898501396179199,
             0.9158933162689209,
             0.9335125684738159,
             0.9302919507026672
            ]
           ]
          }
         ]
        },
        {
         "data": [
          {
           "type": "heatmap",
           "z": [
            [
             -0.5916930437088013,
             -0.5961323976516724,
             -0.5166996717453003,
             0.15145599842071533,
             0.7836024165153503,
             0.887615442276001,
             0.8881688117980957,
             0.9116722345352173,
             0.9279391765594482,
             0.9296227097511292
            ],
            [
             -0.5203419923782349,
             -0.5236220955848694,
             -0.547788143157959,
             -0.192524254322052,
             0.6915067434310913,
             0.8671250939369202,
             0.8810480833053589,
             0.9157655835151672,
             0.9356037974357605,
             0.9319919347763062
            ],
            [
             -0.43342161178588867,
             -0.3946297764778137,
             -0.5236220955848694,
             -0.3544166088104248,
             0.641673743724823,
             0.8992292881011963,
             0.8875902891159058,
             0.8983578085899353,
             0.9236039519309998,
             0.9259295463562012
            ],
            [
             0.1616034209728241,
             -0.43342161178588867,
             -0.5203419923782349,
             -0.4743921756744385,
             0.2766876220703125,
             0.7732949256896973,
             0.8333283066749573,
             0.8228628635406494,
             0,
             0
            ],
            [
             -0.17157909274101257,
             -0.3946297764778137,
             -0.5236220955848694,
             -0.547788143157959,
             -0.16082654893398285,
             0.36698198318481445,
             0.6278140544891357,
             0,
             0,
             0
            ],
            [
             -0.5704346895217896,
             -0.6455491781234741,
             -0.6019378304481506,
             -0.32555773854255676,
             -0.12671248614788055,
             -0.0027746635023504496,
             0,
             0,
             0,
             0
            ],
            [
             0,
             0,
             0,
             0,
             0,
             0.41505706310272217,
             0.661171555519104,
             0.8030681014060974,
             0.8533931970596313,
             0.8796817064285278
            ],
            [
             0,
             0,
             0,
             0,
             0,
             0,
             0.8318961262702942,
             0.8864954710006714,
             0.9028487801551819,
             0.9130250811576843
            ],
            [
             0,
             0,
             0,
             0,
             0,
             0.810775876045227,
             0.8928642272949219,
             0.9094283580780029,
             0.9240130186080933,
             0.9267815947532654
            ],
            [
             -0.6087636947631836,
             -0.4422621428966522,
             -0.12671248614788055,
             0.23097048699855804,
             0.519512414932251,
             0.7899580597877502,
             0.8927015066146851,
             0.9181774258613586,
             0.9353642463684082,
             0.9322561621665955
            ]
           ]
          }
         ]
        },
        {
         "data": [
          {
           "type": "heatmap",
           "z": [
            [
             -0.6000472903251648,
             -0.6043589115142822,
             -0.5240989327430725,
             0.15541236102581024,
             0.7881696224212646,
             0.8903149366378784,
             0.8909949660301208,
             0.9140574932098389,
             0.9299398064613342,
             0.9316103458404541
            ],
            [
             -0.5293018817901611,
             -0.5322410464286804,
             -0.5558483600616455,
             -0.19566665589809418,
             0.6968610882759094,
             0.8702862858772278,
             0.8840720653533936,
             0.9180702567100525,
             0.9373856782913208,
             0.9339120984077454
            ],
            [
             -0.44296708703041077,
             -0.40300944447517395,
             -0.5322410464286804,
             -0.3607777953147888,
             0.6475807428359985,
             0.901857316493988,
             0.8906262516975403,
             0.9012391567230225,
             0.9257846474647522,
             0.9280840754508972
            ],
            [
             0.15980887413024902,
             -0.44296708703041077,
             -0.5293018817901611,
             -0.48227038979530334,
             0.2812754809856415,
             0.7788364887237549,
             0.8380424976348877,
             0.8282737135887146,
             0,
             0
            ],
            [
             -0.17706649005413055,
             -0.40300944447517395,
             -0.5322410464286804,
             -0.5558483600616455,
             -0.16264142096042633,
             0.3750457763671875,
             0.6370010375976562,
             0,
             0,
             0
            ],
            [
             -0.5789753198623657,
             -0.6540383100509644,
             -0.6104570627212524,
             -0.33156999945640564,
             -0.12788015604019165,
             0.00029133260250091553,
             0,
             0,
             0,
             0
            ],
            [
             0,
             0,
             0,
             0,
             0,
             0.42209482192993164,
             0.668454110622406,
             0.8082942366600037,
             0.8575828075408936,
             0.8832919001579285
            ],
            [
             0,
             0,
             0,
             0,
             0,
             0,
             0.8358722925186157,
             0.8894243240356445,
             0.905484676361084,
             0.9154669046401978
            ],
            [
             0,
             0,
             0,
             0,
             0,
             0.8149852752685547,
             0.895477294921875,
             0.9117764234542847,
             0.9260736703872681,
             0.9288060665130615
            ],
            [
             -0.616584300994873,
             -0.4487174153327942,
             -0.12788015604019165,
             0.23648881912231445,
             0.5270261764526367,
             0.794856071472168,
             0.8954235911369324,
             0.9203542470932007,
             0.9371285438537598,
             0.934126615524292
            ]
           ]
          }
         ]
        },
        {
         "data": [
          {
           "type": "heatmap",
           "z": [
            [
             -0.6081920862197876,
             -0.61237633228302,
             -0.5313344597816467,
             0.15937359631061554,
             0.79256272315979,
             0.8928964138031006,
             0.8936946392059326,
             0.9163312315940857,
             0.9318455457687378,
             0.9335026144981384
            ],
            [
             -0.5380755066871643,
             -0.5406784415245056,
             -0.5637251138687134,
             -0.19874776899814606,
             0.7020341753959656,
             0.8733091354370117,
             0.8869597911834717,
             0.9202665090560913,
             0.9390838146209717,
             0.9357402920722961
            ],
            [
             -0.45236077904701233,
             -0.4112705886363983,
             -0.5406784415245056,
             -0.36703070998191833,
             0.6533169746398926,
             0.9043669104576111,
             0.8935224413871765,
             0.9039834141731262,
             0.9278602004051208,
             0.9301329255104065
            ],
            [
             0.15794233977794647,
             -0.45236077904701233,
             -0.5380755066871643,
             -0.48999184370040894,
             0.28584593534469604,
             0.7841693162918091,
             0.8425490260124207,
             0.8334395885467529,
             0,
             0
            ],
            [
             -0.18253199756145477,
             -0.4112705886363983,
             -0.5406784415245056,
             -0.5637251138687134,
             -0.16436047852039337,
             0.3830631971359253,
             0.6459354758262634,
             0,
             0,
             0
            ],
            [
             -0.587321400642395,
             -0.662294864654541,
             -0.6187665462493896,
             -0.3374926447868347,
             -0.12896627187728882,
             0.0034497391898185015,
             0,
             0,
             0,
             0
            ],
            [
             0,
             0,
             0,
             0,
             0,
             0.4290212392807007,
             0.6755122542381287,
             0.8133026957511902,
             0.8615787625312805,
             0.8867262005805969
            ],
            [
             0,
             0,
             0,
             0,
             0,
             0,
             0.8396859765052795,
             0.8922207951545715,
             0.907997190952301,
             0.9177922606468201
            ],
            [
             0,
             0,
             0,
             0,
             0,
             0.8190268874168396,
             0.8979752063751221,
             0.9140165448188782,
             0.928037703037262,
             0.9307347536087036
            ],
            [
             -0.6242048740386963,
             -0.455036461353302,
             -0.12896627187728882,
             0.24200943112373352,
             0.5343741774559021,
             0.7995635271072388,
             0.8980229496955872,
             0.9224298000335693,
             0.9388102889060974,
             0.9359087944030762
            ]
           ]
          }
         ]
        },
        {
         "data": [
          {
           "type": "heatmap",
           "z": [
            [
             -0.6161277890205383,
             -0.6201854348182678,
             -0.5384054183959961,
             0.16333575546741486,
             0.7967880964279175,
             0.895365834236145,
             0.8962742686271667,
             0.9184995889663696,
             0.9336618781089783,
             0.9353049993515015
            ],
            [
             -0.5466611385345459,
             -0.5489329099655151,
             -0.5714173913002014,
             -0.20176677405834198,
             0.70703125,
             0.8762004971504211,
             0.8897180557250977,
             0.922360360622406,
             0.9407029151916504,
             0.9374817609786987
            ],
            [
             -0.4615987241268158,
             -0.41940945386886597,
             -0.5489329099655151,
             -0.3731735646724701,
             0.6588857173919678,
             0.9067642688751221,
             0.896286129951477,
             0.9065983295440674,
             0.9298366904258728,
             0.93208247423172
            ],
            [
             0.15600672364234924,
             -0.4615987241268158,
             -0.5466611385345459,
             -0.4975550174713135,
             0.29039549827575684,
             0.7893004417419434,
             0.8468573689460754,
             0.8383713364601135,
             0,
             0
            ],
            [
             -0.18797191977500916,
             -0.41940945386886597,
             -0.5489329099655151,
             -0.5714173913002014,
             -0.1659846305847168,
             0.39102640748023987,
             0.6546172499656677,
             0,
             0,
             0
            ],
            [
             -0.5954720973968506,
             -0.6703203916549683,
             -0.6268664598464966,
             -0.3433232605457306,
             -0.1299719363451004,
             0.006695691961795092,
             0,
             0,
             0,
             0
            ],
            [
             0,
             0,
             0,
             0,
             0,
             0.43583324551582336,
             0.6823495626449585,
             0.8181021809577942,
             0.8653908967971802,
             0.8899942636489868
            ],
            [
             0,
             0,
             0,
             0,
             0,
             0,
             0.8433440327644348,
             0.8948917388916016,
             0.9103933572769165,
             0.9200079441070557
            ],
            [
             0,
             0,
             0,
             0,
             0,
             0.822907567024231,
             0.9003637433052063,
             0.9161543250083923,
             0.9299105405807495,
             0.9325731992721558
            ],
            [
             -0.6316257119178772,
             -0.4612181484699249,
             -0.1299719363451004,
             0.24752691388130188,
             0.5415555238723755,
             0.8040875196456909,
             0.9005059003829956,
             0.9244096279144287,
             0.9404141306877136,
             0.9376077651977539
            ]
           ]
          }
         ]
        },
        {
         "data": [
          {
           "type": "heatmap",
           "z": [
            [
             -0.6238542795181274,
             -0.6277860403060913,
             -0.5453101396560669,
             0.16729691624641418,
             0.8008525371551514,
             0.8977289199829102,
             0.8987401723861694,
             0.920568585395813,
             0.9353939294815063,
             0.9370229244232178
            ],
            [
             -0.5550571084022522,
             -0.5570025444030762,
             -0.5789241790771484,
             -0.20472101867198944,
             0.7118582725524902,
             0.8789670467376709,
             0.8923538327217102,
             0.9243577122688293,
             0.9422475099563599,
             0.9391416311264038
            ],
            [
             -0.47067755460739136,
             -0.42742180824279785,
             -0.5570025444030762,
             -0.3792036473751068,
             0.6642909049987793,
             0.9090551137924194,
             0.8989246487617493,
             0.909091055393219,
             0.9317198991775513,
             0.9339385628700256
            ],
            [
             0.15400539338588715,
             -0.47067755460739136,
             -0.5550571084022522,
             -0.5049578547477722,
             0.29492250084877014,
             0.7942372560501099,
             0.8509768843650818,
             0.8430801630020142,
             0,
             0
            ],
            [
             -0.193381667137146,
             -0.42742180824279785,
             -0.5570025444030762,
             -0.5789241790771484,
             -0.1675127148628235,
             0.3989296555519104,
             0.6630480289459229,
             0,
             0,
             0
            ],
            [
             -0.6034266948699951,
             -0.6781165599822998,
             -0.6347569227218628,
             -0.349058598279953,
             -0.13089631497859955,
             0.01002668496221304,
             0,
             0,
             0,
             0
            ],
            [
             0,
             0,
             0,
             0,
             0,
             0.44252970814704895,
             0.6889708042144775,
             0.8227017521858215,
             0.8690286874771118,
             0.8931056261062622
            ],
            [
             0,
             0,
             0,
             0,
             0,
             0,
             0.8468533754348755,
             0.897443950176239,
             0.9126796126365662,
             0.9221201539039612
            ],
            [
             0,
             0,
             0,
             0,
             0,
             0.8266343474388123,
             0.9026486277580261,
             0.9181956052780151,
             0.9316974878311157,
             0.9343266487121582
            ],
            [
             -0.6388469934463501,
             -0.4672602117061615,
             -0.13089631497859955,
             0.2530381977558136,
             0.5485711097717285,
             0.8084354400634766,
             0.9028787612915039,
             0.9262991547584534,
             0.9419445991516113,
             0.9392282366752625
            ]
           ]
          }
         ]
        },
        {
         "data": [
          {
           "type": "heatmap",
           "z": [
            [
             -0.6313714981079102,
             -0.63517826795578,
             -0.5520467162132263,
             0.17125697433948517,
             0.8047629594802856,
             0.8999912142753601,
             0.9010985493659973,
             0.9225438833236694,
             0.9370466470718384,
             0.9386613368988037
            ],
            [
             -0.5632615089416504,
             -0.5648857355117798,
             -0.5862441062927246,
             -0.207607239484787,
             0.716521680355072,
             0.881615400314331,
             0.8948739171028137,
             0.9262641072273254,
             0.9437218904495239,
             0.940724790096283
            ],
            [
             -0.47959357500076294,
             -0.4353034794330597,
             -0.5648857355117798,
             -0.38511747121810913,
             0.6695371270179749,
             0.9112453460693359,
             0.9014447927474976,
             0.9114686846733093,
             0.9335153698921204,
             0.9357069730758667
            ],
            [
             0.15194231271743774,
             -0.47959357500076294,
             -0.5632615089416504,
             -0.512198269367218,
             0.2994263768196106,
             0.7989875674247742,
             0.8549169898033142,
             0.8475772142410278,
             0,
             0
            ],
            [
             -0.1987561285495758,
             -0.4353034794330597,
             -0.5648857355117798,
             -0.5862441062927246,
             -0.16894283890724182,
             0.40676915645599365,
             0.6712315082550049,
             0,
             0,
             0
            ],
            [
             -0.6111842393875122,
             -0.6856851577758789,
             -0.6424378156661987,
             -0.35469454526901245,
             -0.13173720240592957,
             0.01344203483313322,
             0,
             0,
             0,
             0
            ],
            [
             0,
             0,
             0,
             0,
             0,
             0.44911128282546997,
             0.6953819990158081,
             0.8271108269691467,
             0.872501790523529,
             0.8960695266723633
            ],
            [
             0,
             0,
             0,
             0,
             0,
             0,
             0.8502211570739746,
             0.8998838663101196,
             0.9148622751235962,
             0.9241352081298828
            ],
            [
             0,
             0,
             0,
             0,
             0,
             0.8302142024040222,
             0.9048354029655457,
             0.9201458692550659,
             0.933403491973877,
             0.9360001087188721
            ],
            [
             -0.6458683013916016,
             -0.4731600880622864,
             -0.13173720240592957,
             0.25854140520095825,
             0.555423378944397,
             0.8126150965690613,
             0.9051474928855896,
             0.9281035661697388,
             0.94340580701828,
             0.9407749176025391
            ]
           ]
          }
         ]
        },
        {
         "data": [
          {
           "type": "heatmap",
           "z": [
            [
             -0.6386795043945312,
             -0.6423621773719788,
             -0.5586128830909729,
             0.1752168983221054,
             0.8085263967514038,
             0.9021581411361694,
             0.9033551812171936,
             0.9244309663772583,
             0.9386247992515564,
             0.9402249455451965
            ],
            [
             -0.5712729692459106,
             -0.5725808143615723,
             -0.5933757424354553,
             -0.21042075753211975,
             0.721028208732605,
             0.884151816368103,
             0.8972845077514648,
             0.9280848503112793,
             0.9451301097869873,
             0.9422357678413391
            ],
            [
             -0.4883439540863037,
             -0.44305017590522766,
             -0.5725808143615723,
             -0.3909112811088562,
             0.674629807472229,
             0.9133402705192566,
             0.903853178024292,
             0.913737952709198,
             0.9352282881736755,
             0.9373929500579834
            ],
            [
             0.14982159435749054,
             -0.4883439540863037,
             -0.5712729692459106,
             -0.5192735195159912,
             0.30390793085098267,
             0.8035592436790466,
             0.8586869239807129,
             0.8518735766410828,
             0,
             0
            ],
            [
             -0.2040897011756897,
             -0.44305017590522766,
             -0.5725808143615723,
             -0.5933757424354553,
             -0.17027157545089722,
             0.414542555809021,
             0.679172158241272,
             0,
             0,
             0
            ],
            [
             -0.6187444925308228,
             -0.6930285096168518,
             -0.6499097347259521,
             -0.3602266013622284,
             -0.1324913501739502,
             0.016942311078310013,
             0,
             0,
             0,
             0
            ],
            [
             0,
             0,
             0,
             0,
             0,
             0.4555797874927521,
             0.7015899419784546,
             0.83133864402771,
             0.8758192658424377,
             0.8988947868347168
            ],
            [
             0,
             0,
             0,
             0,
             0,
             0,
             0.8534541726112366,
             0.9022176265716553,
             0.9169474840164185,
             0.9260587692260742
            ],
            [
             0,
             0,
             0,
             0,
             0,
             0.8336542844772339,
             0.9069292545318604,
             0.9220101833343506,
             0.9350332021713257,
             0.9375982284545898
            ],
            [
             -0.6526896357536316,
             -0.4789145290851593,
             -0.1324913501739502,
             0.26403647661209106,
             0.5621158480644226,
             0.8166339993476868,
             0.9073179364204407,
             0.9298278093338013,
             0.9448018074035645,
             0.9422520399093628
            ]
           ]
          }
         ]
        },
        {
         "data": [
          {
           "type": "heatmap",
           "z": [
            [
             -0.6457785367965698,
             -0.649337887763977,
             -0.56500643491745,
             0.17917902767658234,
             0.8121498227119446,
             0.904234766960144,
             0.9055158495903015,
             0.9262349605560303,
             0.9401324987411499,
             0.9417182803153992
            ],
            [
             -0.5790896415710449,
             -0.5800859928131104,
             -0.6003178358078003,
             -0.21315628290176392,
             0.7253848314285278,
             0.8865824341773987,
             0.8995919227600098,
             0.9298247694969177,
             0.9464758634567261,
             0.9436787366867065
            ],
            [
             -0.496925950050354,
             -0.45065775513648987,
             -0.5800859928131104,
             -0.39658069610595703,
             0.6795743703842163,
             0.9153450727462769,
             0.906156063079834,
             0.9159051179885864,
             0.9368635416030884,
             0.9390013813972473
            ],
            [
             0.14764775335788727,
             -0.496925950050354,
             -0.5790896415710449,
             -0.5261812210083008,
             0.3083687722682953,
             0.807960033416748,
             0.8622955083847046,
             0.8559799194335938,
             0,
             0
            ],
            [
             -0.20937643945217133,
             -0.45065775513648987,
             -0.5800859928131104,
             -0.6003178358078003,
             -0.17149481177330017,
             0.4222485423088074,
             0.6868758797645569,
             0,
             0,
             0
            ],
            [
             -0.6261067986488342,
             -0.7001488208770752,
             -0.657173216342926,
             -0.3656499683856964,
             -0.13315454125404358,
             0.020529618486762047,
             0,
             0,
             0,
             0
            ],
            [
             0,
             0,
             0,
             0,
             0,
             0.4619382917881012,
             0.7076014280319214,
             0.8353942632675171,
             0.8789899349212646,
             0.9015897512435913
            ],
            [
             0,
             0,
             0,
             0,
             0,
             0,
             0.8565592169761658,
             0.904451310634613,
             0.9189406633377075,
             0.9278963208198547
            ],
            [
             0,
             0,
             0,
             0,
             0,
             0.8369613289833069,
             0.9089352488517761,
             0.9237934947013855,
             0.9365910291671753,
             0.9391254186630249
            ],
            [
             -0.6593107581138611,
             -0.4845198690891266,
             -0.13315454125404358,
             0.26952439546585083,
             0.5686533451080322,
             0.8204998970031738,
             0.9093955159187317,
             0.9314764738082886,
             0.9461362361907959,
             0.9436637163162231
            ]
           ]
          }
         ]
        },
        {
         "data": [
          {
           "type": "heatmap",
           "z": [
            [
             -0.6526690721511841,
             -0.6561058759689331,
             -0.5712250471115112,
             0.18314622342586517,
             0.8156400322914124,
             0.9062259197235107,
             0.907585859298706,
             0.9279605746269226,
             0.9415740370750427,
             0.9431453943252563
            ],
            [
             -0.586711049079895,
             -0.5874003171920776,
             -0.6070693135261536,
             -0.21580840647220612,
             0.7295984625816345,
             0.8889129757881165,
             0.9018018245697021,
             0.9314886331558228,
             0.9477627873420715,
             0.9450576901435852
            ],
            [
             -0.5053371787071228,
             -0.45812228322029114,
             -0.5874003171920776,
             -0.4021216630935669,
             0.6843765377998352,
             0.9172646403312683,
             0.9083595275878906,
             0.9179762005805969,
             0.9384257197380066,
             0.9405370950698853
            ],
            [
             0.1454252451658249,
             -0.5053371787071228,
             -0.586711049079895,
             -0.5329191088676453,
             0.3128109872341156,
             0.8121976256370544,
             0.8657513856887817,
             0.8599064350128174,
             0,
             0
            ],
            [
             -0.21461057662963867,
             -0.45812228322029114,
             -0.5874003171920776,
             -0.6070693135261536,
             -0.17260801792144775,
             0.4298868775367737,
             0.694348931312561,
             0,
             0,
             0
            ],
            [
             -0.6332712173461914,
             -0.707048773765564,
             -0.664229154586792,
             -0.37095963954925537,
             -0.13372226059436798,
             0.024206513538956642,
             0,
             0,
             0,
             0
            ],
            [
             0,
             0,
             0,
             0,
             0,
             0.46819058060646057,
             0.7134242057800293,
             0.8392865657806396,
             0.8820223808288574,
             0.9041623473167419
            ],
            [
             0,
             0,
             0,
             0,
             0,
             0,
             0.8595427870750427,
             0.906590461730957,
             0.9208474159240723,
             0.9296529293060303
            ],
            [
             0,
             0,
             0,
             0,
             0,
             0.8401421308517456,
             0.9108580946922302,
             0.9255003929138184,
             0.9380812644958496,
             0.9405858516693115
            ],
            [
             -0.6657320261001587,
             -0.48997268080711365,
             -0.13372226059436798,
             0.2750066816806793,
             0.5750406384468079,
             0.8242201209068298,
             0.9113854169845581,
             0.9330537915229797,
             0.9474127292633057,
             0.945013701915741
            ]
           ]
          }
         ]
        }
       ],
       "layout": {
        "autosize": false,
        "height": 400,
        "margin": {
         "b": 50,
         "l": 20,
         "r": 20,
         "t": 50
        },
        "template": {
         "data": {
          "bar": [
           {
            "error_x": {
             "color": "#2a3f5f"
            },
            "error_y": {
             "color": "#2a3f5f"
            },
            "marker": {
             "line": {
              "color": "white",
              "width": 0.5
             },
             "pattern": {
              "fillmode": "overlay",
              "size": 10,
              "solidity": 0.2
             }
            },
            "type": "bar"
           }
          ],
          "barpolar": [
           {
            "marker": {
             "line": {
              "color": "white",
              "width": 0.5
             },
             "pattern": {
              "fillmode": "overlay",
              "size": 10,
              "solidity": 0.2
             }
            },
            "type": "barpolar"
           }
          ],
          "carpet": [
           {
            "aaxis": {
             "endlinecolor": "#2a3f5f",
             "gridcolor": "#C8D4E3",
             "linecolor": "#C8D4E3",
             "minorgridcolor": "#C8D4E3",
             "startlinecolor": "#2a3f5f"
            },
            "baxis": {
             "endlinecolor": "#2a3f5f",
             "gridcolor": "#C8D4E3",
             "linecolor": "#C8D4E3",
             "minorgridcolor": "#C8D4E3",
             "startlinecolor": "#2a3f5f"
            },
            "type": "carpet"
           }
          ],
          "choropleth": [
           {
            "colorbar": {
             "outlinewidth": 0,
             "ticks": ""
            },
            "type": "choropleth"
           }
          ],
          "contour": [
           {
            "colorbar": {
             "outlinewidth": 0,
             "ticks": ""
            },
            "colorscale": [
             [
              0,
              "#0d0887"
             ],
             [
              0.1111111111111111,
              "#46039f"
             ],
             [
              0.2222222222222222,
              "#7201a8"
             ],
             [
              0.3333333333333333,
              "#9c179e"
             ],
             [
              0.4444444444444444,
              "#bd3786"
             ],
             [
              0.5555555555555556,
              "#d8576b"
             ],
             [
              0.6666666666666666,
              "#ed7953"
             ],
             [
              0.7777777777777778,
              "#fb9f3a"
             ],
             [
              0.8888888888888888,
              "#fdca26"
             ],
             [
              1,
              "#f0f921"
             ]
            ],
            "type": "contour"
           }
          ],
          "contourcarpet": [
           {
            "colorbar": {
             "outlinewidth": 0,
             "ticks": ""
            },
            "type": "contourcarpet"
           }
          ],
          "heatmap": [
           {
            "colorbar": {
             "outlinewidth": 0,
             "ticks": ""
            },
            "colorscale": [
             [
              0,
              "#0d0887"
             ],
             [
              0.1111111111111111,
              "#46039f"
             ],
             [
              0.2222222222222222,
              "#7201a8"
             ],
             [
              0.3333333333333333,
              "#9c179e"
             ],
             [
              0.4444444444444444,
              "#bd3786"
             ],
             [
              0.5555555555555556,
              "#d8576b"
             ],
             [
              0.6666666666666666,
              "#ed7953"
             ],
             [
              0.7777777777777778,
              "#fb9f3a"
             ],
             [
              0.8888888888888888,
              "#fdca26"
             ],
             [
              1,
              "#f0f921"
             ]
            ],
            "type": "heatmap"
           }
          ],
          "heatmapgl": [
           {
            "colorbar": {
             "outlinewidth": 0,
             "ticks": ""
            },
            "colorscale": [
             [
              0,
              "#0d0887"
             ],
             [
              0.1111111111111111,
              "#46039f"
             ],
             [
              0.2222222222222222,
              "#7201a8"
             ],
             [
              0.3333333333333333,
              "#9c179e"
             ],
             [
              0.4444444444444444,
              "#bd3786"
             ],
             [
              0.5555555555555556,
              "#d8576b"
             ],
             [
              0.6666666666666666,
              "#ed7953"
             ],
             [
              0.7777777777777778,
              "#fb9f3a"
             ],
             [
              0.8888888888888888,
              "#fdca26"
             ],
             [
              1,
              "#f0f921"
             ]
            ],
            "type": "heatmapgl"
           }
          ],
          "histogram": [
           {
            "marker": {
             "pattern": {
              "fillmode": "overlay",
              "size": 10,
              "solidity": 0.2
             }
            },
            "type": "histogram"
           }
          ],
          "histogram2d": [
           {
            "colorbar": {
             "outlinewidth": 0,
             "ticks": ""
            },
            "colorscale": [
             [
              0,
              "#0d0887"
             ],
             [
              0.1111111111111111,
              "#46039f"
             ],
             [
              0.2222222222222222,
              "#7201a8"
             ],
             [
              0.3333333333333333,
              "#9c179e"
             ],
             [
              0.4444444444444444,
              "#bd3786"
             ],
             [
              0.5555555555555556,
              "#d8576b"
             ],
             [
              0.6666666666666666,
              "#ed7953"
             ],
             [
              0.7777777777777778,
              "#fb9f3a"
             ],
             [
              0.8888888888888888,
              "#fdca26"
             ],
             [
              1,
              "#f0f921"
             ]
            ],
            "type": "histogram2d"
           }
          ],
          "histogram2dcontour": [
           {
            "colorbar": {
             "outlinewidth": 0,
             "ticks": ""
            },
            "colorscale": [
             [
              0,
              "#0d0887"
             ],
             [
              0.1111111111111111,
              "#46039f"
             ],
             [
              0.2222222222222222,
              "#7201a8"
             ],
             [
              0.3333333333333333,
              "#9c179e"
             ],
             [
              0.4444444444444444,
              "#bd3786"
             ],
             [
              0.5555555555555556,
              "#d8576b"
             ],
             [
              0.6666666666666666,
              "#ed7953"
             ],
             [
              0.7777777777777778,
              "#fb9f3a"
             ],
             [
              0.8888888888888888,
              "#fdca26"
             ],
             [
              1,
              "#f0f921"
             ]
            ],
            "type": "histogram2dcontour"
           }
          ],
          "mesh3d": [
           {
            "colorbar": {
             "outlinewidth": 0,
             "ticks": ""
            },
            "type": "mesh3d"
           }
          ],
          "parcoords": [
           {
            "line": {
             "colorbar": {
              "outlinewidth": 0,
              "ticks": ""
             }
            },
            "type": "parcoords"
           }
          ],
          "pie": [
           {
            "automargin": true,
            "type": "pie"
           }
          ],
          "scatter": [
           {
            "fillpattern": {
             "fillmode": "overlay",
             "size": 10,
             "solidity": 0.2
            },
            "type": "scatter"
           }
          ],
          "scatter3d": [
           {
            "line": {
             "colorbar": {
              "outlinewidth": 0,
              "ticks": ""
             }
            },
            "marker": {
             "colorbar": {
              "outlinewidth": 0,
              "ticks": ""
             }
            },
            "type": "scatter3d"
           }
          ],
          "scattercarpet": [
           {
            "marker": {
             "colorbar": {
              "outlinewidth": 0,
              "ticks": ""
             }
            },
            "type": "scattercarpet"
           }
          ],
          "scattergeo": [
           {
            "marker": {
             "colorbar": {
              "outlinewidth": 0,
              "ticks": ""
             }
            },
            "type": "scattergeo"
           }
          ],
          "scattergl": [
           {
            "marker": {
             "colorbar": {
              "outlinewidth": 0,
              "ticks": ""
             }
            },
            "type": "scattergl"
           }
          ],
          "scattermapbox": [
           {
            "marker": {
             "colorbar": {
              "outlinewidth": 0,
              "ticks": ""
             }
            },
            "type": "scattermapbox"
           }
          ],
          "scatterpolar": [
           {
            "marker": {
             "colorbar": {
              "outlinewidth": 0,
              "ticks": ""
             }
            },
            "type": "scatterpolar"
           }
          ],
          "scatterpolargl": [
           {
            "marker": {
             "colorbar": {
              "outlinewidth": 0,
              "ticks": ""
             }
            },
            "type": "scatterpolargl"
           }
          ],
          "scatterternary": [
           {
            "marker": {
             "colorbar": {
              "outlinewidth": 0,
              "ticks": ""
             }
            },
            "type": "scatterternary"
           }
          ],
          "surface": [
           {
            "colorbar": {
             "outlinewidth": 0,
             "ticks": ""
            },
            "colorscale": [
             [
              0,
              "#0d0887"
             ],
             [
              0.1111111111111111,
              "#46039f"
             ],
             [
              0.2222222222222222,
              "#7201a8"
             ],
             [
              0.3333333333333333,
              "#9c179e"
             ],
             [
              0.4444444444444444,
              "#bd3786"
             ],
             [
              0.5555555555555556,
              "#d8576b"
             ],
             [
              0.6666666666666666,
              "#ed7953"
             ],
             [
              0.7777777777777778,
              "#fb9f3a"
             ],
             [
              0.8888888888888888,
              "#fdca26"
             ],
             [
              1,
              "#f0f921"
             ]
            ],
            "type": "surface"
           }
          ],
          "table": [
           {
            "cells": {
             "fill": {
              "color": "#EBF0F8"
             },
             "line": {
              "color": "white"
             }
            },
            "header": {
             "fill": {
              "color": "#C8D4E3"
             },
             "line": {
              "color": "white"
             }
            },
            "type": "table"
           }
          ]
         },
         "layout": {
          "annotationdefaults": {
           "arrowcolor": "#2a3f5f",
           "arrowhead": 0,
           "arrowwidth": 1
          },
          "autotypenumbers": "strict",
          "coloraxis": {
           "colorbar": {
            "outlinewidth": 0,
            "ticks": ""
           }
          },
          "colorscale": {
           "diverging": [
            [
             0,
             "#8e0152"
            ],
            [
             0.1,
             "#c51b7d"
            ],
            [
             0.2,
             "#de77ae"
            ],
            [
             0.3,
             "#f1b6da"
            ],
            [
             0.4,
             "#fde0ef"
            ],
            [
             0.5,
             "#f7f7f7"
            ],
            [
             0.6,
             "#e6f5d0"
            ],
            [
             0.7,
             "#b8e186"
            ],
            [
             0.8,
             "#7fbc41"
            ],
            [
             0.9,
             "#4d9221"
            ],
            [
             1,
             "#276419"
            ]
           ],
           "sequential": [
            [
             0,
             "#0d0887"
            ],
            [
             0.1111111111111111,
             "#46039f"
            ],
            [
             0.2222222222222222,
             "#7201a8"
            ],
            [
             0.3333333333333333,
             "#9c179e"
            ],
            [
             0.4444444444444444,
             "#bd3786"
            ],
            [
             0.5555555555555556,
             "#d8576b"
            ],
            [
             0.6666666666666666,
             "#ed7953"
            ],
            [
             0.7777777777777778,
             "#fb9f3a"
            ],
            [
             0.8888888888888888,
             "#fdca26"
            ],
            [
             1,
             "#f0f921"
            ]
           ],
           "sequentialminus": [
            [
             0,
             "#0d0887"
            ],
            [
             0.1111111111111111,
             "#46039f"
            ],
            [
             0.2222222222222222,
             "#7201a8"
            ],
            [
             0.3333333333333333,
             "#9c179e"
            ],
            [
             0.4444444444444444,
             "#bd3786"
            ],
            [
             0.5555555555555556,
             "#d8576b"
            ],
            [
             0.6666666666666666,
             "#ed7953"
            ],
            [
             0.7777777777777778,
             "#fb9f3a"
            ],
            [
             0.8888888888888888,
             "#fdca26"
            ],
            [
             1,
             "#f0f921"
            ]
           ]
          },
          "colorway": [
           "#636efa",
           "#EF553B",
           "#00cc96",
           "#ab63fa",
           "#FFA15A",
           "#19d3f3",
           "#FF6692",
           "#B6E880",
           "#FF97FF",
           "#FECB52"
          ],
          "font": {
           "color": "#2a3f5f"
          },
          "geo": {
           "bgcolor": "white",
           "lakecolor": "white",
           "landcolor": "white",
           "showlakes": true,
           "showland": true,
           "subunitcolor": "#C8D4E3"
          },
          "hoverlabel": {
           "align": "left"
          },
          "hovermode": "closest",
          "mapbox": {
           "style": "light"
          },
          "paper_bgcolor": "white",
          "plot_bgcolor": "white",
          "polar": {
           "angularaxis": {
            "gridcolor": "#EBF0F8",
            "linecolor": "#EBF0F8",
            "ticks": ""
           },
           "bgcolor": "white",
           "radialaxis": {
            "gridcolor": "#EBF0F8",
            "linecolor": "#EBF0F8",
            "ticks": ""
           }
          },
          "scene": {
           "xaxis": {
            "backgroundcolor": "white",
            "gridcolor": "#DFE8F3",
            "gridwidth": 2,
            "linecolor": "#EBF0F8",
            "showbackground": true,
            "ticks": "",
            "zerolinecolor": "#EBF0F8"
           },
           "yaxis": {
            "backgroundcolor": "white",
            "gridcolor": "#DFE8F3",
            "gridwidth": 2,
            "linecolor": "#EBF0F8",
            "showbackground": true,
            "ticks": "",
            "zerolinecolor": "#EBF0F8"
           },
           "zaxis": {
            "backgroundcolor": "white",
            "gridcolor": "#DFE8F3",
            "gridwidth": 2,
            "linecolor": "#EBF0F8",
            "showbackground": true,
            "ticks": "",
            "zerolinecolor": "#EBF0F8"
           }
          },
          "shapedefaults": {
           "line": {
            "color": "#2a3f5f"
           }
          },
          "ternary": {
           "aaxis": {
            "gridcolor": "#DFE8F3",
            "linecolor": "#A2B1C6",
            "ticks": ""
           },
           "baxis": {
            "gridcolor": "#DFE8F3",
            "linecolor": "#A2B1C6",
            "ticks": ""
           },
           "bgcolor": "white",
           "caxis": {
            "gridcolor": "#DFE8F3",
            "linecolor": "#A2B1C6",
            "ticks": ""
           }
          },
          "title": {
           "x": 0.05
          },
          "xaxis": {
           "automargin": true,
           "gridcolor": "#EBF0F8",
           "linecolor": "#EBF0F8",
           "ticks": "",
           "title": {
            "standoff": 15
           },
           "zerolinecolor": "#EBF0F8",
           "zerolinewidth": 2
          },
          "yaxis": {
           "automargin": true,
           "gridcolor": "#EBF0F8",
           "linecolor": "#EBF0F8",
           "ticks": "",
           "title": {
            "standoff": 15
           },
           "zerolinecolor": "#EBF0F8",
           "zerolinewidth": 2
          }
         }
        },
        "title": {
         "text": "Restored Rewards"
        },
        "updatemenus": [
         {
          "buttons": [
           {
            "args": [
             null,
             {
              "frame": {
               "duration": 10,
               "redraw": true
              },
              "fromcurrent": true,
              "transition": {
               "duration": 1000
              }
             }
            ],
            "label": "Play",
            "method": "animate"
           },
           {
            "args": [
             [
              null
             ],
             {
              "frame": {
               "duration": 0,
               "redraw": false
              },
              "mode": "immediate",
              "transition": {
               "duration": 0
              }
             }
            ],
            "label": "Pause",
            "method": "animate"
           }
          ],
          "type": "buttons"
         }
        ],
        "width": 500
       }
      }
     },
     "metadata": {},
     "output_type": "display_data"
    }
   ],
   "source": [
    "world.ShowRewardsAnimation(dme.rewards)"
   ]
  }
 ],
 "metadata": {
  "kernelspec": {
   "display_name": "pytorch",
   "language": "python",
   "name": "python3"
  },
  "language_info": {
   "codemirror_mode": {
    "name": "ipython",
    "version": 3
   },
   "file_extension": ".py",
   "mimetype": "text/x-python",
   "name": "python",
   "nbconvert_exporter": "python",
   "pygments_lexer": "ipython3",
   "version": "3.9.16"
  }
 },
 "nbformat": 4,
 "nbformat_minor": 2
}

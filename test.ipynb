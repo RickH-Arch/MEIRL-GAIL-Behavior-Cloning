{
 "cells": [
  {
   "cell_type": "code",
   "execution_count": 19,
   "metadata": {},
   "outputs": [],
   "source": [
    "import torch\n",
    "import torch.nn as nn\n",
    "import numpy as np"
   ]
  },
  {
   "cell_type": "code",
   "execution_count": 6,
   "metadata": {},
   "outputs": [],
   "source": [
    "l = np.load(r'wifi_track_data\\dacang\\train_data\\rewards_deep_irl_fc_epoch94_0115.npy')"
   ]
  },
  {
   "cell_type": "code",
   "execution_count": 8,
   "metadata": {},
   "outputs": [
    {
     "data": {
      "text/plain": [
       "array([  1,   4,   9,  16,  25,  36,  49,  64,  81, 100])"
      ]
     },
     "execution_count": 8,
     "metadata": {},
     "output_type": "execute_result"
    }
   ],
   "source": [
    "n = np.array([1,2,3,4,5,6,7,8,9,10])\n",
    "n = n*n\n",
    "n"
   ]
  },
  {
   "cell_type": "code",
   "execution_count": 14,
   "metadata": {},
   "outputs": [
    {
     "name": "stderr",
     "output_type": "stream",
     "text": [
      "Processing:  95%|█████████▌| 2.0000000000000004/2.1 [00:02<00:00,  1.09s/it] \n"
     ]
    }
   ],
   "source": [
    "import time\n",
    "from tqdm import tqdm\n",
    "\n",
    "with tqdm(total=2.1) as pbar:\n",
    "    pbar.set_description('Processing')\n",
    "    # 手动设置：每次更新10个进度，一共更新20次，总共更新total：200\n",
    "    for i in range(20):\n",
    "         # 进行动作, 这里是过0.1s\n",
    "         time.sleep(0.1)\n",
    "         # 进行进度更新, 这里设置10个\n",
    "         pbar.update(0.1)\n"
   ]
  },
  {
   "cell_type": "code",
   "execution_count": null,
   "metadata": {},
   "outputs": [],
   "source": []
  },
  {
   "cell_type": "code",
   "execution_count": 13,
   "metadata": {},
   "outputs": [
    {
     "data": {
      "text/plain": [
       "float"
      ]
     },
     "execution_count": 13,
     "metadata": {},
     "output_type": "execute_result"
    }
   ],
   "source": [
    "delta = np.inf\n",
    "delta = 0.4\n",
    "thre = 0.01\n",
    "type(delta-thre)"
   ]
  },
  {
   "cell_type": "code",
   "execution_count": 3,
   "metadata": {},
   "outputs": [
    {
     "data": {
      "text/plain": [
       "array([1, 1, 1, 2, 2])"
      ]
     },
     "execution_count": 3,
     "metadata": {},
     "output_type": "execute_result"
    }
   ],
   "source": [
    "l = np.array([-1,1,1,2,-2])\n",
    "l.__abs__()"
   ]
  },
  {
   "cell_type": "code",
   "execution_count": 3,
   "metadata": {},
   "outputs": [
    {
     "data": {
      "text/plain": [
       "array([ 0.8862939 ,  0.99071676,  0.89625823,  0.9965055 ,  0.9994608 ,\n",
       "        0.99801046,  0.9996555 ,  0.9997961 ,  0.9992751 ,  0.9997638 ,\n",
       "        0.999875  ,  0.9998925 ,  0.9998398 ,  0.9999213 ,  0.99994034,\n",
       "        0.99991477,  0.9998857 ,  0.9998216 ,  0.9996682 ,  0.9998786 ,\n",
       "        0.99994683,  0.9999605 ,  0.9999542 ,  0.99994695,  0.9999361 ,\n",
       "        0.9999147 ,  0.9998628 ,  0.9997463 ,  0.9995196 ,  0.9999198 ,\n",
       "        0.99995947,  0.9999658 ,  0.9999642 ,  0.999963  ,  0.9999596 ,\n",
       "        0.99988455,  0.9998088 ,  0.9996796 ,  0.9994317 ,  0.99890697,\n",
       "        0.99992895,  0.99996215,  0.9999691 ,  0.9999679 ,  0.9999673 ,\n",
       "        0.9997812 ,  0.999591  ,  0.99914443,  0.9997962 ,  0.9999286 ,\n",
       "        0.99996144,  0.9999698 ,  0.9999729 ,  0.99982285,  0.9996588 ,\n",
       "        0.99926007,  0.9982251 ,  0.9999487 ,  0.9999685 ,  0.9999753 ,\n",
       "        0.99997705,  0.9996964 ,  0.9993139 ,  0.9981888 ,  0.9952026 ,\n",
       "        0.99915457,  0.9999581 ,  0.9999717 ,  0.999976  ,  0.9999767 ,\n",
       "        0.99970907,  0.9992749 ,  0.997761  ,  0.9924018 ,  0.9970532 ,\n",
       "        0.99992806,  0.99995565,  0.9999704 ,  0.9999772 ,  0.9999769 ,\n",
       "        0.9996739 ,  0.999053  ,  0.99645835,  0.9852966 ,  0.9873107 ,\n",
       "        0.99992466,  0.99995613,  0.999966  ,  0.99997133,  0.9999742 ,\n",
       "        0.99997103,  0.9995462 ,  0.99832004,  0.99237305,  0.96041656,\n",
       "        0.77610844, -0.03781635, -0.93363416,  0.97914267,  0.97707975,\n",
       "        0.999939  ,  0.99995893,  0.99996436,  0.9999654 ,  0.9999644 ,\n",
       "        0.99906486, -0.11582803, -0.96265715, -0.999646  ,  0.9801723 ,\n",
       "        0.98334295,  0.97432935,  0.9999385 ,  0.9999584 ,  0.9999627 ,\n",
       "        0.99994993,  0.99983   ,  0.99951077, -0.9935312 , -0.99881685,\n",
       "       -0.988959  ,  0.9846509 ,  0.9863433 ,  0.99992555,  0.99993134,\n",
       "        0.9999251 ,  0.9998942 ,  0.99978316, -0.8003234 , -0.4032365 ,\n",
       "        0.9806383 ,  0.9997996 ,  0.9998629 ,  0.99988174,  0.99984604,\n",
       "        0.9997286 ,  0.15472504,  0.49507883,  0.7153919 ,  0.8147266 ,\n",
       "        0.972201  ,  0.9674979 ,  0.99963933,  0.9996205 ,  0.9995487 ,\n",
       "        0.9992312 ,  0.8413498 ,  0.9101229 ,  0.9251527 ,  0.9644194 ,\n",
       "        0.95705307,  0.9980827 ,  0.99785286,  0.9980353 ,  0.99824584,\n",
       "        0.9224692 ,  0.9536275 ,  0.96120685,  0.9633725 ,  0.9643737 ,\n",
       "        0.9672115 ,  0.96857136,  0.9133799 ,  0.9740356 ,  0.997639  ,\n",
       "        0.99909085,  0.99850136,  0.97474176,  0.97945374,  0.98378277,\n",
       "        0.9826242 ,  0.97850835,  0.7771882 ,  0.9071281 ,  0.99868023,\n",
       "        0.99906546,  0.99867016,  0.9973775 ,  0.99581695,  0.99624187,\n",
       "        0.99671835,  0.9960384 ,  0.9937877 ,  0.9897217 ,  0.9849946 ,\n",
       "        0.98396367,  0.98682004,  0.98513985,  0.4298773 ,  0.79495156,\n",
       "        0.8819018 ,  0.997504  ,  0.9969685 ,  0.9982687 ,  0.99861205,\n",
       "        0.99768776,  0.99612355,  0.99429065,  0.9923522 ,  0.58158475,\n",
       "        0.8580884 ,  0.8911047 ,  0.92797685,  0.99552566,  0.99944174,\n",
       "        0.9995494 ,  0.99938804,  0.9991116 ,  0.9986206 ,  0.9979446 ,\n",
       "        0.99674344,  0.81534076, -0.31053182,  0.9686123 ,  0.9990748 ,\n",
       "        0.9997434 ,  0.99980336,  0.99977887,  0.9987225 ,  0.9979508 ,\n",
       "        0.74940944, -0.9244184 , -0.52611965,  0.90181553,  0.9995103 ,\n",
       "        0.999814  ,  0.99985534,  0.99947494,  0.99928653,  0.9990177 ,\n",
       "        0.9986611 ,  0.33210364,  0.7112115 , -0.76650214, -0.1641738 ,\n",
       "        0.8098518 ,  0.99960554,  0.9997736 ,  0.9998004 ,  0.9997238 ,\n",
       "        0.99966115,  0.9995592 ,  0.99945277,  0.9993056 ,  0.99894345,\n",
       "        0.99803996,  0.5736183 ,  0.76964957,  0.45959994,  0.91333836,\n",
       "        0.99039584,  0.99764574,  0.99871784,  0.99931467,  0.9996875 ,\n",
       "        0.99980843,  0.99981046,  0.99978745,  0.9996454 ,  0.99933213,\n",
       "        0.9985748 ,  0.3472176 ,  0.7593161 ,  0.8240645 ,  0.42812142,\n",
       "        0.86965656,  0.94172   ,  0.93218887,  0.9769005 ,  0.99785215,\n",
       "        0.9997036 ,  0.9998764 ,  0.9999047 ,  0.9998955 ,  0.9997301 ,\n",
       "        0.999462  ,  0.9987998 ,  0.68700606,  0.85722065, -0.704259  ,\n",
       "       -0.3610682 , -0.93713397, -0.80149525,  0.9989995 ,  0.99984676,\n",
       "        0.9999313 ,  0.99994516,  0.9999401 ,  0.99993664,  0.9997639 ,\n",
       "        0.99950445,  0.99880934,  0.57837987,  0.8077486 , -0.9328027 ,\n",
       "       -0.98801684, -0.99939686, -0.9982111 ,  0.9955907 ,  0.99964243,\n",
       "        0.9999137 ,  0.99995553,  0.99996275,  0.9997579 ,  0.99944067,\n",
       "        0.89583635,  0.86578107,  0.71952903,  0.5728018 ,  0.6695086 ,\n",
       "        0.8013619 , -0.951317  , -0.94152117, -0.99749255, -0.99166936,\n",
       "        0.24404569,  0.98875296,  0.9989155 ,  0.9997953 ,  0.999936  ,\n",
       "        0.99996644,  0.99997234,  0.9996937 ,  0.99933314,  0.9257093 ,\n",
       "        0.913215  ,  0.7490191 , -0.8091897 , -0.7899434 , -0.8095099 ,\n",
       "       -0.851146  ,  0.9857083 ,  0.9999511 ,  0.99997014,  0.99997354,\n",
       "        0.99980557,  0.99959105,  0.9991836 ,  0.9431431 ,  0.92924297,\n",
       "        0.7504192 , -0.36390188, -0.09103272,  0.51150864,  0.98298347,\n",
       "        0.9999434 ,  0.99996394,  0.99997073,  0.99996984,  0.9997439 ,\n",
       "        0.99949354,  0.99899685,  0.94983494,  0.9148624 ,  0.500965  ,\n",
       "        0.79453087,  0.27385753,  0.670128  ,  0.89914083,  0.96966606,\n",
       "        0.9909975 ,  0.9999099 ,  0.99994856,  0.9999618 ,  0.9999619 ,\n",
       "        0.9999093 ,  0.9998447 ,  0.99968094,  0.9991924 ,  0.97774404,\n",
       "        0.96336246,  0.6863092 ,  0.83189154,  0.5933033 ,  0.7936145 ,\n",
       "        0.91181386,  0.9744506 ,  0.99328893,  0.9998114 ,  0.999879  ,\n",
       "        0.999926  ,  0.99995035,  0.99995315,  0.9999408 ,  0.9999098 ,\n",
       "        0.9997837 ,  0.9878231 ,  0.97984374,  0.8079481 ,  0.86303747,\n",
       "        0.43967602,  0.54664534,  0.82922983,  0.96876925,  0.9939577 ,\n",
       "        0.9978021 ,  0.99889904,  0.9992316 ,  0.99918425,  0.9992807 ,\n",
       "        0.99991304,  0.9999554 ,  0.99996346,  0.99995   ,  0.9998535 ,\n",
       "        0.9924114 ,  0.84967357,  0.8867526 , -0.15691392,  0.6315535 ,\n",
       "        0.95220464,  0.9897324 ,  0.9964921 ,  0.9977007 ,  0.99700403,\n",
       "        0.9999367 ,  0.9999672 ,  0.9999668 ,  0.9999256 ,  0.9954953 ,\n",
       "        0.89286864,  0.9373389 ,  0.95447195, -0.44495755,  0.4979472 ,\n",
       "        0.92524433,  0.9858251 ,  0.9932717 ,  0.99235064,  0.9998931 ,\n",
       "        0.9999555 ,  0.9999663 ,  0.999954  ,  0.9999158 ,  0.9983074 ,\n",
       "        0.99409074,  0.9748908 ,  0.9794613 ,  0.8383831 ,  0.9700343 ,\n",
       "        0.98880917,  0.99216527,  0.9946587 ,  0.9998584 ,  0.99993354,\n",
       "        0.9999321 ,  0.9999081 ,  0.9998784 ,  0.99984413,  0.99983484,\n",
       "        0.999849  ,  0.99976337,  0.9992921 ,  0.99780643,  0.9948708 ,\n",
       "        0.99081004,  0.9644304 ,  0.9872058 ,  0.9938222 ,  0.9966187 ,\n",
       "        0.9985377 ,  0.9994547 ,  0.99975955,  0.9998594 ,  0.99986166,\n",
       "        0.99979013,  0.99968296,  0.9835917 ,  0.98733175,  0.99368125,\n",
       "        0.9959149 ,  0.9956621 ,  0.9957768 ,  0.9956065 ,  0.9925983 ,\n",
       "        0.9731672 ,  0.9193527 ,  0.95851576,  0.9636674 ,  0.96211886,\n",
       "        0.9856535 ,  0.99395627,  0.9969787 ,  0.9986044 ,  0.9993463 ,\n",
       "        0.99951094,  0.9995469 ,  0.99946606,  0.9991613 ,  0.9985487 ,\n",
       "        0.7546864 ,  0.15431482,  0.8217471 ,  0.9503099 ,  0.99292505,\n",
       "        0.99651664,  0.9983987 ,  0.99909544,  0.99903613,  0.9981682 ,\n",
       "        0.99708825,  0.15170032,  0.9955169 ,  0.99707425,  0.99787545,\n",
       "        0.99190426,  0.9776371 ,  0.9151344 ,  0.34168637,  0.9722516 ,\n",
       "        0.99010164,  0.9944956 ,  0.9945804 ,  0.99465877,  0.994989  ,\n",
       "        0.9815578 ,  0.9305499 ,  0.7610261 ,  0.66209245,  0.52775955,\n",
       "        0.1662962 ,  0.16142473,  0.69912386,  0.9528875 ,  0.9732548 ,\n",
       "        0.98696154,  0.99149954,  0.9910661 ,  0.99099964,  0.99038666,\n",
       "        0.9886569 ,  0.750615  ,  0.75151336,  0.63573647,  0.4991412 ,\n",
       "        0.5228415 ,  0.67593   ,  0.78016895,  0.94751275,  0.96490693,\n",
       "        0.9696934 ,  0.98538864,  0.98454404,  0.98218244,  0.977449  ,\n",
       "        0.96599585,  0.82778114,  0.8777989 ,  0.95067877,  0.95991445,\n",
       "        0.97760683,  0.97683936,  0.9737267 ,  0.96871305,  0.961467  ,\n",
       "        0.9494291 ,  0.9334199 ,  0.91787845,  0.8834023 ,  0.8703848 ,\n",
       "        0.86578655,  0.94228905,  0.9555758 ,  0.95126855,  0.9411644 ,\n",
       "        0.9353446 ,  0.9162139 ,  0.86432445,  0.80763865,  0.82805014,\n",
       "        0.9148703 ,  0.9271371 ,  0.94566494,  0.9494007 ,  0.95289683,\n",
       "        0.93512887,  0.8572331 ,  0.89175946,  0.87311816,  0.8391012 ,\n",
       "        0.87673026,  0.8835083 ,  0.86632764,  0.86595106,  0.92555004,\n",
       "        0.94357425,  0.9346608 ,  0.8943471 ,  0.80538404,  0.7718535 ,\n",
       "        0.62599087,  0.6423085 ,  0.6560974 ,  0.77172387,  0.8788615 ,\n",
       "        0.91448534,  0.8573415 ,  0.68083096,  0.56444967,  0.39239746,\n",
       "        0.46070412,  0.5817677 ,  0.6854085 ,  0.73285717,  0.5137001 ,\n",
       "        0.3172688 ,  0.45393506,  0.21203265,  0.17790107,  0.15341741,\n",
       "        0.1737742 ,  0.34365383,  0.05178728,  0.0625753 ,  0.33720002,\n",
       "        0.20554893, -0.1934805 ], dtype=float32)"
      ]
     },
     "execution_count": 3,
     "metadata": {},
     "output_type": "execute_result"
    }
   ],
   "source": [
    "np.load(r'wifi_track_data\\dacang\\train_data\\rewards_deep_irl_fc_epoch731_0111.npy')[-1]"
   ]
  },
  {
   "cell_type": "code",
   "execution_count": 20,
   "metadata": {},
   "outputs": [],
   "source": [
    "p = np.array([[0,1],[0.5,0.5],[1,0]])"
   ]
  },
  {
   "cell_type": "code",
   "execution_count": 30,
   "metadata": {},
   "outputs": [
    {
     "data": {
      "text/plain": [
       "array([[[0. ],\n",
       "        [1. ]],\n",
       "\n",
       "       [[0.5],\n",
       "        [0.5]],\n",
       "\n",
       "       [[1. ],\n",
       "        [0. ]]])"
      ]
     },
     "execution_count": 30,
     "metadata": {},
     "output_type": "execute_result"
    }
   ],
   "source": [
    "new_p = p[:,:,np.newaxis]\n",
    "new_p"
   ]
  },
  {
   "cell_type": "code",
   "execution_count": 54,
   "metadata": {},
   "outputs": [
    {
     "data": {
      "text/plain": [
       "array([[[  1,   1,   0],\n",
       "        [  0,   0,   0]],\n",
       "\n",
       "       [[  0,   0,  10],\n",
       "        [100,   0,   3]],\n",
       "\n",
       "       [[  1,   2,   0],\n",
       "        [  0,   1,   1]]])"
      ]
     },
     "execution_count": 54,
     "metadata": {},
     "output_type": "execute_result"
    }
   ],
   "source": [
    "d = np.array([[[1,0,1],[0,100,0]],\n",
    "              [[1,0,2],[0, 0, 1]],\n",
    "              [[0,10,0],[0, 3, 1]]])\n",
    "d_swapped = np.transpose(d, (2, 1, 0))\n",
    "d_swapped"
   ]
  },
  {
   "cell_type": "code",
   "execution_count": 55,
   "metadata": {},
   "outputs": [
    {
     "data": {
      "text/plain": [
       "array([[[ 0. ,  0. ,  0. ],\n",
       "        [ 0. ,  0. ,  0. ]],\n",
       "\n",
       "       [[ 0. ,  0. ,  5. ],\n",
       "        [50. ,  0. ,  1.5]],\n",
       "\n",
       "       [[ 1. ,  2. ,  0. ],\n",
       "        [ 0. ,  0. ,  0. ]]])"
      ]
     },
     "execution_count": 55,
     "metadata": {},
     "output_type": "execute_result"
    }
   ],
   "source": [
    "result = p[:,:,np.newaxis]*d_swapped\n",
    "result"
   ]
  },
  {
   "cell_type": "code",
   "execution_count": 56,
   "metadata": {},
   "outputs": [
    {
     "data": {
      "text/plain": [
       "tensor([[ 0.0000,  0.0000,  0.0000],\n",
       "        [50.0000,  0.0000,  6.5000],\n",
       "        [ 1.0000,  2.0000,  0.0000]], dtype=torch.float64)"
      ]
     },
     "execution_count": 56,
     "metadata": {},
     "output_type": "execute_result"
    }
   ],
   "source": [
    "x = result.sum(1)\n",
    "x = torch.from_numpy(x)\n",
    "x"
   ]
  },
  {
   "cell_type": "code",
   "execution_count": 57,
   "metadata": {},
   "outputs": [],
   "source": [
    "initial = np.array([0.3,0.7,0])"
   ]
  },
  {
   "cell_type": "code",
   "execution_count": 58,
   "metadata": {},
   "outputs": [],
   "source": [
    "initial = torch.from_numpy(initial)"
   ]
  },
  {
   "cell_type": "code",
   "execution_count": 13,
   "metadata": {},
   "outputs": [
    {
     "data": {
      "text/plain": [
       "torch.Size([3])"
      ]
     },
     "execution_count": 13,
     "metadata": {},
     "output_type": "execute_result"
    }
   ],
   "source": [
    "initial.shape"
   ]
  },
  {
   "cell_type": "code",
   "execution_count": 63,
   "metadata": {},
   "outputs": [],
   "source": [
    "mu = initial.repeat(2,1)"
   ]
  },
  {
   "cell_type": "code",
   "execution_count": 60,
   "metadata": {},
   "outputs": [
    {
     "data": {
      "text/plain": [
       "tensor([[0.3000, 0.7000, 0.0000],\n",
       "        [0.3000, 0.7000, 0.0000]], dtype=torch.float64)"
      ]
     },
     "execution_count": 60,
     "metadata": {},
     "output_type": "execute_result"
    }
   ],
   "source": [
    "mu_np "
   ]
  },
  {
   "cell_type": "code",
   "execution_count": 64,
   "metadata": {},
   "outputs": [
    {
     "data": {
      "text/plain": [
       "tensor([[ 0.3000,  0.7000,  0.0000],\n",
       "        [35.0000,  0.0000,  4.5500]], dtype=torch.float64)"
      ]
     },
     "execution_count": 64,
     "metadata": {},
     "output_type": "execute_result"
    }
   ],
   "source": [
    "for i in range(1,2):\n",
    "    mu[i,:] = mu[i-1,:]@x\n",
    "mu"
   ]
  },
  {
   "cell_type": "code",
   "execution_count": 62,
   "metadata": {},
   "outputs": [
    {
     "data": {
      "text/plain": [
       "tensor([[ 0.3000,  0.7000,  0.0000],\n",
       "        [35.0000,  0.0000,  4.5500]], dtype=torch.float64)"
      ]
     },
     "execution_count": 62,
     "metadata": {},
     "output_type": "execute_result"
    }
   ],
   "source": []
  },
  {
   "cell_type": "code",
   "execution_count": 65,
   "metadata": {},
   "outputs": [
    {
     "data": {
      "text/plain": [
       "tensor([1.3000, 2.7000, 1.0000], dtype=torch.float64)"
      ]
     },
     "execution_count": 65,
     "metadata": {},
     "output_type": "execute_result"
    }
   ],
   "source": [
    "mu.sum(0)"
   ]
  },
  {
   "cell_type": "code",
   "execution_count": 67,
   "metadata": {},
   "outputs": [
    {
     "data": {
      "text/plain": [
       "1"
      ]
     },
     "execution_count": 67,
     "metadata": {},
     "output_type": "execute_result"
    }
   ],
   "source": [
    "c = (1,2)\n",
    "c[0]"
   ]
  },
  {
   "cell_type": "code",
   "execution_count": 69,
   "metadata": {},
   "outputs": [],
   "source": [
    "reward_mat = np.array([[ 0, 0, 1, 1, 1, 0, 1, 0, 0, 2],\n",
    "                   [ 0, 0, 1, 2, 1, 0, 0, 0, 1, 1],\n",
    "                   [ 0,-1, 0, 1, 0, 0, 0, 0, 0, 1],\n",
    "                   [-1,-1,-1, 0, 0, 0, 0, 0, 0, 0],\n",
    "                   [ 0,-1, 0, 0, 0, 1, 0, 0, 0, 0],\n",
    "                   [ 0, 0, 0, 1, 1, 1, 1, 0, 0, 0],\n",
    "                   [ 0, 0, 1, 1, 1, 2, 1, 1, 0, 0],\n",
    "                   [ 0, 0, 0, 0, 1, 1, 1, 0, 0, 0],\n",
    "                   [ 0, 0, 0, 0, 0, 1, 0, 0, 0,-1],\n",
    "                   [ 0, 0, 0, 0, 0, 0, 0, 0,-1,-2],])"
   ]
  },
  {
   "cell_type": "code",
   "execution_count": 71,
   "metadata": {},
   "outputs": [
    {
     "data": {
      "text/plain": [
       "(100,)"
      ]
     },
     "execution_count": 71,
     "metadata": {},
     "output_type": "execute_result"
    }
   ],
   "source": [
    "reward_mat.reshape(100).shape"
   ]
  },
  {
   "cell_type": "code",
   "execution_count": 2,
   "metadata": {},
   "outputs": [
    {
     "data": {
      "application/vnd.plotly.v1+json": {
       "config": {
        "plotlyServerURL": "https://plot.ly"
       },
       "data": [
        {
         "type": "scatter",
         "x": [
          0,
          1
         ],
         "y": [
          0,
          1
         ]
        }
       ],
       "frames": [
        {
         "data": [
          {
           "type": "scatter",
           "x": [
            1,
            2
           ],
           "y": [
            1,
            2
           ]
          }
         ]
        },
        {
         "data": [
          {
           "type": "scatter",
           "x": [
            1,
            4
           ],
           "y": [
            1,
            4
           ]
          }
         ]
        },
        {
         "data": [
          {
           "type": "scatter",
           "x": [
            3,
            4
           ],
           "y": [
            3,
            4
           ]
          }
         ],
         "layout": {
          "title": {
           "text": "End Title"
          }
         }
        }
       ],
       "layout": {
        "template": {
         "data": {
          "bar": [
           {
            "error_x": {
             "color": "#2a3f5f"
            },
            "error_y": {
             "color": "#2a3f5f"
            },
            "marker": {
             "line": {
              "color": "#E5ECF6",
              "width": 0.5
             },
             "pattern": {
              "fillmode": "overlay",
              "size": 10,
              "solidity": 0.2
             }
            },
            "type": "bar"
           }
          ],
          "barpolar": [
           {
            "marker": {
             "line": {
              "color": "#E5ECF6",
              "width": 0.5
             },
             "pattern": {
              "fillmode": "overlay",
              "size": 10,
              "solidity": 0.2
             }
            },
            "type": "barpolar"
           }
          ],
          "carpet": [
           {
            "aaxis": {
             "endlinecolor": "#2a3f5f",
             "gridcolor": "white",
             "linecolor": "white",
             "minorgridcolor": "white",
             "startlinecolor": "#2a3f5f"
            },
            "baxis": {
             "endlinecolor": "#2a3f5f",
             "gridcolor": "white",
             "linecolor": "white",
             "minorgridcolor": "white",
             "startlinecolor": "#2a3f5f"
            },
            "type": "carpet"
           }
          ],
          "choropleth": [
           {
            "colorbar": {
             "outlinewidth": 0,
             "ticks": ""
            },
            "type": "choropleth"
           }
          ],
          "contour": [
           {
            "colorbar": {
             "outlinewidth": 0,
             "ticks": ""
            },
            "colorscale": [
             [
              0,
              "#0d0887"
             ],
             [
              0.1111111111111111,
              "#46039f"
             ],
             [
              0.2222222222222222,
              "#7201a8"
             ],
             [
              0.3333333333333333,
              "#9c179e"
             ],
             [
              0.4444444444444444,
              "#bd3786"
             ],
             [
              0.5555555555555556,
              "#d8576b"
             ],
             [
              0.6666666666666666,
              "#ed7953"
             ],
             [
              0.7777777777777778,
              "#fb9f3a"
             ],
             [
              0.8888888888888888,
              "#fdca26"
             ],
             [
              1,
              "#f0f921"
             ]
            ],
            "type": "contour"
           }
          ],
          "contourcarpet": [
           {
            "colorbar": {
             "outlinewidth": 0,
             "ticks": ""
            },
            "type": "contourcarpet"
           }
          ],
          "heatmap": [
           {
            "colorbar": {
             "outlinewidth": 0,
             "ticks": ""
            },
            "colorscale": [
             [
              0,
              "#0d0887"
             ],
             [
              0.1111111111111111,
              "#46039f"
             ],
             [
              0.2222222222222222,
              "#7201a8"
             ],
             [
              0.3333333333333333,
              "#9c179e"
             ],
             [
              0.4444444444444444,
              "#bd3786"
             ],
             [
              0.5555555555555556,
              "#d8576b"
             ],
             [
              0.6666666666666666,
              "#ed7953"
             ],
             [
              0.7777777777777778,
              "#fb9f3a"
             ],
             [
              0.8888888888888888,
              "#fdca26"
             ],
             [
              1,
              "#f0f921"
             ]
            ],
            "type": "heatmap"
           }
          ],
          "heatmapgl": [
           {
            "colorbar": {
             "outlinewidth": 0,
             "ticks": ""
            },
            "colorscale": [
             [
              0,
              "#0d0887"
             ],
             [
              0.1111111111111111,
              "#46039f"
             ],
             [
              0.2222222222222222,
              "#7201a8"
             ],
             [
              0.3333333333333333,
              "#9c179e"
             ],
             [
              0.4444444444444444,
              "#bd3786"
             ],
             [
              0.5555555555555556,
              "#d8576b"
             ],
             [
              0.6666666666666666,
              "#ed7953"
             ],
             [
              0.7777777777777778,
              "#fb9f3a"
             ],
             [
              0.8888888888888888,
              "#fdca26"
             ],
             [
              1,
              "#f0f921"
             ]
            ],
            "type": "heatmapgl"
           }
          ],
          "histogram": [
           {
            "marker": {
             "pattern": {
              "fillmode": "overlay",
              "size": 10,
              "solidity": 0.2
             }
            },
            "type": "histogram"
           }
          ],
          "histogram2d": [
           {
            "colorbar": {
             "outlinewidth": 0,
             "ticks": ""
            },
            "colorscale": [
             [
              0,
              "#0d0887"
             ],
             [
              0.1111111111111111,
              "#46039f"
             ],
             [
              0.2222222222222222,
              "#7201a8"
             ],
             [
              0.3333333333333333,
              "#9c179e"
             ],
             [
              0.4444444444444444,
              "#bd3786"
             ],
             [
              0.5555555555555556,
              "#d8576b"
             ],
             [
              0.6666666666666666,
              "#ed7953"
             ],
             [
              0.7777777777777778,
              "#fb9f3a"
             ],
             [
              0.8888888888888888,
              "#fdca26"
             ],
             [
              1,
              "#f0f921"
             ]
            ],
            "type": "histogram2d"
           }
          ],
          "histogram2dcontour": [
           {
            "colorbar": {
             "outlinewidth": 0,
             "ticks": ""
            },
            "colorscale": [
             [
              0,
              "#0d0887"
             ],
             [
              0.1111111111111111,
              "#46039f"
             ],
             [
              0.2222222222222222,
              "#7201a8"
             ],
             [
              0.3333333333333333,
              "#9c179e"
             ],
             [
              0.4444444444444444,
              "#bd3786"
             ],
             [
              0.5555555555555556,
              "#d8576b"
             ],
             [
              0.6666666666666666,
              "#ed7953"
             ],
             [
              0.7777777777777778,
              "#fb9f3a"
             ],
             [
              0.8888888888888888,
              "#fdca26"
             ],
             [
              1,
              "#f0f921"
             ]
            ],
            "type": "histogram2dcontour"
           }
          ],
          "mesh3d": [
           {
            "colorbar": {
             "outlinewidth": 0,
             "ticks": ""
            },
            "type": "mesh3d"
           }
          ],
          "parcoords": [
           {
            "line": {
             "colorbar": {
              "outlinewidth": 0,
              "ticks": ""
             }
            },
            "type": "parcoords"
           }
          ],
          "pie": [
           {
            "automargin": true,
            "type": "pie"
           }
          ],
          "scatter": [
           {
            "fillpattern": {
             "fillmode": "overlay",
             "size": 10,
             "solidity": 0.2
            },
            "type": "scatter"
           }
          ],
          "scatter3d": [
           {
            "line": {
             "colorbar": {
              "outlinewidth": 0,
              "ticks": ""
             }
            },
            "marker": {
             "colorbar": {
              "outlinewidth": 0,
              "ticks": ""
             }
            },
            "type": "scatter3d"
           }
          ],
          "scattercarpet": [
           {
            "marker": {
             "colorbar": {
              "outlinewidth": 0,
              "ticks": ""
             }
            },
            "type": "scattercarpet"
           }
          ],
          "scattergeo": [
           {
            "marker": {
             "colorbar": {
              "outlinewidth": 0,
              "ticks": ""
             }
            },
            "type": "scattergeo"
           }
          ],
          "scattergl": [
           {
            "marker": {
             "colorbar": {
              "outlinewidth": 0,
              "ticks": ""
             }
            },
            "type": "scattergl"
           }
          ],
          "scattermapbox": [
           {
            "marker": {
             "colorbar": {
              "outlinewidth": 0,
              "ticks": ""
             }
            },
            "type": "scattermapbox"
           }
          ],
          "scatterpolar": [
           {
            "marker": {
             "colorbar": {
              "outlinewidth": 0,
              "ticks": ""
             }
            },
            "type": "scatterpolar"
           }
          ],
          "scatterpolargl": [
           {
            "marker": {
             "colorbar": {
              "outlinewidth": 0,
              "ticks": ""
             }
            },
            "type": "scatterpolargl"
           }
          ],
          "scatterternary": [
           {
            "marker": {
             "colorbar": {
              "outlinewidth": 0,
              "ticks": ""
             }
            },
            "type": "scatterternary"
           }
          ],
          "surface": [
           {
            "colorbar": {
             "outlinewidth": 0,
             "ticks": ""
            },
            "colorscale": [
             [
              0,
              "#0d0887"
             ],
             [
              0.1111111111111111,
              "#46039f"
             ],
             [
              0.2222222222222222,
              "#7201a8"
             ],
             [
              0.3333333333333333,
              "#9c179e"
             ],
             [
              0.4444444444444444,
              "#bd3786"
             ],
             [
              0.5555555555555556,
              "#d8576b"
             ],
             [
              0.6666666666666666,
              "#ed7953"
             ],
             [
              0.7777777777777778,
              "#fb9f3a"
             ],
             [
              0.8888888888888888,
              "#fdca26"
             ],
             [
              1,
              "#f0f921"
             ]
            ],
            "type": "surface"
           }
          ],
          "table": [
           {
            "cells": {
             "fill": {
              "color": "#EBF0F8"
             },
             "line": {
              "color": "white"
             }
            },
            "header": {
             "fill": {
              "color": "#C8D4E3"
             },
             "line": {
              "color": "white"
             }
            },
            "type": "table"
           }
          ]
         },
         "layout": {
          "annotationdefaults": {
           "arrowcolor": "#2a3f5f",
           "arrowhead": 0,
           "arrowwidth": 1
          },
          "autotypenumbers": "strict",
          "coloraxis": {
           "colorbar": {
            "outlinewidth": 0,
            "ticks": ""
           }
          },
          "colorscale": {
           "diverging": [
            [
             0,
             "#8e0152"
            ],
            [
             0.1,
             "#c51b7d"
            ],
            [
             0.2,
             "#de77ae"
            ],
            [
             0.3,
             "#f1b6da"
            ],
            [
             0.4,
             "#fde0ef"
            ],
            [
             0.5,
             "#f7f7f7"
            ],
            [
             0.6,
             "#e6f5d0"
            ],
            [
             0.7,
             "#b8e186"
            ],
            [
             0.8,
             "#7fbc41"
            ],
            [
             0.9,
             "#4d9221"
            ],
            [
             1,
             "#276419"
            ]
           ],
           "sequential": [
            [
             0,
             "#0d0887"
            ],
            [
             0.1111111111111111,
             "#46039f"
            ],
            [
             0.2222222222222222,
             "#7201a8"
            ],
            [
             0.3333333333333333,
             "#9c179e"
            ],
            [
             0.4444444444444444,
             "#bd3786"
            ],
            [
             0.5555555555555556,
             "#d8576b"
            ],
            [
             0.6666666666666666,
             "#ed7953"
            ],
            [
             0.7777777777777778,
             "#fb9f3a"
            ],
            [
             0.8888888888888888,
             "#fdca26"
            ],
            [
             1,
             "#f0f921"
            ]
           ],
           "sequentialminus": [
            [
             0,
             "#0d0887"
            ],
            [
             0.1111111111111111,
             "#46039f"
            ],
            [
             0.2222222222222222,
             "#7201a8"
            ],
            [
             0.3333333333333333,
             "#9c179e"
            ],
            [
             0.4444444444444444,
             "#bd3786"
            ],
            [
             0.5555555555555556,
             "#d8576b"
            ],
            [
             0.6666666666666666,
             "#ed7953"
            ],
            [
             0.7777777777777778,
             "#fb9f3a"
            ],
            [
             0.8888888888888888,
             "#fdca26"
            ],
            [
             1,
             "#f0f921"
            ]
           ]
          },
          "colorway": [
           "#636efa",
           "#EF553B",
           "#00cc96",
           "#ab63fa",
           "#FFA15A",
           "#19d3f3",
           "#FF6692",
           "#B6E880",
           "#FF97FF",
           "#FECB52"
          ],
          "font": {
           "color": "#2a3f5f"
          },
          "geo": {
           "bgcolor": "white",
           "lakecolor": "white",
           "landcolor": "#E5ECF6",
           "showlakes": true,
           "showland": true,
           "subunitcolor": "white"
          },
          "hoverlabel": {
           "align": "left"
          },
          "hovermode": "closest",
          "mapbox": {
           "style": "light"
          },
          "paper_bgcolor": "white",
          "plot_bgcolor": "#E5ECF6",
          "polar": {
           "angularaxis": {
            "gridcolor": "white",
            "linecolor": "white",
            "ticks": ""
           },
           "bgcolor": "#E5ECF6",
           "radialaxis": {
            "gridcolor": "white",
            "linecolor": "white",
            "ticks": ""
           }
          },
          "scene": {
           "xaxis": {
            "backgroundcolor": "#E5ECF6",
            "gridcolor": "white",
            "gridwidth": 2,
            "linecolor": "white",
            "showbackground": true,
            "ticks": "",
            "zerolinecolor": "white"
           },
           "yaxis": {
            "backgroundcolor": "#E5ECF6",
            "gridcolor": "white",
            "gridwidth": 2,
            "linecolor": "white",
            "showbackground": true,
            "ticks": "",
            "zerolinecolor": "white"
           },
           "zaxis": {
            "backgroundcolor": "#E5ECF6",
            "gridcolor": "white",
            "gridwidth": 2,
            "linecolor": "white",
            "showbackground": true,
            "ticks": "",
            "zerolinecolor": "white"
           }
          },
          "shapedefaults": {
           "line": {
            "color": "#2a3f5f"
           }
          },
          "ternary": {
           "aaxis": {
            "gridcolor": "white",
            "linecolor": "white",
            "ticks": ""
           },
           "baxis": {
            "gridcolor": "white",
            "linecolor": "white",
            "ticks": ""
           },
           "bgcolor": "#E5ECF6",
           "caxis": {
            "gridcolor": "white",
            "linecolor": "white",
            "ticks": ""
           }
          },
          "title": {
           "x": 0.05
          },
          "xaxis": {
           "automargin": true,
           "gridcolor": "white",
           "linecolor": "white",
           "ticks": "",
           "title": {
            "standoff": 15
           },
           "zerolinecolor": "white",
           "zerolinewidth": 2
          },
          "yaxis": {
           "automargin": true,
           "gridcolor": "white",
           "linecolor": "white",
           "ticks": "",
           "title": {
            "standoff": 15
           },
           "zerolinecolor": "white",
           "zerolinewidth": 2
          }
         }
        },
        "title": {
         "text": "Start Title"
        },
        "updatemenus": [
         {
          "buttons": [
           {
            "args": [
             null
            ],
            "label": "Play",
            "method": "animate"
           }
          ],
          "type": "buttons"
         }
        ],
        "xaxis": {
         "autorange": false,
         "range": [
          0,
          5
         ]
        },
        "yaxis": {
         "autorange": false,
         "range": [
          0,
          5
         ]
        }
       }
      }
     },
     "metadata": {},
     "output_type": "display_data"
    }
   ],
   "source": [
    "import plotly.graph_objects as go\n",
    "\n",
    "fig = go.Figure(\n",
    "    data=[go.Scatter(x=[0, 1], y=[0, 1])],\n",
    "    layout=go.Layout(\n",
    "        xaxis=dict(range=[0, 5], autorange=False),\n",
    "        yaxis=dict(range=[0, 5], autorange=False),\n",
    "        title=\"Start Title\",\n",
    "        updatemenus=[dict(\n",
    "            type=\"buttons\",\n",
    "            buttons=[dict(label=\"Play\",\n",
    "                          method=\"animate\",\n",
    "                          args=[None])])]\n",
    "    ),\n",
    "    frames=[go.Frame(data=[go.Scatter(x=[1, 2], y=[1, 2])]),\n",
    "            go.Frame(data=[go.Scatter(x=[1, 4], y=[1, 4])]),\n",
    "            go.Frame(data=[go.Scatter(x=[3, 4], y=[3, 4])],\n",
    "                     layout=go.Layout(title_text=\"End Title\"))]\n",
    ")\n",
    "\n",
    "fig.show()"
   ]
  }
 ],
 "metadata": {
  "kernelspec": {
   "display_name": "bigdata",
   "language": "python",
   "name": "python3"
  },
  "language_info": {
   "codemirror_mode": {
    "name": "ipython",
    "version": 3
   },
   "file_extension": ".py",
   "mimetype": "text/x-python",
   "name": "python",
   "nbconvert_exporter": "python",
   "pygments_lexer": "ipython3",
   "version": "3.9.16"
  }
 },
 "nbformat": 4,
 "nbformat_minor": 2
}
